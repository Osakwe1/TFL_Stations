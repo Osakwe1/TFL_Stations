{
 "cells": [
  {
   "cell_type": "markdown",
   "metadata": {},
   "source": [
    "# Exploring temperatures on the London Underground 🚇"
   ]
  },
  {
   "cell_type": "markdown",
   "metadata": {},
   "source": [
    "Welcome to my analysis of the average monthly temperatures on Transport for London's (TfL)  underground trains! We all know how important it is to stay cool and comfortable on our commutes, and this project aims to shed light on just how crucial it is to monitor the temperature on these trains 🚇.\n",
    "\n",
    "We'll be taking a closer look at how temperature affects both our comfort as passengers and the functioning of the trains themselves 🌡️. With extreme temperatures, passengers can run into some uncomfortable health issues and even potential delays and safety concerns.\n",
    "\n",
    "That's why we're diving into the importance of monitoring the temperature and exploring the potential impact of climate change on it. By monitoring closely, TfL can proactively address the issue and ensure a safer and more comfortable journey for all 🛠️."
   ]
  },
  {
   "cell_type": "code",
   "execution_count": 251,
   "metadata": {
    "ExecuteTime": {
     "end_time": "2023-02-01T13:21:23.908632Z",
     "start_time": "2023-02-01T13:21:23.884263Z"
    },
    "id": "6ks4XZHqOh-G"
   },
   "outputs": [],
   "source": [
    "import pandas as pd\n",
    "import matplotlib.pyplot as plt\n",
    "import seaborn as sns\n",
    "from datetime import date\n",
    "import plotly.express as px\n",
    "pd.set_option('display.max_rows', None)"
   ]
  },
  {
   "cell_type": "code",
   "execution_count": 252,
   "metadata": {
    "ExecuteTime": {
     "end_time": "2023-02-01T13:21:24.551352Z",
     "start_time": "2023-02-01T13:21:23.917527Z"
    },
    "colab": {
     "base_uri": "https://localhost:8080/",
     "height": 424
    },
    "id": "HnGOVSjpN73v",
    "outputId": "a399ae50-7817-4865-b74e-f0609e9f14ac",
    "scrolled": false
   },
   "outputs": [
    {
     "data": {
      "text/html": [
       "<div>\n",
       "<style scoped>\n",
       "    .dataframe tbody tr th:only-of-type {\n",
       "        vertical-align: middle;\n",
       "    }\n",
       "\n",
       "    .dataframe tbody tr th {\n",
       "        vertical-align: top;\n",
       "    }\n",
       "\n",
       "    .dataframe thead th {\n",
       "        text-align: right;\n",
       "    }\n",
       "</style>\n",
       "<table border=\"1\" class=\"dataframe\">\n",
       "  <thead>\n",
       "    <tr style=\"text-align: right;\">\n",
       "      <th></th>\n",
       "      <th>Year</th>\n",
       "      <th>Month</th>\n",
       "      <th>Bakerloo</th>\n",
       "      <th>Central</th>\n",
       "      <th>Jubilee</th>\n",
       "      <th>Northern</th>\n",
       "      <th>Piccadilly</th>\n",
       "      <th>Victoria</th>\n",
       "      <th>Waterloo_and_City</th>\n",
       "      <th>Subsurface_lines</th>\n",
       "    </tr>\n",
       "  </thead>\n",
       "  <tbody>\n",
       "    <tr>\n",
       "      <th>0</th>\n",
       "      <td>2013</td>\n",
       "      <td>January</td>\n",
       "      <td>21.70</td>\n",
       "      <td>21.00</td>\n",
       "      <td>16.40</td>\n",
       "      <td>19.50</td>\n",
       "      <td>19.30</td>\n",
       "      <td>18.40</td>\n",
       "      <td>16.40</td>\n",
       "      <td>11.90</td>\n",
       "    </tr>\n",
       "    <tr>\n",
       "      <th>1</th>\n",
       "      <td>2013</td>\n",
       "      <td>February</td>\n",
       "      <td>21.50</td>\n",
       "      <td>21.00</td>\n",
       "      <td>17.90</td>\n",
       "      <td>19.80</td>\n",
       "      <td>19.00</td>\n",
       "      <td>18.30</td>\n",
       "      <td>17.10</td>\n",
       "      <td>11.30</td>\n",
       "    </tr>\n",
       "    <tr>\n",
       "      <th>2</th>\n",
       "      <td>2013</td>\n",
       "      <td>March</td>\n",
       "      <td>21.70</td>\n",
       "      <td>20.90</td>\n",
       "      <td>18.20</td>\n",
       "      <td>20.00</td>\n",
       "      <td>18.70</td>\n",
       "      <td>17.70</td>\n",
       "      <td>16.70</td>\n",
       "      <td>11.40</td>\n",
       "    </tr>\n",
       "    <tr>\n",
       "      <th>3</th>\n",
       "      <td>2013</td>\n",
       "      <td>April</td>\n",
       "      <td>23.40</td>\n",
       "      <td>22.80</td>\n",
       "      <td>20.30</td>\n",
       "      <td>21.40</td>\n",
       "      <td>20.30</td>\n",
       "      <td>19.60</td>\n",
       "      <td>18.40</td>\n",
       "      <td>15.30</td>\n",
       "    </tr>\n",
       "    <tr>\n",
       "      <th>4</th>\n",
       "      <td>2013</td>\n",
       "      <td>May</td>\n",
       "      <td>25.40</td>\n",
       "      <td>24.70</td>\n",
       "      <td>21.90</td>\n",
       "      <td>22.90</td>\n",
       "      <td>22.40</td>\n",
       "      <td>21.50</td>\n",
       "      <td>20.30</td>\n",
       "      <td>18.30</td>\n",
       "    </tr>\n",
       "    <tr>\n",
       "      <th>5</th>\n",
       "      <td>2013</td>\n",
       "      <td>June</td>\n",
       "      <td>27.00</td>\n",
       "      <td>26.70</td>\n",
       "      <td>23.10</td>\n",
       "      <td>23.70</td>\n",
       "      <td>24.20</td>\n",
       "      <td>23.30</td>\n",
       "      <td>22.10</td>\n",
       "      <td>21.30</td>\n",
       "    </tr>\n",
       "    <tr>\n",
       "      <th>6</th>\n",
       "      <td>2013</td>\n",
       "      <td>July</td>\n",
       "      <td>29.70</td>\n",
       "      <td>30.00</td>\n",
       "      <td>26.30</td>\n",
       "      <td>25.90</td>\n",
       "      <td>27.50</td>\n",
       "      <td>26.50</td>\n",
       "      <td>24.90</td>\n",
       "      <td>26.30</td>\n",
       "    </tr>\n",
       "    <tr>\n",
       "      <th>7</th>\n",
       "      <td>2013</td>\n",
       "      <td>August</td>\n",
       "      <td>29.90</td>\n",
       "      <td>30.00</td>\n",
       "      <td>26.10</td>\n",
       "      <td>26.20</td>\n",
       "      <td>27.40</td>\n",
       "      <td>26.60</td>\n",
       "      <td>25.10</td>\n",
       "      <td>25.30</td>\n",
       "    </tr>\n",
       "    <tr>\n",
       "      <th>8</th>\n",
       "      <td>2013</td>\n",
       "      <td>September</td>\n",
       "      <td>28.90</td>\n",
       "      <td>28.20</td>\n",
       "      <td>24.50</td>\n",
       "      <td>25.10</td>\n",
       "      <td>26.10</td>\n",
       "      <td>25.10</td>\n",
       "      <td>23.80</td>\n",
       "      <td>22.40</td>\n",
       "    </tr>\n",
       "    <tr>\n",
       "      <th>9</th>\n",
       "      <td>2013</td>\n",
       "      <td>October</td>\n",
       "      <td>27.90</td>\n",
       "      <td>27.10</td>\n",
       "      <td>23.10</td>\n",
       "      <td>24.20</td>\n",
       "      <td>25.10</td>\n",
       "      <td>24.10</td>\n",
       "      <td>23.10</td>\n",
       "      <td>20.40</td>\n",
       "    </tr>\n",
       "    <tr>\n",
       "      <th>10</th>\n",
       "      <td>2013</td>\n",
       "      <td>November</td>\n",
       "      <td>25.40</td>\n",
       "      <td>24.50</td>\n",
       "      <td>20.10</td>\n",
       "      <td>22.10</td>\n",
       "      <td>22.40</td>\n",
       "      <td>21.50</td>\n",
       "      <td>20.90</td>\n",
       "      <td>15.90</td>\n",
       "    </tr>\n",
       "    <tr>\n",
       "      <th>11</th>\n",
       "      <td>2013</td>\n",
       "      <td>December</td>\n",
       "      <td>23.90</td>\n",
       "      <td>23.10</td>\n",
       "      <td>19.70</td>\n",
       "      <td>21.20</td>\n",
       "      <td>21.00</td>\n",
       "      <td>20.00</td>\n",
       "      <td>19.40</td>\n",
       "      <td>14.70</td>\n",
       "    </tr>\n",
       "    <tr>\n",
       "      <th>12</th>\n",
       "      <td>2014</td>\n",
       "      <td>January</td>\n",
       "      <td>23.40</td>\n",
       "      <td>22.70</td>\n",
       "      <td>19.60</td>\n",
       "      <td>20.70</td>\n",
       "      <td>20.60</td>\n",
       "      <td>19.60</td>\n",
       "      <td>19.10</td>\n",
       "      <td>14.30</td>\n",
       "    </tr>\n",
       "    <tr>\n",
       "      <th>13</th>\n",
       "      <td>2014</td>\n",
       "      <td>February</td>\n",
       "      <td>22.90</td>\n",
       "      <td>22.30</td>\n",
       "      <td>18.20</td>\n",
       "      <td>20.20</td>\n",
       "      <td>20.00</td>\n",
       "      <td>19.20</td>\n",
       "      <td>18.70</td>\n",
       "      <td>14.20</td>\n",
       "    </tr>\n",
       "    <tr>\n",
       "      <th>14</th>\n",
       "      <td>2014</td>\n",
       "      <td>March</td>\n",
       "      <td>23.90</td>\n",
       "      <td>23.70</td>\n",
       "      <td>19.50</td>\n",
       "      <td>21.10</td>\n",
       "      <td>21.50</td>\n",
       "      <td>20.60</td>\n",
       "      <td>20.10</td>\n",
       "      <td>16.70</td>\n",
       "    </tr>\n",
       "    <tr>\n",
       "      <th>15</th>\n",
       "      <td>2014</td>\n",
       "      <td>April</td>\n",
       "      <td>25.50</td>\n",
       "      <td>25.10</td>\n",
       "      <td>20.80</td>\n",
       "      <td>22.60</td>\n",
       "      <td>22.90</td>\n",
       "      <td>22.10</td>\n",
       "      <td>21.30</td>\n",
       "      <td>19.10</td>\n",
       "    </tr>\n",
       "    <tr>\n",
       "      <th>16</th>\n",
       "      <td>2014</td>\n",
       "      <td>May</td>\n",
       "      <td>26.10</td>\n",
       "      <td>26.30</td>\n",
       "      <td>21.90</td>\n",
       "      <td>23.40</td>\n",
       "      <td>24.00</td>\n",
       "      <td>23.20</td>\n",
       "      <td>22.20</td>\n",
       "      <td>20.40</td>\n",
       "    </tr>\n",
       "    <tr>\n",
       "      <th>17</th>\n",
       "      <td>2014</td>\n",
       "      <td>June</td>\n",
       "      <td>28.30</td>\n",
       "      <td>28.70</td>\n",
       "      <td>24.50</td>\n",
       "      <td>25.20</td>\n",
       "      <td>26.10</td>\n",
       "      <td>25.10</td>\n",
       "      <td>24.10</td>\n",
       "      <td>23.80</td>\n",
       "    </tr>\n",
       "    <tr>\n",
       "      <th>18</th>\n",
       "      <td>2014</td>\n",
       "      <td>July</td>\n",
       "      <td>29.90</td>\n",
       "      <td>30.50</td>\n",
       "      <td>26.30</td>\n",
       "      <td>27.10</td>\n",
       "      <td>27.80</td>\n",
       "      <td>27.20</td>\n",
       "      <td>25.80</td>\n",
       "      <td>26.20</td>\n",
       "    </tr>\n",
       "    <tr>\n",
       "      <th>19</th>\n",
       "      <td>2014</td>\n",
       "      <td>August</td>\n",
       "      <td>29.80</td>\n",
       "      <td>29.50</td>\n",
       "      <td>25.10</td>\n",
       "      <td>26.80</td>\n",
       "      <td>27.20</td>\n",
       "      <td>26.50</td>\n",
       "      <td>25.20</td>\n",
       "      <td>23.90</td>\n",
       "    </tr>\n",
       "    <tr>\n",
       "      <th>20</th>\n",
       "      <td>2014</td>\n",
       "      <td>September</td>\n",
       "      <td>29.30</td>\n",
       "      <td>29.30</td>\n",
       "      <td>25.10</td>\n",
       "      <td>26.50</td>\n",
       "      <td>26.90</td>\n",
       "      <td>26.10</td>\n",
       "      <td>25.30</td>\n",
       "      <td>23.50</td>\n",
       "    </tr>\n",
       "    <tr>\n",
       "      <th>21</th>\n",
       "      <td>2014</td>\n",
       "      <td>October</td>\n",
       "      <td>28.30</td>\n",
       "      <td>27.70</td>\n",
       "      <td>23.20</td>\n",
       "      <td>25.60</td>\n",
       "      <td>25.40</td>\n",
       "      <td>24.80</td>\n",
       "      <td>23.90</td>\n",
       "      <td>20.60</td>\n",
       "    </tr>\n",
       "    <tr>\n",
       "      <th>22</th>\n",
       "      <td>2014</td>\n",
       "      <td>November</td>\n",
       "      <td>26.90</td>\n",
       "      <td>25.70</td>\n",
       "      <td>20.90</td>\n",
       "      <td>23.90</td>\n",
       "      <td>23.30</td>\n",
       "      <td>23.10</td>\n",
       "      <td>21.70</td>\n",
       "      <td>17.20</td>\n",
       "    </tr>\n",
       "    <tr>\n",
       "      <th>23</th>\n",
       "      <td>2014</td>\n",
       "      <td>December</td>\n",
       "      <td>24.50</td>\n",
       "      <td>23.30</td>\n",
       "      <td>18.50</td>\n",
       "      <td>22.00</td>\n",
       "      <td>21.10</td>\n",
       "      <td>20.90</td>\n",
       "      <td>19.80</td>\n",
       "      <td>13.90</td>\n",
       "    </tr>\n",
       "    <tr>\n",
       "      <th>24</th>\n",
       "      <td>2015</td>\n",
       "      <td>January</td>\n",
       "      <td>23.48</td>\n",
       "      <td>22.03</td>\n",
       "      <td>19.05</td>\n",
       "      <td>21.55</td>\n",
       "      <td>19.98</td>\n",
       "      <td>19.69</td>\n",
       "      <td>18.90</td>\n",
       "      <td>12.90</td>\n",
       "    </tr>\n",
       "    <tr>\n",
       "      <th>25</th>\n",
       "      <td>2015</td>\n",
       "      <td>February</td>\n",
       "      <td>22.75</td>\n",
       "      <td>21.92</td>\n",
       "      <td>19.18</td>\n",
       "      <td>21.11</td>\n",
       "      <td>19.12</td>\n",
       "      <td>18.96</td>\n",
       "      <td>18.49</td>\n",
       "      <td>12.60</td>\n",
       "    </tr>\n",
       "    <tr>\n",
       "      <th>26</th>\n",
       "      <td>2015</td>\n",
       "      <td>March</td>\n",
       "      <td>23.76</td>\n",
       "      <td>23.17</td>\n",
       "      <td>20.31</td>\n",
       "      <td>22.17</td>\n",
       "      <td>19.82</td>\n",
       "      <td>20.03</td>\n",
       "      <td>19.41</td>\n",
       "      <td>14.70</td>\n",
       "    </tr>\n",
       "    <tr>\n",
       "      <th>27</th>\n",
       "      <td>2015</td>\n",
       "      <td>April</td>\n",
       "      <td>25.19</td>\n",
       "      <td>25.06</td>\n",
       "      <td>21.39</td>\n",
       "      <td>23.82</td>\n",
       "      <td>21.64</td>\n",
       "      <td>21.97</td>\n",
       "      <td>20.86</td>\n",
       "      <td>18.00</td>\n",
       "    </tr>\n",
       "    <tr>\n",
       "      <th>28</th>\n",
       "      <td>2015</td>\n",
       "      <td>May</td>\n",
       "      <td>26.41</td>\n",
       "      <td>26.32</td>\n",
       "      <td>22.53</td>\n",
       "      <td>24.77</td>\n",
       "      <td>22.89</td>\n",
       "      <td>23.06</td>\n",
       "      <td>21.90</td>\n",
       "      <td>19.60</td>\n",
       "    </tr>\n",
       "    <tr>\n",
       "      <th>29</th>\n",
       "      <td>2015</td>\n",
       "      <td>June</td>\n",
       "      <td>28.17</td>\n",
       "      <td>28.37</td>\n",
       "      <td>24.39</td>\n",
       "      <td>26.33</td>\n",
       "      <td>24.76</td>\n",
       "      <td>24.92</td>\n",
       "      <td>23.83</td>\n",
       "      <td>22.60</td>\n",
       "    </tr>\n",
       "    <tr>\n",
       "      <th>30</th>\n",
       "      <td>2015</td>\n",
       "      <td>July</td>\n",
       "      <td>29.78</td>\n",
       "      <td>29.81</td>\n",
       "      <td>26.03</td>\n",
       "      <td>27.76</td>\n",
       "      <td>26.22</td>\n",
       "      <td>26.35</td>\n",
       "      <td>25.22</td>\n",
       "      <td>24.70</td>\n",
       "    </tr>\n",
       "    <tr>\n",
       "      <th>31</th>\n",
       "      <td>2015</td>\n",
       "      <td>August</td>\n",
       "      <td>29.62</td>\n",
       "      <td>29.43</td>\n",
       "      <td>26.17</td>\n",
       "      <td>27.74</td>\n",
       "      <td>26.15</td>\n",
       "      <td>25.47</td>\n",
       "      <td>25.12</td>\n",
       "      <td>24.30</td>\n",
       "    </tr>\n",
       "    <tr>\n",
       "      <th>32</th>\n",
       "      <td>2015</td>\n",
       "      <td>September</td>\n",
       "      <td>29.36</td>\n",
       "      <td>27.52</td>\n",
       "      <td>25.34</td>\n",
       "      <td>26.83</td>\n",
       "      <td>24.28</td>\n",
       "      <td>25.03</td>\n",
       "      <td>23.95</td>\n",
       "      <td>21.60</td>\n",
       "    </tr>\n",
       "    <tr>\n",
       "      <th>33</th>\n",
       "      <td>2015</td>\n",
       "      <td>October</td>\n",
       "      <td>28.04</td>\n",
       "      <td>26.54</td>\n",
       "      <td>24.52</td>\n",
       "      <td>25.83</td>\n",
       "      <td>22.13</td>\n",
       "      <td>24.51</td>\n",
       "      <td>23.13</td>\n",
       "      <td>19.80</td>\n",
       "    </tr>\n",
       "    <tr>\n",
       "      <th>34</th>\n",
       "      <td>2015</td>\n",
       "      <td>November</td>\n",
       "      <td>26.96</td>\n",
       "      <td>25.39</td>\n",
       "      <td>22.12</td>\n",
       "      <td>24.88</td>\n",
       "      <td>22.59</td>\n",
       "      <td>23.33</td>\n",
       "      <td>21.95</td>\n",
       "      <td>17.80</td>\n",
       "    </tr>\n",
       "    <tr>\n",
       "      <th>35</th>\n",
       "      <td>2015</td>\n",
       "      <td>December</td>\n",
       "      <td>26.17</td>\n",
       "      <td>24.88</td>\n",
       "      <td>21.33</td>\n",
       "      <td>24.57</td>\n",
       "      <td>22.61</td>\n",
       "      <td>22.93</td>\n",
       "      <td>21.42</td>\n",
       "      <td>17.00</td>\n",
       "    </tr>\n",
       "    <tr>\n",
       "      <th>36</th>\n",
       "      <td>2016</td>\n",
       "      <td>January</td>\n",
       "      <td>24.50</td>\n",
       "      <td>23.11</td>\n",
       "      <td>20.46</td>\n",
       "      <td>23.32</td>\n",
       "      <td>21.16</td>\n",
       "      <td>21.00</td>\n",
       "      <td>19.40</td>\n",
       "      <td>13.79</td>\n",
       "    </tr>\n",
       "    <tr>\n",
       "      <th>37</th>\n",
       "      <td>2016</td>\n",
       "      <td>February</td>\n",
       "      <td>23.88</td>\n",
       "      <td>22.79</td>\n",
       "      <td>20.42</td>\n",
       "      <td>22.86</td>\n",
       "      <td>20.26</td>\n",
       "      <td>20.94</td>\n",
       "      <td>19.10</td>\n",
       "      <td>13.40</td>\n",
       "    </tr>\n",
       "    <tr>\n",
       "      <th>38</th>\n",
       "      <td>2016</td>\n",
       "      <td>March</td>\n",
       "      <td>23.71</td>\n",
       "      <td>22.83</td>\n",
       "      <td>20.63</td>\n",
       "      <td>22.74</td>\n",
       "      <td>19.66</td>\n",
       "      <td>21.01</td>\n",
       "      <td>19.27</td>\n",
       "      <td>13.79</td>\n",
       "    </tr>\n",
       "    <tr>\n",
       "      <th>39</th>\n",
       "      <td>2016</td>\n",
       "      <td>April</td>\n",
       "      <td>24.60</td>\n",
       "      <td>24.03</td>\n",
       "      <td>21.94</td>\n",
       "      <td>24.01</td>\n",
       "      <td>21.08</td>\n",
       "      <td>21.96</td>\n",
       "      <td>20.34</td>\n",
       "      <td>16.03</td>\n",
       "    </tr>\n",
       "    <tr>\n",
       "      <th>40</th>\n",
       "      <td>2016</td>\n",
       "      <td>May</td>\n",
       "      <td>26.61</td>\n",
       "      <td>26.62</td>\n",
       "      <td>24.21</td>\n",
       "      <td>25.23</td>\n",
       "      <td>23.39</td>\n",
       "      <td>24.00</td>\n",
       "      <td>22.55</td>\n",
       "      <td>20.33</td>\n",
       "    </tr>\n",
       "    <tr>\n",
       "      <th>41</th>\n",
       "      <td>2016</td>\n",
       "      <td>June</td>\n",
       "      <td>27.99</td>\n",
       "      <td>27.98</td>\n",
       "      <td>24.79</td>\n",
       "      <td>26.09</td>\n",
       "      <td>24.68</td>\n",
       "      <td>25.41</td>\n",
       "      <td>23.81</td>\n",
       "      <td>21.86</td>\n",
       "    </tr>\n",
       "    <tr>\n",
       "      <th>42</th>\n",
       "      <td>2016</td>\n",
       "      <td>July</td>\n",
       "      <td>29.89</td>\n",
       "      <td>29.60</td>\n",
       "      <td>25.96</td>\n",
       "      <td>27.50</td>\n",
       "      <td>26.49</td>\n",
       "      <td>27.10</td>\n",
       "      <td>25.30</td>\n",
       "      <td>24.68</td>\n",
       "    </tr>\n",
       "    <tr>\n",
       "      <th>43</th>\n",
       "      <td>2016</td>\n",
       "      <td>August</td>\n",
       "      <td>31.04</td>\n",
       "      <td>30.47</td>\n",
       "      <td>26.57</td>\n",
       "      <td>27.98</td>\n",
       "      <td>27.30</td>\n",
       "      <td>28.03</td>\n",
       "      <td>25.95</td>\n",
       "      <td>25.00</td>\n",
       "    </tr>\n",
       "    <tr>\n",
       "      <th>44</th>\n",
       "      <td>2016</td>\n",
       "      <td>September</td>\n",
       "      <td>30.91</td>\n",
       "      <td>30.23</td>\n",
       "      <td>26.22</td>\n",
       "      <td>28.30</td>\n",
       "      <td>27.07</td>\n",
       "      <td>27.93</td>\n",
       "      <td>26.03</td>\n",
       "      <td>24.36</td>\n",
       "    </tr>\n",
       "    <tr>\n",
       "      <th>45</th>\n",
       "      <td>2016</td>\n",
       "      <td>October</td>\n",
       "      <td>28.69</td>\n",
       "      <td>27.50</td>\n",
       "      <td>23.58</td>\n",
       "      <td>26.31</td>\n",
       "      <td>24.59</td>\n",
       "      <td>25.81</td>\n",
       "      <td>23.46</td>\n",
       "      <td>19.42</td>\n",
       "    </tr>\n",
       "    <tr>\n",
       "      <th>46</th>\n",
       "      <td>2016</td>\n",
       "      <td>November</td>\n",
       "      <td>26.34</td>\n",
       "      <td>24.74</td>\n",
       "      <td>20.52</td>\n",
       "      <td>24.20</td>\n",
       "      <td>21.83</td>\n",
       "      <td>23.35</td>\n",
       "      <td>21.12</td>\n",
       "      <td>15.31</td>\n",
       "    </tr>\n",
       "    <tr>\n",
       "      <th>47</th>\n",
       "      <td>2016</td>\n",
       "      <td>December</td>\n",
       "      <td>25.30</td>\n",
       "      <td>23.72</td>\n",
       "      <td>19.52</td>\n",
       "      <td>23.40</td>\n",
       "      <td>20.50</td>\n",
       "      <td>22.69</td>\n",
       "      <td>20.13</td>\n",
       "      <td>14.47</td>\n",
       "    </tr>\n",
       "    <tr>\n",
       "      <th>48</th>\n",
       "      <td>2017</td>\n",
       "      <td>January</td>\n",
       "      <td>23.40</td>\n",
       "      <td>21.55</td>\n",
       "      <td>17.50</td>\n",
       "      <td>21.54</td>\n",
       "      <td>18.90</td>\n",
       "      <td>20.51</td>\n",
       "      <td>18.19</td>\n",
       "      <td>11.99</td>\n",
       "    </tr>\n",
       "    <tr>\n",
       "      <th>49</th>\n",
       "      <td>2017</td>\n",
       "      <td>February</td>\n",
       "      <td>24.27</td>\n",
       "      <td>22.38</td>\n",
       "      <td>18.58</td>\n",
       "      <td>21.87</td>\n",
       "      <td>19.69</td>\n",
       "      <td>21.70</td>\n",
       "      <td>18.86</td>\n",
       "      <td>13.30</td>\n",
       "    </tr>\n",
       "    <tr>\n",
       "      <th>50</th>\n",
       "      <td>2017</td>\n",
       "      <td>March</td>\n",
       "      <td>25.66</td>\n",
       "      <td>24.29</td>\n",
       "      <td>20.56</td>\n",
       "      <td>23.09</td>\n",
       "      <td>21.28</td>\n",
       "      <td>23.63</td>\n",
       "      <td>20.46</td>\n",
       "      <td>15.98</td>\n",
       "    </tr>\n",
       "    <tr>\n",
       "      <th>51</th>\n",
       "      <td>2017</td>\n",
       "      <td>April</td>\n",
       "      <td>26.70</td>\n",
       "      <td>25.59</td>\n",
       "      <td>22.82</td>\n",
       "      <td>24.10</td>\n",
       "      <td>22.67</td>\n",
       "      <td>23.96</td>\n",
       "      <td>21.25</td>\n",
       "      <td>17.79</td>\n",
       "    </tr>\n",
       "    <tr>\n",
       "      <th>52</th>\n",
       "      <td>2017</td>\n",
       "      <td>May</td>\n",
       "      <td>27.66</td>\n",
       "      <td>26.95</td>\n",
       "      <td>23.69</td>\n",
       "      <td>25.02</td>\n",
       "      <td>23.82</td>\n",
       "      <td>25.40</td>\n",
       "      <td>22.53</td>\n",
       "      <td>20.26</td>\n",
       "    </tr>\n",
       "    <tr>\n",
       "      <th>53</th>\n",
       "      <td>2017</td>\n",
       "      <td>June</td>\n",
       "      <td>29.99</td>\n",
       "      <td>29.76</td>\n",
       "      <td>25.96</td>\n",
       "      <td>27.30</td>\n",
       "      <td>26.35</td>\n",
       "      <td>27.65</td>\n",
       "      <td>24.91</td>\n",
       "      <td>24.15</td>\n",
       "    </tr>\n",
       "    <tr>\n",
       "      <th>54</th>\n",
       "      <td>2017</td>\n",
       "      <td>July</td>\n",
       "      <td>30.87</td>\n",
       "      <td>30.61</td>\n",
       "      <td>26.56</td>\n",
       "      <td>28.15</td>\n",
       "      <td>27.18</td>\n",
       "      <td>28.54</td>\n",
       "      <td>25.53</td>\n",
       "      <td>24.67</td>\n",
       "    </tr>\n",
       "    <tr>\n",
       "      <th>55</th>\n",
       "      <td>2017</td>\n",
       "      <td>August</td>\n",
       "      <td>30.30</td>\n",
       "      <td>30.02</td>\n",
       "      <td>25.89</td>\n",
       "      <td>27.88</td>\n",
       "      <td>26.81</td>\n",
       "      <td>28.18</td>\n",
       "      <td>25.17</td>\n",
       "      <td>23.57</td>\n",
       "    </tr>\n",
       "    <tr>\n",
       "      <th>56</th>\n",
       "      <td>2017</td>\n",
       "      <td>September</td>\n",
       "      <td>29.42</td>\n",
       "      <td>28.80</td>\n",
       "      <td>24.92</td>\n",
       "      <td>27.04</td>\n",
       "      <td>25.69</td>\n",
       "      <td>27.51</td>\n",
       "      <td>24.20</td>\n",
       "      <td>24.35</td>\n",
       "    </tr>\n",
       "    <tr>\n",
       "      <th>57</th>\n",
       "      <td>2017</td>\n",
       "      <td>October</td>\n",
       "      <td>28.36</td>\n",
       "      <td>27.87</td>\n",
       "      <td>24.33</td>\n",
       "      <td>26.37</td>\n",
       "      <td>24.67</td>\n",
       "      <td>28.04</td>\n",
       "      <td>23.50</td>\n",
       "      <td>23.18</td>\n",
       "    </tr>\n",
       "    <tr>\n",
       "      <th>58</th>\n",
       "      <td>2017</td>\n",
       "      <td>November</td>\n",
       "      <td>26.22</td>\n",
       "      <td>25.24</td>\n",
       "      <td>22.53</td>\n",
       "      <td>24.13</td>\n",
       "      <td>22.34</td>\n",
       "      <td>26.68</td>\n",
       "      <td>21.14</td>\n",
       "      <td>16.04</td>\n",
       "    </tr>\n",
       "    <tr>\n",
       "      <th>59</th>\n",
       "      <td>2017</td>\n",
       "      <td>December</td>\n",
       "      <td>25.04</td>\n",
       "      <td>23.10</td>\n",
       "      <td>20.96</td>\n",
       "      <td>22.37</td>\n",
       "      <td>20.27</td>\n",
       "      <td>24.51</td>\n",
       "      <td>19.26</td>\n",
       "      <td>13.27</td>\n",
       "    </tr>\n",
       "    <tr>\n",
       "      <th>60</th>\n",
       "      <td>2018</td>\n",
       "      <td>January</td>\n",
       "      <td>24.84</td>\n",
       "      <td>22.89</td>\n",
       "      <td>20.84</td>\n",
       "      <td>22.19</td>\n",
       "      <td>20.02</td>\n",
       "      <td>24.21</td>\n",
       "      <td>19.00</td>\n",
       "      <td>13.49</td>\n",
       "    </tr>\n",
       "    <tr>\n",
       "      <th>61</th>\n",
       "      <td>2018</td>\n",
       "      <td>February</td>\n",
       "      <td>23.79</td>\n",
       "      <td>21.93</td>\n",
       "      <td>20.14</td>\n",
       "      <td>21.40</td>\n",
       "      <td>19.04</td>\n",
       "      <td>22.82</td>\n",
       "      <td>21.21</td>\n",
       "      <td>11.62</td>\n",
       "    </tr>\n",
       "    <tr>\n",
       "      <th>62</th>\n",
       "      <td>2018</td>\n",
       "      <td>March</td>\n",
       "      <td>23.43</td>\n",
       "      <td>22.30</td>\n",
       "      <td>20.45</td>\n",
       "      <td>21.49</td>\n",
       "      <td>19.31</td>\n",
       "      <td>22.60</td>\n",
       "      <td>23.54</td>\n",
       "      <td>12.74</td>\n",
       "    </tr>\n",
       "    <tr>\n",
       "      <th>63</th>\n",
       "      <td>2018</td>\n",
       "      <td>April</td>\n",
       "      <td>25.59</td>\n",
       "      <td>24.87</td>\n",
       "      <td>22.50</td>\n",
       "      <td>23.26</td>\n",
       "      <td>21.89</td>\n",
       "      <td>24.37</td>\n",
       "      <td>24.60</td>\n",
       "      <td>17.28</td>\n",
       "    </tr>\n",
       "    <tr>\n",
       "      <th>64</th>\n",
       "      <td>2018</td>\n",
       "      <td>May</td>\n",
       "      <td>27.88</td>\n",
       "      <td>27.46</td>\n",
       "      <td>24.05</td>\n",
       "      <td>25.30</td>\n",
       "      <td>24.27</td>\n",
       "      <td>26.31</td>\n",
       "      <td>23.01</td>\n",
       "      <td>21.16</td>\n",
       "    </tr>\n",
       "    <tr>\n",
       "      <th>65</th>\n",
       "      <td>2018</td>\n",
       "      <td>June</td>\n",
       "      <td>29.80</td>\n",
       "      <td>29.51</td>\n",
       "      <td>25.84</td>\n",
       "      <td>27.19</td>\n",
       "      <td>26.28</td>\n",
       "      <td>27.69</td>\n",
       "      <td>24.50</td>\n",
       "      <td>24.43</td>\n",
       "    </tr>\n",
       "    <tr>\n",
       "      <th>66</th>\n",
       "      <td>2018</td>\n",
       "      <td>July</td>\n",
       "      <td>32.41</td>\n",
       "      <td>32.02</td>\n",
       "      <td>28.16</td>\n",
       "      <td>29.46</td>\n",
       "      <td>28.57</td>\n",
       "      <td>29.91</td>\n",
       "      <td>26.54</td>\n",
       "      <td>27.72</td>\n",
       "    </tr>\n",
       "    <tr>\n",
       "      <th>67</th>\n",
       "      <td>2018</td>\n",
       "      <td>August</td>\n",
       "      <td>32.24</td>\n",
       "      <td>31.23</td>\n",
       "      <td>27.20</td>\n",
       "      <td>29.12</td>\n",
       "      <td>28.13</td>\n",
       "      <td>29.61</td>\n",
       "      <td>26.32</td>\n",
       "      <td>25.49</td>\n",
       "    </tr>\n",
       "    <tr>\n",
       "      <th>68</th>\n",
       "      <td>2018</td>\n",
       "      <td>September</td>\n",
       "      <td>31.13</td>\n",
       "      <td>29.49</td>\n",
       "      <td>25.38</td>\n",
       "      <td>28.00</td>\n",
       "      <td>26.55</td>\n",
       "      <td>29.10</td>\n",
       "      <td>24.96</td>\n",
       "      <td>22.49</td>\n",
       "    </tr>\n",
       "    <tr>\n",
       "      <th>69</th>\n",
       "      <td>2018</td>\n",
       "      <td>October</td>\n",
       "      <td>29.26</td>\n",
       "      <td>27.67</td>\n",
       "      <td>23.71</td>\n",
       "      <td>26.71</td>\n",
       "      <td>24.82</td>\n",
       "      <td>28.35</td>\n",
       "      <td>23.26</td>\n",
       "      <td>19.63</td>\n",
       "    </tr>\n",
       "    <tr>\n",
       "      <th>70</th>\n",
       "      <td>2018</td>\n",
       "      <td>November</td>\n",
       "      <td>27.31</td>\n",
       "      <td>25.40</td>\n",
       "      <td>21.29</td>\n",
       "      <td>25.00</td>\n",
       "      <td>22.56</td>\n",
       "      <td>27.43</td>\n",
       "      <td>21.04</td>\n",
       "      <td>15.97</td>\n",
       "    </tr>\n",
       "    <tr>\n",
       "      <th>71</th>\n",
       "      <td>2018</td>\n",
       "      <td>December</td>\n",
       "      <td>26.01</td>\n",
       "      <td>24.09</td>\n",
       "      <td>19.95</td>\n",
       "      <td>23.87</td>\n",
       "      <td>21.50</td>\n",
       "      <td>25.40</td>\n",
       "      <td>19.69</td>\n",
       "      <td>14.71</td>\n",
       "    </tr>\n",
       "    <tr>\n",
       "      <th>72</th>\n",
       "      <td>2019</td>\n",
       "      <td>January</td>\n",
       "      <td>24.85</td>\n",
       "      <td>22.81</td>\n",
       "      <td>19.62</td>\n",
       "      <td>22.65</td>\n",
       "      <td>20.43</td>\n",
       "      <td>24.38</td>\n",
       "      <td>18.46</td>\n",
       "      <td>12.85</td>\n",
       "    </tr>\n",
       "    <tr>\n",
       "      <th>73</th>\n",
       "      <td>2019</td>\n",
       "      <td>February</td>\n",
       "      <td>24.97</td>\n",
       "      <td>23.19</td>\n",
       "      <td>20.73</td>\n",
       "      <td>22.77</td>\n",
       "      <td>20.97</td>\n",
       "      <td>25.49</td>\n",
       "      <td>18.96</td>\n",
       "      <td>14.45</td>\n",
       "    </tr>\n",
       "    <tr>\n",
       "      <th>74</th>\n",
       "      <td>2019</td>\n",
       "      <td>March</td>\n",
       "      <td>25.62</td>\n",
       "      <td>24.30</td>\n",
       "      <td>21.77</td>\n",
       "      <td>23.48</td>\n",
       "      <td>21.75</td>\n",
       "      <td>25.69</td>\n",
       "      <td>19.76</td>\n",
       "      <td>15.60</td>\n",
       "    </tr>\n",
       "    <tr>\n",
       "      <th>75</th>\n",
       "      <td>2019</td>\n",
       "      <td>April</td>\n",
       "      <td>26.49</td>\n",
       "      <td>25.34</td>\n",
       "      <td>21.61</td>\n",
       "      <td>24.18</td>\n",
       "      <td>22.62</td>\n",
       "      <td>25.93</td>\n",
       "      <td>20.15</td>\n",
       "      <td>17.22</td>\n",
       "    </tr>\n",
       "    <tr>\n",
       "      <th>76</th>\n",
       "      <td>2019</td>\n",
       "      <td>May</td>\n",
       "      <td>27.34</td>\n",
       "      <td>26.72</td>\n",
       "      <td>22.80</td>\n",
       "      <td>25.55</td>\n",
       "      <td>24.06</td>\n",
       "      <td>26.73</td>\n",
       "      <td>21.69</td>\n",
       "      <td>19.68</td>\n",
       "    </tr>\n",
       "    <tr>\n",
       "      <th>77</th>\n",
       "      <td>2019</td>\n",
       "      <td>June</td>\n",
       "      <td>29.22</td>\n",
       "      <td>28.31</td>\n",
       "      <td>24.31</td>\n",
       "      <td>27.06</td>\n",
       "      <td>25.72</td>\n",
       "      <td>27.89</td>\n",
       "      <td>23.25</td>\n",
       "      <td>22.34</td>\n",
       "    </tr>\n",
       "    <tr>\n",
       "      <th>78</th>\n",
       "      <td>2019</td>\n",
       "      <td>July</td>\n",
       "      <td>31.07</td>\n",
       "      <td>30.70</td>\n",
       "      <td>26.49</td>\n",
       "      <td>28.86</td>\n",
       "      <td>27.87</td>\n",
       "      <td>30.19</td>\n",
       "      <td>25.31</td>\n",
       "      <td>25.91</td>\n",
       "    </tr>\n",
       "    <tr>\n",
       "      <th>79</th>\n",
       "      <td>2019</td>\n",
       "      <td>August</td>\n",
       "      <td>31.75</td>\n",
       "      <td>30.80</td>\n",
       "      <td>26.43</td>\n",
       "      <td>29.18</td>\n",
       "      <td>28.04</td>\n",
       "      <td>30.18</td>\n",
       "      <td>25.27</td>\n",
       "      <td>25.34</td>\n",
       "    </tr>\n",
       "    <tr>\n",
       "      <th>80</th>\n",
       "      <td>2019</td>\n",
       "      <td>September</td>\n",
       "      <td>30.81</td>\n",
       "      <td>29.54</td>\n",
       "      <td>25.40</td>\n",
       "      <td>28.37</td>\n",
       "      <td>26.99</td>\n",
       "      <td>29.24</td>\n",
       "      <td>24.38</td>\n",
       "      <td>22.93</td>\n",
       "    </tr>\n",
       "    <tr>\n",
       "      <th>81</th>\n",
       "      <td>2019</td>\n",
       "      <td>October</td>\n",
       "      <td>28.96</td>\n",
       "      <td>27.37</td>\n",
       "      <td>22.96</td>\n",
       "      <td>26.62</td>\n",
       "      <td>24.92</td>\n",
       "      <td>27.97</td>\n",
       "      <td>22.41</td>\n",
       "      <td>18.92</td>\n",
       "    </tr>\n",
       "    <tr>\n",
       "      <th>82</th>\n",
       "      <td>2019</td>\n",
       "      <td>November</td>\n",
       "      <td>26.80</td>\n",
       "      <td>24.89</td>\n",
       "      <td>20.42</td>\n",
       "      <td>24.71</td>\n",
       "      <td>22.66</td>\n",
       "      <td>25.77</td>\n",
       "      <td>19.99</td>\n",
       "      <td>15.31</td>\n",
       "    </tr>\n",
       "    <tr>\n",
       "      <th>83</th>\n",
       "      <td>2019</td>\n",
       "      <td>December</td>\n",
       "      <td>25.46</td>\n",
       "      <td>23.80</td>\n",
       "      <td>19.07</td>\n",
       "      <td>23.48</td>\n",
       "      <td>21.59</td>\n",
       "      <td>25.22</td>\n",
       "      <td>19.05</td>\n",
       "      <td>14.19</td>\n",
       "    </tr>\n",
       "    <tr>\n",
       "      <th>84</th>\n",
       "      <td>2020</td>\n",
       "      <td>January</td>\n",
       "      <td>25.38</td>\n",
       "      <td>23.81</td>\n",
       "      <td>19.73</td>\n",
       "      <td>23.36</td>\n",
       "      <td>21.53</td>\n",
       "      <td>25.92</td>\n",
       "      <td>19.06</td>\n",
       "      <td>14.29</td>\n",
       "    </tr>\n",
       "    <tr>\n",
       "      <th>85</th>\n",
       "      <td>2020</td>\n",
       "      <td>February</td>\n",
       "      <td>24.97</td>\n",
       "      <td>23.88</td>\n",
       "      <td>20.21</td>\n",
       "      <td>23.19</td>\n",
       "      <td>21.25</td>\n",
       "      <td>26.05</td>\n",
       "      <td>18.93</td>\n",
       "      <td>14.01</td>\n",
       "    </tr>\n",
       "    <tr>\n",
       "      <th>86</th>\n",
       "      <td>2020</td>\n",
       "      <td>March</td>\n",
       "      <td>24.81</td>\n",
       "      <td>23.40</td>\n",
       "      <td>19.33</td>\n",
       "      <td>22.57</td>\n",
       "      <td>21.05</td>\n",
       "      <td>24.41</td>\n",
       "      <td>18.53</td>\n",
       "      <td>14.08</td>\n",
       "    </tr>\n",
       "    <tr>\n",
       "      <th>87</th>\n",
       "      <td>2020</td>\n",
       "      <td>April</td>\n",
       "      <td>25.23</td>\n",
       "      <td>22.91</td>\n",
       "      <td>19.58</td>\n",
       "      <td>22.62</td>\n",
       "      <td>20.99</td>\n",
       "      <td>22.44</td>\n",
       "      <td>18.68</td>\n",
       "      <td>16.38</td>\n",
       "    </tr>\n",
       "    <tr>\n",
       "      <th>88</th>\n",
       "      <td>2020</td>\n",
       "      <td>May</td>\n",
       "      <td>27.12</td>\n",
       "      <td>24.17</td>\n",
       "      <td>21.28</td>\n",
       "      <td>23.75</td>\n",
       "      <td>22.35</td>\n",
       "      <td>23.02</td>\n",
       "      <td>19.31</td>\n",
       "      <td>19.42</td>\n",
       "    </tr>\n",
       "    <tr>\n",
       "      <th>89</th>\n",
       "      <td>2020</td>\n",
       "      <td>June</td>\n",
       "      <td>28.83</td>\n",
       "      <td>26.70</td>\n",
       "      <td>23.58</td>\n",
       "      <td>25.65</td>\n",
       "      <td>24.70</td>\n",
       "      <td>26.39</td>\n",
       "      <td>20.55</td>\n",
       "      <td>22.02</td>\n",
       "    </tr>\n",
       "    <tr>\n",
       "      <th>90</th>\n",
       "      <td>2020</td>\n",
       "      <td>July</td>\n",
       "      <td>29.96</td>\n",
       "      <td>28.62</td>\n",
       "      <td>24.86</td>\n",
       "      <td>26.79</td>\n",
       "      <td>25.89</td>\n",
       "      <td>27.82</td>\n",
       "      <td>21.14</td>\n",
       "      <td>23.31</td>\n",
       "    </tr>\n",
       "    <tr>\n",
       "      <th>91</th>\n",
       "      <td>2020</td>\n",
       "      <td>August</td>\n",
       "      <td>31.18</td>\n",
       "      <td>30.50</td>\n",
       "      <td>26.18</td>\n",
       "      <td>28.21</td>\n",
       "      <td>27.35</td>\n",
       "      <td>29.64</td>\n",
       "      <td>22.05</td>\n",
       "      <td>24.94</td>\n",
       "    </tr>\n",
       "    <tr>\n",
       "      <th>92</th>\n",
       "      <td>2020</td>\n",
       "      <td>September</td>\n",
       "      <td>30.41</td>\n",
       "      <td>29.14</td>\n",
       "      <td>24.16</td>\n",
       "      <td>27.48</td>\n",
       "      <td>26.29</td>\n",
       "      <td>29.11</td>\n",
       "      <td>20.60</td>\n",
       "      <td>22.33</td>\n",
       "    </tr>\n",
       "    <tr>\n",
       "      <th>93</th>\n",
       "      <td>2020</td>\n",
       "      <td>October</td>\n",
       "      <td>27.71</td>\n",
       "      <td>26.38</td>\n",
       "      <td>21.20</td>\n",
       "      <td>25.55</td>\n",
       "      <td>23.76</td>\n",
       "      <td>27.88</td>\n",
       "      <td>18.10</td>\n",
       "      <td>17.64</td>\n",
       "    </tr>\n",
       "    <tr>\n",
       "      <th>94</th>\n",
       "      <td>2020</td>\n",
       "      <td>November</td>\n",
       "      <td>26.52</td>\n",
       "      <td>25.31</td>\n",
       "      <td>20.71</td>\n",
       "      <td>24.34</td>\n",
       "      <td>22.47</td>\n",
       "      <td>26.09</td>\n",
       "      <td>17.53</td>\n",
       "      <td>16.10</td>\n",
       "    </tr>\n",
       "    <tr>\n",
       "      <th>95</th>\n",
       "      <td>2020</td>\n",
       "      <td>December</td>\n",
       "      <td>24.11</td>\n",
       "      <td>23.42</td>\n",
       "      <td>18.31</td>\n",
       "      <td>22.56</td>\n",
       "      <td>20.43</td>\n",
       "      <td>24.11</td>\n",
       "      <td>15.37</td>\n",
       "      <td>13.36</td>\n",
       "    </tr>\n",
       "  </tbody>\n",
       "</table>\n",
       "</div>"
      ],
      "text/plain": [
       "    Year      Month  Bakerloo  Central  Jubilee  Northern  Piccadilly  \\\n",
       "0   2013    January     21.70    21.00    16.40     19.50       19.30   \n",
       "1   2013   February     21.50    21.00    17.90     19.80       19.00   \n",
       "2   2013      March     21.70    20.90    18.20     20.00       18.70   \n",
       "3   2013      April     23.40    22.80    20.30     21.40       20.30   \n",
       "4   2013        May     25.40    24.70    21.90     22.90       22.40   \n",
       "5   2013       June     27.00    26.70    23.10     23.70       24.20   \n",
       "6   2013       July     29.70    30.00    26.30     25.90       27.50   \n",
       "7   2013     August     29.90    30.00    26.10     26.20       27.40   \n",
       "8   2013  September     28.90    28.20    24.50     25.10       26.10   \n",
       "9   2013    October     27.90    27.10    23.10     24.20       25.10   \n",
       "10  2013   November     25.40    24.50    20.10     22.10       22.40   \n",
       "11  2013   December     23.90    23.10    19.70     21.20       21.00   \n",
       "12  2014    January     23.40    22.70    19.60     20.70       20.60   \n",
       "13  2014   February     22.90    22.30    18.20     20.20       20.00   \n",
       "14  2014      March     23.90    23.70    19.50     21.10       21.50   \n",
       "15  2014      April     25.50    25.10    20.80     22.60       22.90   \n",
       "16  2014        May     26.10    26.30    21.90     23.40       24.00   \n",
       "17  2014       June     28.30    28.70    24.50     25.20       26.10   \n",
       "18  2014       July     29.90    30.50    26.30     27.10       27.80   \n",
       "19  2014     August     29.80    29.50    25.10     26.80       27.20   \n",
       "20  2014  September     29.30    29.30    25.10     26.50       26.90   \n",
       "21  2014    October     28.30    27.70    23.20     25.60       25.40   \n",
       "22  2014   November     26.90    25.70    20.90     23.90       23.30   \n",
       "23  2014   December     24.50    23.30    18.50     22.00       21.10   \n",
       "24  2015    January     23.48    22.03    19.05     21.55       19.98   \n",
       "25  2015   February     22.75    21.92    19.18     21.11       19.12   \n",
       "26  2015      March     23.76    23.17    20.31     22.17       19.82   \n",
       "27  2015      April     25.19    25.06    21.39     23.82       21.64   \n",
       "28  2015        May     26.41    26.32    22.53     24.77       22.89   \n",
       "29  2015       June     28.17    28.37    24.39     26.33       24.76   \n",
       "30  2015       July     29.78    29.81    26.03     27.76       26.22   \n",
       "31  2015     August     29.62    29.43    26.17     27.74       26.15   \n",
       "32  2015  September     29.36    27.52    25.34     26.83       24.28   \n",
       "33  2015    October     28.04    26.54    24.52     25.83       22.13   \n",
       "34  2015   November     26.96    25.39    22.12     24.88       22.59   \n",
       "35  2015   December     26.17    24.88    21.33     24.57       22.61   \n",
       "36  2016    January     24.50    23.11    20.46     23.32       21.16   \n",
       "37  2016   February     23.88    22.79    20.42     22.86       20.26   \n",
       "38  2016      March     23.71    22.83    20.63     22.74       19.66   \n",
       "39  2016      April     24.60    24.03    21.94     24.01       21.08   \n",
       "40  2016        May     26.61    26.62    24.21     25.23       23.39   \n",
       "41  2016       June     27.99    27.98    24.79     26.09       24.68   \n",
       "42  2016       July     29.89    29.60    25.96     27.50       26.49   \n",
       "43  2016     August     31.04    30.47    26.57     27.98       27.30   \n",
       "44  2016  September     30.91    30.23    26.22     28.30       27.07   \n",
       "45  2016    October     28.69    27.50    23.58     26.31       24.59   \n",
       "46  2016   November     26.34    24.74    20.52     24.20       21.83   \n",
       "47  2016   December     25.30    23.72    19.52     23.40       20.50   \n",
       "48  2017    January     23.40    21.55    17.50     21.54       18.90   \n",
       "49  2017   February     24.27    22.38    18.58     21.87       19.69   \n",
       "50  2017      March     25.66    24.29    20.56     23.09       21.28   \n",
       "51  2017      April     26.70    25.59    22.82     24.10       22.67   \n",
       "52  2017        May     27.66    26.95    23.69     25.02       23.82   \n",
       "53  2017       June     29.99    29.76    25.96     27.30       26.35   \n",
       "54  2017       July     30.87    30.61    26.56     28.15       27.18   \n",
       "55  2017     August     30.30    30.02    25.89     27.88       26.81   \n",
       "56  2017  September     29.42    28.80    24.92     27.04       25.69   \n",
       "57  2017    October     28.36    27.87    24.33     26.37       24.67   \n",
       "58  2017   November     26.22    25.24    22.53     24.13       22.34   \n",
       "59  2017   December     25.04    23.10    20.96     22.37       20.27   \n",
       "60  2018    January     24.84    22.89    20.84     22.19       20.02   \n",
       "61  2018   February     23.79    21.93    20.14     21.40       19.04   \n",
       "62  2018      March     23.43    22.30    20.45     21.49       19.31   \n",
       "63  2018      April     25.59    24.87    22.50     23.26       21.89   \n",
       "64  2018        May     27.88    27.46    24.05     25.30       24.27   \n",
       "65  2018       June     29.80    29.51    25.84     27.19       26.28   \n",
       "66  2018       July     32.41    32.02    28.16     29.46       28.57   \n",
       "67  2018     August     32.24    31.23    27.20     29.12       28.13   \n",
       "68  2018  September     31.13    29.49    25.38     28.00       26.55   \n",
       "69  2018    October     29.26    27.67    23.71     26.71       24.82   \n",
       "70  2018   November     27.31    25.40    21.29     25.00       22.56   \n",
       "71  2018   December     26.01    24.09    19.95     23.87       21.50   \n",
       "72  2019    January     24.85    22.81    19.62     22.65       20.43   \n",
       "73  2019   February     24.97    23.19    20.73     22.77       20.97   \n",
       "74  2019      March     25.62    24.30    21.77     23.48       21.75   \n",
       "75  2019      April     26.49    25.34    21.61     24.18       22.62   \n",
       "76  2019        May     27.34    26.72    22.80     25.55       24.06   \n",
       "77  2019       June     29.22    28.31    24.31     27.06       25.72   \n",
       "78  2019       July     31.07    30.70    26.49     28.86       27.87   \n",
       "79  2019     August     31.75    30.80    26.43     29.18       28.04   \n",
       "80  2019  September     30.81    29.54    25.40     28.37       26.99   \n",
       "81  2019    October     28.96    27.37    22.96     26.62       24.92   \n",
       "82  2019   November     26.80    24.89    20.42     24.71       22.66   \n",
       "83  2019   December     25.46    23.80    19.07     23.48       21.59   \n",
       "84  2020    January     25.38    23.81    19.73     23.36       21.53   \n",
       "85  2020   February     24.97    23.88    20.21     23.19       21.25   \n",
       "86  2020      March     24.81    23.40    19.33     22.57       21.05   \n",
       "87  2020      April     25.23    22.91    19.58     22.62       20.99   \n",
       "88  2020        May     27.12    24.17    21.28     23.75       22.35   \n",
       "89  2020       June     28.83    26.70    23.58     25.65       24.70   \n",
       "90  2020       July     29.96    28.62    24.86     26.79       25.89   \n",
       "91  2020     August     31.18    30.50    26.18     28.21       27.35   \n",
       "92  2020  September     30.41    29.14    24.16     27.48       26.29   \n",
       "93  2020    October     27.71    26.38    21.20     25.55       23.76   \n",
       "94  2020   November     26.52    25.31    20.71     24.34       22.47   \n",
       "95  2020   December     24.11    23.42    18.31     22.56       20.43   \n",
       "\n",
       "    Victoria  Waterloo_and_City  Subsurface_lines  \n",
       "0      18.40              16.40             11.90  \n",
       "1      18.30              17.10             11.30  \n",
       "2      17.70              16.70             11.40  \n",
       "3      19.60              18.40             15.30  \n",
       "4      21.50              20.30             18.30  \n",
       "5      23.30              22.10             21.30  \n",
       "6      26.50              24.90             26.30  \n",
       "7      26.60              25.10             25.30  \n",
       "8      25.10              23.80             22.40  \n",
       "9      24.10              23.10             20.40  \n",
       "10     21.50              20.90             15.90  \n",
       "11     20.00              19.40             14.70  \n",
       "12     19.60              19.10             14.30  \n",
       "13     19.20              18.70             14.20  \n",
       "14     20.60              20.10             16.70  \n",
       "15     22.10              21.30             19.10  \n",
       "16     23.20              22.20             20.40  \n",
       "17     25.10              24.10             23.80  \n",
       "18     27.20              25.80             26.20  \n",
       "19     26.50              25.20             23.90  \n",
       "20     26.10              25.30             23.50  \n",
       "21     24.80              23.90             20.60  \n",
       "22     23.10              21.70             17.20  \n",
       "23     20.90              19.80             13.90  \n",
       "24     19.69              18.90             12.90  \n",
       "25     18.96              18.49             12.60  \n",
       "26     20.03              19.41             14.70  \n",
       "27     21.97              20.86             18.00  \n",
       "28     23.06              21.90             19.60  \n",
       "29     24.92              23.83             22.60  \n",
       "30     26.35              25.22             24.70  \n",
       "31     25.47              25.12             24.30  \n",
       "32     25.03              23.95             21.60  \n",
       "33     24.51              23.13             19.80  \n",
       "34     23.33              21.95             17.80  \n",
       "35     22.93              21.42             17.00  \n",
       "36     21.00              19.40             13.79  \n",
       "37     20.94              19.10             13.40  \n",
       "38     21.01              19.27             13.79  \n",
       "39     21.96              20.34             16.03  \n",
       "40     24.00              22.55             20.33  \n",
       "41     25.41              23.81             21.86  \n",
       "42     27.10              25.30             24.68  \n",
       "43     28.03              25.95             25.00  \n",
       "44     27.93              26.03             24.36  \n",
       "45     25.81              23.46             19.42  \n",
       "46     23.35              21.12             15.31  \n",
       "47     22.69              20.13             14.47  \n",
       "48     20.51              18.19             11.99  \n",
       "49     21.70              18.86             13.30  \n",
       "50     23.63              20.46             15.98  \n",
       "51     23.96              21.25             17.79  \n",
       "52     25.40              22.53             20.26  \n",
       "53     27.65              24.91             24.15  \n",
       "54     28.54              25.53             24.67  \n",
       "55     28.18              25.17             23.57  \n",
       "56     27.51              24.20             24.35  \n",
       "57     28.04              23.50             23.18  \n",
       "58     26.68              21.14             16.04  \n",
       "59     24.51              19.26             13.27  \n",
       "60     24.21              19.00             13.49  \n",
       "61     22.82              21.21             11.62  \n",
       "62     22.60              23.54             12.74  \n",
       "63     24.37              24.60             17.28  \n",
       "64     26.31              23.01             21.16  \n",
       "65     27.69              24.50             24.43  \n",
       "66     29.91              26.54             27.72  \n",
       "67     29.61              26.32             25.49  \n",
       "68     29.10              24.96             22.49  \n",
       "69     28.35              23.26             19.63  \n",
       "70     27.43              21.04             15.97  \n",
       "71     25.40              19.69             14.71  \n",
       "72     24.38              18.46             12.85  \n",
       "73     25.49              18.96             14.45  \n",
       "74     25.69              19.76             15.60  \n",
       "75     25.93              20.15             17.22  \n",
       "76     26.73              21.69             19.68  \n",
       "77     27.89              23.25             22.34  \n",
       "78     30.19              25.31             25.91  \n",
       "79     30.18              25.27             25.34  \n",
       "80     29.24              24.38             22.93  \n",
       "81     27.97              22.41             18.92  \n",
       "82     25.77              19.99             15.31  \n",
       "83     25.22              19.05             14.19  \n",
       "84     25.92              19.06             14.29  \n",
       "85     26.05              18.93             14.01  \n",
       "86     24.41              18.53             14.08  \n",
       "87     22.44              18.68             16.38  \n",
       "88     23.02              19.31             19.42  \n",
       "89     26.39              20.55             22.02  \n",
       "90     27.82              21.14             23.31  \n",
       "91     29.64              22.05             24.94  \n",
       "92     29.11              20.60             22.33  \n",
       "93     27.88              18.10             17.64  \n",
       "94     26.09              17.53             16.10  \n",
       "95     24.11              15.37             13.36  "
      ]
     },
     "execution_count": 252,
     "metadata": {},
     "output_type": "execute_result"
    }
   ],
   "source": [
    "# Loading in TFL line Temperatures 2013 to 2020\n",
    "df = pd.read_csv('https://data.london.gov.uk/download/london-underground-average-monthly-temperatures/b01c7853-fff2-4781-9755-9b5e1404d78c/lu-average-monthly-temperatures.csv')\n",
    "df.rename(columns={\"Sub-surface_lines\": \"Subsurface_lines\"}, inplace=True)\n",
    "df"
   ]
  },
  {
   "cell_type": "code",
   "execution_count": 282,
   "metadata": {
    "ExecuteTime": {
     "end_time": "2023-02-01T13:23:12.669771Z",
     "start_time": "2023-02-01T13:23:12.621365Z"
    },
    "scrolled": false
   },
   "outputs": [
    {
     "data": {
      "text/html": [
       "<div>\n",
       "<style scoped>\n",
       "    .dataframe tbody tr th:only-of-type {\n",
       "        vertical-align: middle;\n",
       "    }\n",
       "\n",
       "    .dataframe tbody tr th {\n",
       "        vertical-align: top;\n",
       "    }\n",
       "\n",
       "    .dataframe thead th {\n",
       "        text-align: right;\n",
       "    }\n",
       "</style>\n",
       "<table border=\"1\" class=\"dataframe\">\n",
       "  <thead>\n",
       "    <tr style=\"text-align: right;\">\n",
       "      <th></th>\n",
       "      <th>Year</th>\n",
       "      <th>Month</th>\n",
       "      <th>Bakerloo</th>\n",
       "      <th>Central</th>\n",
       "      <th>Jubilee</th>\n",
       "      <th>Northern</th>\n",
       "      <th>Piccadilly</th>\n",
       "      <th>Victoria</th>\n",
       "      <th>Waterloo_and_City</th>\n",
       "      <th>Subsurface_lines</th>\n",
       "      <th>Period</th>\n",
       "    </tr>\n",
       "  </thead>\n",
       "  <tbody>\n",
       "    <tr>\n",
       "      <th>58</th>\n",
       "      <td>2017</td>\n",
       "      <td>November</td>\n",
       "      <td>26.22</td>\n",
       "      <td>25.24</td>\n",
       "      <td>22.53</td>\n",
       "      <td>24.13</td>\n",
       "      <td>22.34</td>\n",
       "      <td>26.68</td>\n",
       "      <td>21.14</td>\n",
       "      <td>16.04</td>\n",
       "      <td>November 2017</td>\n",
       "    </tr>\n",
       "    <tr>\n",
       "      <th>32</th>\n",
       "      <td>2015</td>\n",
       "      <td>September</td>\n",
       "      <td>29.36</td>\n",
       "      <td>27.52</td>\n",
       "      <td>25.34</td>\n",
       "      <td>26.83</td>\n",
       "      <td>24.28</td>\n",
       "      <td>25.03</td>\n",
       "      <td>23.95</td>\n",
       "      <td>21.60</td>\n",
       "      <td>September 2015</td>\n",
       "    </tr>\n",
       "    <tr>\n",
       "      <th>50</th>\n",
       "      <td>2017</td>\n",
       "      <td>March</td>\n",
       "      <td>25.66</td>\n",
       "      <td>24.29</td>\n",
       "      <td>20.56</td>\n",
       "      <td>23.09</td>\n",
       "      <td>21.28</td>\n",
       "      <td>23.63</td>\n",
       "      <td>20.46</td>\n",
       "      <td>15.98</td>\n",
       "      <td>March 2017</td>\n",
       "    </tr>\n",
       "    <tr>\n",
       "      <th>6</th>\n",
       "      <td>2013</td>\n",
       "      <td>July</td>\n",
       "      <td>29.70</td>\n",
       "      <td>30.00</td>\n",
       "      <td>26.30</td>\n",
       "      <td>25.90</td>\n",
       "      <td>27.50</td>\n",
       "      <td>26.50</td>\n",
       "      <td>24.90</td>\n",
       "      <td>26.30</td>\n",
       "      <td>July 2013</td>\n",
       "    </tr>\n",
       "    <tr>\n",
       "      <th>19</th>\n",
       "      <td>2014</td>\n",
       "      <td>August</td>\n",
       "      <td>29.80</td>\n",
       "      <td>29.50</td>\n",
       "      <td>25.10</td>\n",
       "      <td>26.80</td>\n",
       "      <td>27.20</td>\n",
       "      <td>26.50</td>\n",
       "      <td>25.20</td>\n",
       "      <td>23.90</td>\n",
       "      <td>August 2014</td>\n",
       "    </tr>\n",
       "    <tr>\n",
       "      <th>24</th>\n",
       "      <td>2015</td>\n",
       "      <td>January</td>\n",
       "      <td>23.48</td>\n",
       "      <td>22.03</td>\n",
       "      <td>19.05</td>\n",
       "      <td>21.55</td>\n",
       "      <td>19.98</td>\n",
       "      <td>19.69</td>\n",
       "      <td>18.90</td>\n",
       "      <td>12.90</td>\n",
       "      <td>January 2015</td>\n",
       "    </tr>\n",
       "    <tr>\n",
       "      <th>51</th>\n",
       "      <td>2017</td>\n",
       "      <td>April</td>\n",
       "      <td>26.70</td>\n",
       "      <td>25.59</td>\n",
       "      <td>22.82</td>\n",
       "      <td>24.10</td>\n",
       "      <td>22.67</td>\n",
       "      <td>23.96</td>\n",
       "      <td>21.25</td>\n",
       "      <td>17.79</td>\n",
       "      <td>April 2017</td>\n",
       "    </tr>\n",
       "    <tr>\n",
       "      <th>42</th>\n",
       "      <td>2016</td>\n",
       "      <td>July</td>\n",
       "      <td>29.89</td>\n",
       "      <td>29.60</td>\n",
       "      <td>25.96</td>\n",
       "      <td>27.50</td>\n",
       "      <td>26.49</td>\n",
       "      <td>27.10</td>\n",
       "      <td>25.30</td>\n",
       "      <td>24.68</td>\n",
       "      <td>July 2016</td>\n",
       "    </tr>\n",
       "    <tr>\n",
       "      <th>79</th>\n",
       "      <td>2019</td>\n",
       "      <td>August</td>\n",
       "      <td>31.75</td>\n",
       "      <td>30.80</td>\n",
       "      <td>26.43</td>\n",
       "      <td>29.18</td>\n",
       "      <td>28.04</td>\n",
       "      <td>30.18</td>\n",
       "      <td>25.27</td>\n",
       "      <td>25.34</td>\n",
       "      <td>August 2019</td>\n",
       "    </tr>\n",
       "    <tr>\n",
       "      <th>72</th>\n",
       "      <td>2019</td>\n",
       "      <td>January</td>\n",
       "      <td>24.85</td>\n",
       "      <td>22.81</td>\n",
       "      <td>19.62</td>\n",
       "      <td>22.65</td>\n",
       "      <td>20.43</td>\n",
       "      <td>24.38</td>\n",
       "      <td>18.46</td>\n",
       "      <td>12.85</td>\n",
       "      <td>January 2019</td>\n",
       "    </tr>\n",
       "    <tr>\n",
       "      <th>82</th>\n",
       "      <td>2019</td>\n",
       "      <td>November</td>\n",
       "      <td>26.80</td>\n",
       "      <td>24.89</td>\n",
       "      <td>20.42</td>\n",
       "      <td>24.71</td>\n",
       "      <td>22.66</td>\n",
       "      <td>25.77</td>\n",
       "      <td>19.99</td>\n",
       "      <td>15.31</td>\n",
       "      <td>November 2019</td>\n",
       "    </tr>\n",
       "    <tr>\n",
       "      <th>74</th>\n",
       "      <td>2019</td>\n",
       "      <td>March</td>\n",
       "      <td>25.62</td>\n",
       "      <td>24.30</td>\n",
       "      <td>21.77</td>\n",
       "      <td>23.48</td>\n",
       "      <td>21.75</td>\n",
       "      <td>25.69</td>\n",
       "      <td>19.76</td>\n",
       "      <td>15.60</td>\n",
       "      <td>March 2019</td>\n",
       "    </tr>\n",
       "  </tbody>\n",
       "</table>\n",
       "</div>"
      ],
      "text/plain": [
       "    Year      Month  Bakerloo  Central  Jubilee  Northern  Piccadilly  \\\n",
       "58  2017   November     26.22    25.24    22.53     24.13       22.34   \n",
       "32  2015  September     29.36    27.52    25.34     26.83       24.28   \n",
       "50  2017      March     25.66    24.29    20.56     23.09       21.28   \n",
       "6   2013       July     29.70    30.00    26.30     25.90       27.50   \n",
       "19  2014     August     29.80    29.50    25.10     26.80       27.20   \n",
       "24  2015    January     23.48    22.03    19.05     21.55       19.98   \n",
       "51  2017      April     26.70    25.59    22.82     24.10       22.67   \n",
       "42  2016       July     29.89    29.60    25.96     27.50       26.49   \n",
       "79  2019     August     31.75    30.80    26.43     29.18       28.04   \n",
       "72  2019    January     24.85    22.81    19.62     22.65       20.43   \n",
       "82  2019   November     26.80    24.89    20.42     24.71       22.66   \n",
       "74  2019      March     25.62    24.30    21.77     23.48       21.75   \n",
       "\n",
       "    Victoria  Waterloo_and_City  Subsurface_lines          Period  \n",
       "58     26.68              21.14             16.04   November 2017  \n",
       "32     25.03              23.95             21.60  September 2015  \n",
       "50     23.63              20.46             15.98      March 2017  \n",
       "6      26.50              24.90             26.30       July 2013  \n",
       "19     26.50              25.20             23.90     August 2014  \n",
       "24     19.69              18.90             12.90    January 2015  \n",
       "51     23.96              21.25             17.79      April 2017  \n",
       "42     27.10              25.30             24.68       July 2016  \n",
       "79     30.18              25.27             25.34     August 2019  \n",
       "72     24.38              18.46             12.85    January 2019  \n",
       "82     25.77              19.99             15.31   November 2019  \n",
       "74     25.69              19.76             15.60      March 2019  "
      ]
     },
     "execution_count": 282,
     "metadata": {},
     "output_type": "execute_result"
    }
   ],
   "source": [
    "# Creating a column to combine the Month and Year columns\n",
    "df[\"Period\"] = df[\"Month\"] + ' ' + df[\"Year\"].astype(str)\n",
    "df.sample(12)"
   ]
  },
  {
   "cell_type": "code",
   "execution_count": 254,
   "metadata": {
    "ExecuteTime": {
     "end_time": "2023-02-01T13:21:24.756226Z",
     "start_time": "2023-02-01T13:21:24.738332Z"
    },
    "colab": {
     "base_uri": "https://localhost:8080/"
    },
    "id": "qGUf961ddI4x",
    "outputId": "a0c299c5-8d54-4d17-8f5c-b443b78420d2",
    "scrolled": true
   },
   "outputs": [
    {
     "data": {
      "text/plain": [
       "Index(['Year', 'Month', 'Bakerloo', 'Central', 'Jubilee', 'Northern',\n",
       "       'Piccadilly', 'Victoria', 'Waterloo_and_City', 'Subsurface_lines',\n",
       "       'Period'],\n",
       "      dtype='object')"
      ]
     },
     "execution_count": 254,
     "metadata": {},
     "output_type": "execute_result"
    }
   ],
   "source": [
    "df.keys()"
   ]
  },
  {
   "cell_type": "markdown",
   "metadata": {},
   "source": [
    "## Average Temperature in London"
   ]
  },
  {
   "cell_type": "code",
   "execution_count": 255,
   "metadata": {
    "ExecuteTime": {
     "end_time": "2023-02-01T13:21:24.844342Z",
     "start_time": "2023-02-01T13:21:24.765834Z"
    }
   },
   "outputs": [],
   "source": [
    "ldn_weather=pd.read_csv('london_weather.csv')\n",
    "ldn_weather.drop(columns=['global_radiation', 'pressure', 'snow_depth'],\n",
    "                 inplace=True)"
   ]
  },
  {
   "cell_type": "code",
   "execution_count": 256,
   "metadata": {
    "ExecuteTime": {
     "end_time": "2023-02-01T13:21:24.866681Z",
     "start_time": "2023-02-01T13:21:24.851956Z"
    }
   },
   "outputs": [
    {
     "data": {
      "text/plain": [
       "dtype('int64')"
      ]
     },
     "execution_count": 256,
     "metadata": {},
     "output_type": "execute_result"
    }
   ],
   "source": [
    "ldn_weather.date.dtypes"
   ]
  },
  {
   "cell_type": "code",
   "execution_count": 257,
   "metadata": {
    "ExecuteTime": {
     "end_time": "2023-02-01T13:21:24.912219Z",
     "start_time": "2023-02-01T13:21:24.874445Z"
    }
   },
   "outputs": [
    {
     "data": {
      "text/html": [
       "<div>\n",
       "<style scoped>\n",
       "    .dataframe tbody tr th:only-of-type {\n",
       "        vertical-align: middle;\n",
       "    }\n",
       "\n",
       "    .dataframe tbody tr th {\n",
       "        vertical-align: top;\n",
       "    }\n",
       "\n",
       "    .dataframe thead th {\n",
       "        text-align: right;\n",
       "    }\n",
       "</style>\n",
       "<table border=\"1\" class=\"dataframe\">\n",
       "  <thead>\n",
       "    <tr style=\"text-align: right;\">\n",
       "      <th></th>\n",
       "      <th>date</th>\n",
       "      <th>cloud_cover</th>\n",
       "      <th>sunshine</th>\n",
       "      <th>max_temp</th>\n",
       "      <th>mean_temp</th>\n",
       "      <th>min_temp</th>\n",
       "      <th>precipitation</th>\n",
       "    </tr>\n",
       "  </thead>\n",
       "  <tbody>\n",
       "    <tr>\n",
       "      <th>15336</th>\n",
       "      <td>20201227</td>\n",
       "      <td>1.0</td>\n",
       "      <td>0.9</td>\n",
       "      <td>7.5</td>\n",
       "      <td>7.5</td>\n",
       "      <td>7.6</td>\n",
       "      <td>2.0</td>\n",
       "    </tr>\n",
       "    <tr>\n",
       "      <th>15337</th>\n",
       "      <td>20201228</td>\n",
       "      <td>7.0</td>\n",
       "      <td>3.7</td>\n",
       "      <td>3.6</td>\n",
       "      <td>1.1</td>\n",
       "      <td>-1.3</td>\n",
       "      <td>0.2</td>\n",
       "    </tr>\n",
       "    <tr>\n",
       "      <th>15338</th>\n",
       "      <td>20201229</td>\n",
       "      <td>7.0</td>\n",
       "      <td>0.0</td>\n",
       "      <td>4.1</td>\n",
       "      <td>2.6</td>\n",
       "      <td>1.1</td>\n",
       "      <td>0.0</td>\n",
       "    </tr>\n",
       "    <tr>\n",
       "      <th>15339</th>\n",
       "      <td>20201230</td>\n",
       "      <td>6.0</td>\n",
       "      <td>0.4</td>\n",
       "      <td>5.6</td>\n",
       "      <td>2.7</td>\n",
       "      <td>-0.1</td>\n",
       "      <td>0.0</td>\n",
       "    </tr>\n",
       "    <tr>\n",
       "      <th>15340</th>\n",
       "      <td>20201231</td>\n",
       "      <td>7.0</td>\n",
       "      <td>1.3</td>\n",
       "      <td>1.5</td>\n",
       "      <td>-0.8</td>\n",
       "      <td>-3.1</td>\n",
       "      <td>0.0</td>\n",
       "    </tr>\n",
       "  </tbody>\n",
       "</table>\n",
       "</div>"
      ],
      "text/plain": [
       "           date  cloud_cover  sunshine  max_temp  mean_temp  min_temp  \\\n",
       "15336  20201227          1.0       0.9       7.5        7.5       7.6   \n",
       "15337  20201228          7.0       3.7       3.6        1.1      -1.3   \n",
       "15338  20201229          7.0       0.0       4.1        2.6       1.1   \n",
       "15339  20201230          6.0       0.4       5.6        2.7      -0.1   \n",
       "15340  20201231          7.0       1.3       1.5       -0.8      -3.1   \n",
       "\n",
       "       precipitation  \n",
       "15336            2.0  \n",
       "15337            0.2  \n",
       "15338            0.0  \n",
       "15339            0.0  \n",
       "15340            0.0  "
      ]
     },
     "execution_count": 257,
     "metadata": {},
     "output_type": "execute_result"
    }
   ],
   "source": [
    "ldn_weather.tail()\n",
    "# From the weather dataset, the dates are entered as int64 which is not parseable in the way we woudl like"
   ]
  },
  {
   "cell_type": "code",
   "execution_count": 258,
   "metadata": {
    "ExecuteTime": {
     "end_time": "2023-02-01T13:21:24.953207Z",
     "start_time": "2023-02-01T13:21:24.919893Z"
    }
   },
   "outputs": [],
   "source": [
    "ldn_weather['date']=pd.to_datetime(ldn_weather['date'], format='%Y%m%d')\n",
    "# Using .to_datetime, we parse the dates into datetime in the format YYYY-mm-dd"
   ]
  },
  {
   "cell_type": "code",
   "execution_count": 259,
   "metadata": {
    "ExecuteTime": {
     "end_time": "2023-02-01T13:21:25.015499Z",
     "start_time": "2023-02-01T13:21:24.962196Z"
    }
   },
   "outputs": [],
   "source": [
    "ldn_weather[\"new_date\"]=list(zip(ldn_weather.date.dt.year, ldn_weather.date.dt.month))\n",
    "# Creates a tuple of the year and month of a given temperature record "
   ]
  },
  {
   "cell_type": "code",
   "execution_count": 260,
   "metadata": {
    "ExecuteTime": {
     "end_time": "2023-02-01T13:21:25.121752Z",
     "start_time": "2023-02-01T13:21:25.065749Z"
    }
   },
   "outputs": [],
   "source": [
    "ldn_weather['Month']=list(ldn_weather.date.dt.month)\n",
    "ldn_weather['Year']=list(ldn_weather.date.dt.year)\n",
    "# Creates the columns 'Month' & 'Year' from the reparsed 'date' column\n",
    "# It will become clear why we created these columns"
   ]
  },
  {
   "cell_type": "code",
   "execution_count": 261,
   "metadata": {
    "ExecuteTime": {
     "end_time": "2023-02-01T13:21:25.190477Z",
     "start_time": "2023-02-01T13:21:25.131674Z"
    }
   },
   "outputs": [
    {
     "data": {
      "text/html": [
       "<div>\n",
       "<style scoped>\n",
       "    .dataframe tbody tr th:only-of-type {\n",
       "        vertical-align: middle;\n",
       "    }\n",
       "\n",
       "    .dataframe tbody tr th {\n",
       "        vertical-align: top;\n",
       "    }\n",
       "\n",
       "    .dataframe thead th {\n",
       "        text-align: right;\n",
       "    }\n",
       "</style>\n",
       "<table border=\"1\" class=\"dataframe\">\n",
       "  <thead>\n",
       "    <tr style=\"text-align: right;\">\n",
       "      <th></th>\n",
       "      <th>date</th>\n",
       "      <th>cloud_cover</th>\n",
       "      <th>sunshine</th>\n",
       "      <th>max_temp</th>\n",
       "      <th>mean_temp</th>\n",
       "      <th>min_temp</th>\n",
       "      <th>precipitation</th>\n",
       "      <th>new_date</th>\n",
       "      <th>Month</th>\n",
       "      <th>Year</th>\n",
       "    </tr>\n",
       "  </thead>\n",
       "  <tbody>\n",
       "    <tr>\n",
       "      <th>0</th>\n",
       "      <td>1979-01-01</td>\n",
       "      <td>2.0</td>\n",
       "      <td>7.0</td>\n",
       "      <td>2.3</td>\n",
       "      <td>-4.1</td>\n",
       "      <td>-7.5</td>\n",
       "      <td>0.4</td>\n",
       "      <td>(1979, 1)</td>\n",
       "      <td>1</td>\n",
       "      <td>1979</td>\n",
       "    </tr>\n",
       "    <tr>\n",
       "      <th>1</th>\n",
       "      <td>1979-01-02</td>\n",
       "      <td>6.0</td>\n",
       "      <td>1.7</td>\n",
       "      <td>1.6</td>\n",
       "      <td>-2.6</td>\n",
       "      <td>-7.5</td>\n",
       "      <td>0.0</td>\n",
       "      <td>(1979, 1)</td>\n",
       "      <td>1</td>\n",
       "      <td>1979</td>\n",
       "    </tr>\n",
       "    <tr>\n",
       "      <th>2</th>\n",
       "      <td>1979-01-03</td>\n",
       "      <td>5.0</td>\n",
       "      <td>0.0</td>\n",
       "      <td>1.3</td>\n",
       "      <td>-2.8</td>\n",
       "      <td>-7.2</td>\n",
       "      <td>0.0</td>\n",
       "      <td>(1979, 1)</td>\n",
       "      <td>1</td>\n",
       "      <td>1979</td>\n",
       "    </tr>\n",
       "    <tr>\n",
       "      <th>3</th>\n",
       "      <td>1979-01-04</td>\n",
       "      <td>8.0</td>\n",
       "      <td>0.0</td>\n",
       "      <td>-0.3</td>\n",
       "      <td>-2.6</td>\n",
       "      <td>-6.5</td>\n",
       "      <td>0.0</td>\n",
       "      <td>(1979, 1)</td>\n",
       "      <td>1</td>\n",
       "      <td>1979</td>\n",
       "    </tr>\n",
       "    <tr>\n",
       "      <th>4</th>\n",
       "      <td>1979-01-05</td>\n",
       "      <td>6.0</td>\n",
       "      <td>2.0</td>\n",
       "      <td>5.6</td>\n",
       "      <td>-0.8</td>\n",
       "      <td>-1.4</td>\n",
       "      <td>0.0</td>\n",
       "      <td>(1979, 1)</td>\n",
       "      <td>1</td>\n",
       "      <td>1979</td>\n",
       "    </tr>\n",
       "  </tbody>\n",
       "</table>\n",
       "</div>"
      ],
      "text/plain": [
       "        date  cloud_cover  sunshine  max_temp  mean_temp  min_temp  \\\n",
       "0 1979-01-01          2.0       7.0       2.3       -4.1      -7.5   \n",
       "1 1979-01-02          6.0       1.7       1.6       -2.6      -7.5   \n",
       "2 1979-01-03          5.0       0.0       1.3       -2.8      -7.2   \n",
       "3 1979-01-04          8.0       0.0      -0.3       -2.6      -6.5   \n",
       "4 1979-01-05          6.0       2.0       5.6       -0.8      -1.4   \n",
       "\n",
       "   precipitation   new_date  Month  Year  \n",
       "0            0.4  (1979, 1)      1  1979  \n",
       "1            0.0  (1979, 1)      1  1979  \n",
       "2            0.0  (1979, 1)      1  1979  \n",
       "3            0.0  (1979, 1)      1  1979  \n",
       "4            0.0  (1979, 1)      1  1979  "
      ]
     },
     "execution_count": 261,
     "metadata": {},
     "output_type": "execute_result"
    }
   ],
   "source": [
    "ldn_weather.head()"
   ]
  },
  {
   "cell_type": "code",
   "execution_count": 262,
   "metadata": {
    "ExecuteTime": {
     "end_time": "2023-02-01T13:21:25.287474Z",
     "start_time": "2023-02-01T13:21:25.240865Z"
    }
   },
   "outputs": [
    {
     "data": {
      "text/html": [
       "<div>\n",
       "<style scoped>\n",
       "    .dataframe tbody tr th:only-of-type {\n",
       "        vertical-align: middle;\n",
       "    }\n",
       "\n",
       "    .dataframe tbody tr th {\n",
       "        vertical-align: top;\n",
       "    }\n",
       "\n",
       "    .dataframe thead th {\n",
       "        text-align: right;\n",
       "    }\n",
       "</style>\n",
       "<table border=\"1\" class=\"dataframe\">\n",
       "  <thead>\n",
       "    <tr style=\"text-align: right;\">\n",
       "      <th></th>\n",
       "      <th>date</th>\n",
       "      <th>cloud_cover</th>\n",
       "      <th>sunshine</th>\n",
       "      <th>max_temp</th>\n",
       "      <th>mean_temp</th>\n",
       "      <th>min_temp</th>\n",
       "      <th>precipitation</th>\n",
       "      <th>new_date</th>\n",
       "      <th>Month</th>\n",
       "      <th>Year</th>\n",
       "    </tr>\n",
       "  </thead>\n",
       "  <tbody>\n",
       "    <tr>\n",
       "      <th>15336</th>\n",
       "      <td>2020-12-27</td>\n",
       "      <td>1.0</td>\n",
       "      <td>0.9</td>\n",
       "      <td>7.5</td>\n",
       "      <td>7.5</td>\n",
       "      <td>7.6</td>\n",
       "      <td>2.0</td>\n",
       "      <td>(2020, 12)</td>\n",
       "      <td>12</td>\n",
       "      <td>2020</td>\n",
       "    </tr>\n",
       "    <tr>\n",
       "      <th>15337</th>\n",
       "      <td>2020-12-28</td>\n",
       "      <td>7.0</td>\n",
       "      <td>3.7</td>\n",
       "      <td>3.6</td>\n",
       "      <td>1.1</td>\n",
       "      <td>-1.3</td>\n",
       "      <td>0.2</td>\n",
       "      <td>(2020, 12)</td>\n",
       "      <td>12</td>\n",
       "      <td>2020</td>\n",
       "    </tr>\n",
       "    <tr>\n",
       "      <th>15338</th>\n",
       "      <td>2020-12-29</td>\n",
       "      <td>7.0</td>\n",
       "      <td>0.0</td>\n",
       "      <td>4.1</td>\n",
       "      <td>2.6</td>\n",
       "      <td>1.1</td>\n",
       "      <td>0.0</td>\n",
       "      <td>(2020, 12)</td>\n",
       "      <td>12</td>\n",
       "      <td>2020</td>\n",
       "    </tr>\n",
       "    <tr>\n",
       "      <th>15339</th>\n",
       "      <td>2020-12-30</td>\n",
       "      <td>6.0</td>\n",
       "      <td>0.4</td>\n",
       "      <td>5.6</td>\n",
       "      <td>2.7</td>\n",
       "      <td>-0.1</td>\n",
       "      <td>0.0</td>\n",
       "      <td>(2020, 12)</td>\n",
       "      <td>12</td>\n",
       "      <td>2020</td>\n",
       "    </tr>\n",
       "    <tr>\n",
       "      <th>15340</th>\n",
       "      <td>2020-12-31</td>\n",
       "      <td>7.0</td>\n",
       "      <td>1.3</td>\n",
       "      <td>1.5</td>\n",
       "      <td>-0.8</td>\n",
       "      <td>-3.1</td>\n",
       "      <td>0.0</td>\n",
       "      <td>(2020, 12)</td>\n",
       "      <td>12</td>\n",
       "      <td>2020</td>\n",
       "    </tr>\n",
       "  </tbody>\n",
       "</table>\n",
       "</div>"
      ],
      "text/plain": [
       "            date  cloud_cover  sunshine  max_temp  mean_temp  min_temp  \\\n",
       "15336 2020-12-27          1.0       0.9       7.5        7.5       7.6   \n",
       "15337 2020-12-28          7.0       3.7       3.6        1.1      -1.3   \n",
       "15338 2020-12-29          7.0       0.0       4.1        2.6       1.1   \n",
       "15339 2020-12-30          6.0       0.4       5.6        2.7      -0.1   \n",
       "15340 2020-12-31          7.0       1.3       1.5       -0.8      -3.1   \n",
       "\n",
       "       precipitation    new_date  Month  Year  \n",
       "15336            2.0  (2020, 12)     12  2020  \n",
       "15337            0.2  (2020, 12)     12  2020  \n",
       "15338            0.0  (2020, 12)     12  2020  \n",
       "15339            0.0  (2020, 12)     12  2020  \n",
       "15340            0.0  (2020, 12)     12  2020  "
      ]
     },
     "execution_count": 262,
     "metadata": {},
     "output_type": "execute_result"
    }
   ],
   "source": [
    "ldn_weather.tail()"
   ]
  },
  {
   "cell_type": "code",
   "execution_count": 263,
   "metadata": {
    "ExecuteTime": {
     "end_time": "2023-02-01T13:21:25.337010Z",
     "start_time": "2023-02-01T13:21:25.293658Z"
    },
    "scrolled": true
   },
   "outputs": [
    {
     "data": {
      "text/html": [
       "<div>\n",
       "<style scoped>\n",
       "    .dataframe tbody tr th:only-of-type {\n",
       "        vertical-align: middle;\n",
       "    }\n",
       "\n",
       "    .dataframe tbody tr th {\n",
       "        vertical-align: top;\n",
       "    }\n",
       "\n",
       "    .dataframe thead th {\n",
       "        text-align: right;\n",
       "    }\n",
       "</style>\n",
       "<table border=\"1\" class=\"dataframe\">\n",
       "  <thead>\n",
       "    <tr style=\"text-align: right;\">\n",
       "      <th></th>\n",
       "      <th>new_date</th>\n",
       "      <th>cloud_cover</th>\n",
       "      <th>sunshine</th>\n",
       "      <th>max_temp</th>\n",
       "      <th>mean_temp</th>\n",
       "      <th>min_temp</th>\n",
       "      <th>precipitation</th>\n",
       "      <th>Month</th>\n",
       "      <th>Year</th>\n",
       "    </tr>\n",
       "  </thead>\n",
       "  <tbody>\n",
       "    <tr>\n",
       "      <th>499</th>\n",
       "      <td>(2020, 8)</td>\n",
       "      <td>5.000000</td>\n",
       "      <td>6.135484</td>\n",
       "      <td>25.200000</td>\n",
       "      <td>20.393333</td>\n",
       "      <td>15.738710</td>\n",
       "      <td>1.812903</td>\n",
       "      <td>8.0</td>\n",
       "      <td>2020.0</td>\n",
       "    </tr>\n",
       "    <tr>\n",
       "      <th>500</th>\n",
       "      <td>(2020, 9)</td>\n",
       "      <td>4.200000</td>\n",
       "      <td>6.540000</td>\n",
       "      <td>21.693333</td>\n",
       "      <td>16.616667</td>\n",
       "      <td>11.580000</td>\n",
       "      <td>0.640000</td>\n",
       "      <td>9.0</td>\n",
       "      <td>2020.0</td>\n",
       "    </tr>\n",
       "    <tr>\n",
       "      <th>501</th>\n",
       "      <td>(2020, 10)</td>\n",
       "      <td>5.774194</td>\n",
       "      <td>1.887097</td>\n",
       "      <td>14.970000</td>\n",
       "      <td>11.933333</td>\n",
       "      <td>9.038710</td>\n",
       "      <td>4.632258</td>\n",
       "      <td>10.0</td>\n",
       "      <td>2020.0</td>\n",
       "    </tr>\n",
       "    <tr>\n",
       "      <th>502</th>\n",
       "      <td>(2020, 11)</td>\n",
       "      <td>5.933333</td>\n",
       "      <td>1.716667</td>\n",
       "      <td>12.636667</td>\n",
       "      <td>9.806667</td>\n",
       "      <td>7.026667</td>\n",
       "      <td>1.660000</td>\n",
       "      <td>11.0</td>\n",
       "      <td>2020.0</td>\n",
       "    </tr>\n",
       "    <tr>\n",
       "      <th>503</th>\n",
       "      <td>(2020, 12)</td>\n",
       "      <td>5.466667</td>\n",
       "      <td>1.425806</td>\n",
       "      <td>8.325806</td>\n",
       "      <td>6.232258</td>\n",
       "      <td>4.187097</td>\n",
       "      <td>2.335484</td>\n",
       "      <td>12.0</td>\n",
       "      <td>2020.0</td>\n",
       "    </tr>\n",
       "  </tbody>\n",
       "</table>\n",
       "</div>"
      ],
      "text/plain": [
       "       new_date  cloud_cover  sunshine   max_temp  mean_temp   min_temp  \\\n",
       "499   (2020, 8)     5.000000  6.135484  25.200000  20.393333  15.738710   \n",
       "500   (2020, 9)     4.200000  6.540000  21.693333  16.616667  11.580000   \n",
       "501  (2020, 10)     5.774194  1.887097  14.970000  11.933333   9.038710   \n",
       "502  (2020, 11)     5.933333  1.716667  12.636667   9.806667   7.026667   \n",
       "503  (2020, 12)     5.466667  1.425806   8.325806   6.232258   4.187097   \n",
       "\n",
       "     precipitation  Month    Year  \n",
       "499       1.812903    8.0  2020.0  \n",
       "500       0.640000    9.0  2020.0  \n",
       "501       4.632258   10.0  2020.0  \n",
       "502       1.660000   11.0  2020.0  \n",
       "503       2.335484   12.0  2020.0  "
      ]
     },
     "execution_count": 263,
     "metadata": {},
     "output_type": "execute_result"
    }
   ],
   "source": [
    "# To make the data more comparable to the TfL dataframe, we group all temperature data by 'new_date',\n",
    "# the month and year and calculte the averages.\n",
    "weather_grpd=ldn_weather.groupby(['new_date']).mean(numeric_only=True).reset_index()\n",
    "weather_grpd.tail()"
   ]
  },
  {
   "cell_type": "code",
   "execution_count": 264,
   "metadata": {
    "ExecuteTime": {
     "end_time": "2023-02-01T13:21:25.360611Z",
     "start_time": "2023-02-01T13:21:25.346624Z"
    }
   },
   "outputs": [],
   "source": [
    "weather_grpd['Month'].replace({1: 'January',\n",
    "                               2: 'February',\n",
    "                               3: 'March',\n",
    "                               4: 'April',\n",
    "                               5: 'May',\n",
    "                               6: 'June',\n",
    "                               7: 'July',\n",
    "                               8: 'August',\n",
    "                               9: 'September',\n",
    "                               10: 'October',\n",
    "                               11: 'November',\n",
    "                               12: 'December'},\n",
    "                              inplace=True)\n",
    "# Parsing the 'Month' column into actual month names"
   ]
  },
  {
   "cell_type": "code",
   "execution_count": 265,
   "metadata": {
    "ExecuteTime": {
     "end_time": "2023-02-01T13:21:25.396621Z",
     "start_time": "2023-02-01T13:21:25.367732Z"
    }
   },
   "outputs": [
    {
     "data": {
      "text/html": [
       "<div>\n",
       "<style scoped>\n",
       "    .dataframe tbody tr th:only-of-type {\n",
       "        vertical-align: middle;\n",
       "    }\n",
       "\n",
       "    .dataframe tbody tr th {\n",
       "        vertical-align: top;\n",
       "    }\n",
       "\n",
       "    .dataframe thead th {\n",
       "        text-align: right;\n",
       "    }\n",
       "</style>\n",
       "<table border=\"1\" class=\"dataframe\">\n",
       "  <thead>\n",
       "    <tr style=\"text-align: right;\">\n",
       "      <th></th>\n",
       "      <th>new_date</th>\n",
       "      <th>cloud_cover</th>\n",
       "      <th>sunshine</th>\n",
       "      <th>max_temp</th>\n",
       "      <th>mean_temp</th>\n",
       "      <th>min_temp</th>\n",
       "      <th>precipitation</th>\n",
       "      <th>Month</th>\n",
       "      <th>Year</th>\n",
       "    </tr>\n",
       "  </thead>\n",
       "  <tbody>\n",
       "    <tr>\n",
       "      <th>0</th>\n",
       "      <td>(1979, 1)</td>\n",
       "      <td>5.724138</td>\n",
       "      <td>1.887097</td>\n",
       "      <td>4.116129</td>\n",
       "      <td>0.616129</td>\n",
       "      <td>-2.551613</td>\n",
       "      <td>1.932258</td>\n",
       "      <td>January</td>\n",
       "      <td>1979.0</td>\n",
       "    </tr>\n",
       "    <tr>\n",
       "      <th>1</th>\n",
       "      <td>(1979, 2)</td>\n",
       "      <td>6.360000</td>\n",
       "      <td>1.889286</td>\n",
       "      <td>4.532143</td>\n",
       "      <td>2.042857</td>\n",
       "      <td>-0.428571</td>\n",
       "      <td>1.571429</td>\n",
       "      <td>February</td>\n",
       "      <td>1979.0</td>\n",
       "    </tr>\n",
       "    <tr>\n",
       "      <th>2</th>\n",
       "      <td>(1979, 3)</td>\n",
       "      <td>5.967742</td>\n",
       "      <td>3.212903</td>\n",
       "      <td>9.238710</td>\n",
       "      <td>5.587097</td>\n",
       "      <td>1.993548</td>\n",
       "      <td>3.061290</td>\n",
       "      <td>March</td>\n",
       "      <td>1979.0</td>\n",
       "    </tr>\n",
       "    <tr>\n",
       "      <th>3</th>\n",
       "      <td>(1979, 4)</td>\n",
       "      <td>6.133333</td>\n",
       "      <td>3.543333</td>\n",
       "      <td>12.520000</td>\n",
       "      <td>8.743333</td>\n",
       "      <td>4.810000</td>\n",
       "      <td>2.586667</td>\n",
       "      <td>April</td>\n",
       "      <td>1979.0</td>\n",
       "    </tr>\n",
       "    <tr>\n",
       "      <th>4</th>\n",
       "      <td>(1979, 5)</td>\n",
       "      <td>5.290323</td>\n",
       "      <td>6.470968</td>\n",
       "      <td>16.206452</td>\n",
       "      <td>11.490323</td>\n",
       "      <td>7.151613</td>\n",
       "      <td>2.806452</td>\n",
       "      <td>May</td>\n",
       "      <td>1979.0</td>\n",
       "    </tr>\n",
       "  </tbody>\n",
       "</table>\n",
       "</div>"
      ],
      "text/plain": [
       "    new_date  cloud_cover  sunshine   max_temp  mean_temp  min_temp  \\\n",
       "0  (1979, 1)     5.724138  1.887097   4.116129   0.616129 -2.551613   \n",
       "1  (1979, 2)     6.360000  1.889286   4.532143   2.042857 -0.428571   \n",
       "2  (1979, 3)     5.967742  3.212903   9.238710   5.587097  1.993548   \n",
       "3  (1979, 4)     6.133333  3.543333  12.520000   8.743333  4.810000   \n",
       "4  (1979, 5)     5.290323  6.470968  16.206452  11.490323  7.151613   \n",
       "\n",
       "   precipitation     Month    Year  \n",
       "0       1.932258   January  1979.0  \n",
       "1       1.571429  February  1979.0  \n",
       "2       3.061290     March  1979.0  \n",
       "3       2.586667     April  1979.0  \n",
       "4       2.806452       May  1979.0  "
      ]
     },
     "execution_count": 265,
     "metadata": {},
     "output_type": "execute_result"
    }
   ],
   "source": [
    "weather_grpd.head()"
   ]
  },
  {
   "cell_type": "code",
   "execution_count": 266,
   "metadata": {
    "ExecuteTime": {
     "end_time": "2023-02-01T13:21:25.412450Z",
     "start_time": "2023-02-01T13:21:25.401737Z"
    }
   },
   "outputs": [],
   "source": [
    "weather_grpd=weather_grpd[weather_grpd['Year'] > 2012] \n",
    "# Setting the weather data to align with the tfl temperature data available to us"
   ]
  },
  {
   "cell_type": "code",
   "execution_count": 267,
   "metadata": {
    "ExecuteTime": {
     "end_time": "2023-02-01T13:21:25.428556Z",
     "start_time": "2023-02-01T13:21:25.418276Z"
    }
   },
   "outputs": [],
   "source": [
    "weather_grpd.Year=weather_grpd.Year.astype(int)"
   ]
  },
  {
   "cell_type": "code",
   "execution_count": 268,
   "metadata": {
    "ExecuteTime": {
     "end_time": "2023-02-01T13:21:25.461771Z",
     "start_time": "2023-02-01T13:21:25.433391Z"
    },
    "scrolled": false
   },
   "outputs": [
    {
     "data": {
      "text/html": [
       "<div>\n",
       "<style scoped>\n",
       "    .dataframe tbody tr th:only-of-type {\n",
       "        vertical-align: middle;\n",
       "    }\n",
       "\n",
       "    .dataframe tbody tr th {\n",
       "        vertical-align: top;\n",
       "    }\n",
       "\n",
       "    .dataframe thead th {\n",
       "        text-align: right;\n",
       "    }\n",
       "</style>\n",
       "<table border=\"1\" class=\"dataframe\">\n",
       "  <thead>\n",
       "    <tr style=\"text-align: right;\">\n",
       "      <th></th>\n",
       "      <th>new_date</th>\n",
       "      <th>cloud_cover</th>\n",
       "      <th>sunshine</th>\n",
       "      <th>max_temp</th>\n",
       "      <th>mean_temp</th>\n",
       "      <th>min_temp</th>\n",
       "      <th>precipitation</th>\n",
       "      <th>Month</th>\n",
       "      <th>Year</th>\n",
       "    </tr>\n",
       "  </thead>\n",
       "  <tbody>\n",
       "    <tr>\n",
       "      <th>408</th>\n",
       "      <td>(2013, 1)</td>\n",
       "      <td>6.387097</td>\n",
       "      <td>1.112903</td>\n",
       "      <td>6.529032</td>\n",
       "      <td>4.296774</td>\n",
       "      <td>2.016129</td>\n",
       "      <td>1.616129</td>\n",
       "      <td>January</td>\n",
       "      <td>2013</td>\n",
       "    </tr>\n",
       "    <tr>\n",
       "      <th>409</th>\n",
       "      <td>(2013, 2)</td>\n",
       "      <td>5.857143</td>\n",
       "      <td>2.317857</td>\n",
       "      <td>6.639286</td>\n",
       "      <td>3.953571</td>\n",
       "      <td>1.214286</td>\n",
       "      <td>1.171429</td>\n",
       "      <td>February</td>\n",
       "      <td>2013</td>\n",
       "    </tr>\n",
       "    <tr>\n",
       "      <th>410</th>\n",
       "      <td>(2013, 3)</td>\n",
       "      <td>6.322581</td>\n",
       "      <td>2.009677</td>\n",
       "      <td>6.880645</td>\n",
       "      <td>4.074194</td>\n",
       "      <td>1.216129</td>\n",
       "      <td>1.703226</td>\n",
       "      <td>March</td>\n",
       "      <td>2013</td>\n",
       "    </tr>\n",
       "    <tr>\n",
       "      <th>411</th>\n",
       "      <td>(2013, 4)</td>\n",
       "      <td>4.266667</td>\n",
       "      <td>5.426667</td>\n",
       "      <td>13.770000</td>\n",
       "      <td>9.090000</td>\n",
       "      <td>4.680000</td>\n",
       "      <td>1.133333</td>\n",
       "      <td>April</td>\n",
       "      <td>2013</td>\n",
       "    </tr>\n",
       "    <tr>\n",
       "      <th>412</th>\n",
       "      <td>(2013, 5)</td>\n",
       "      <td>4.709677</td>\n",
       "      <td>5.267742</td>\n",
       "      <td>16.432258</td>\n",
       "      <td>12.074194</td>\n",
       "      <td>7.738710</td>\n",
       "      <td>1.348387</td>\n",
       "      <td>May</td>\n",
       "      <td>2013</td>\n",
       "    </tr>\n",
       "  </tbody>\n",
       "</table>\n",
       "</div>"
      ],
      "text/plain": [
       "      new_date  cloud_cover  sunshine   max_temp  mean_temp  min_temp  \\\n",
       "408  (2013, 1)     6.387097  1.112903   6.529032   4.296774  2.016129   \n",
       "409  (2013, 2)     5.857143  2.317857   6.639286   3.953571  1.214286   \n",
       "410  (2013, 3)     6.322581  2.009677   6.880645   4.074194  1.216129   \n",
       "411  (2013, 4)     4.266667  5.426667  13.770000   9.090000  4.680000   \n",
       "412  (2013, 5)     4.709677  5.267742  16.432258  12.074194  7.738710   \n",
       "\n",
       "     precipitation     Month  Year  \n",
       "408       1.616129   January  2013  \n",
       "409       1.171429  February  2013  \n",
       "410       1.703226     March  2013  \n",
       "411       1.133333     April  2013  \n",
       "412       1.348387       May  2013  "
      ]
     },
     "execution_count": 268,
     "metadata": {},
     "output_type": "execute_result"
    }
   ],
   "source": [
    "weather_grpd.head()"
   ]
  },
  {
   "cell_type": "code",
   "execution_count": 269,
   "metadata": {
    "ExecuteTime": {
     "end_time": "2023-02-01T13:21:25.505769Z",
     "start_time": "2023-02-01T13:21:25.466466Z"
    }
   },
   "outputs": [
    {
     "data": {
      "text/html": [
       "<div>\n",
       "<style scoped>\n",
       "    .dataframe tbody tr th:only-of-type {\n",
       "        vertical-align: middle;\n",
       "    }\n",
       "\n",
       "    .dataframe tbody tr th {\n",
       "        vertical-align: top;\n",
       "    }\n",
       "\n",
       "    .dataframe thead th {\n",
       "        text-align: right;\n",
       "    }\n",
       "</style>\n",
       "<table border=\"1\" class=\"dataframe\">\n",
       "  <thead>\n",
       "    <tr style=\"text-align: right;\">\n",
       "      <th></th>\n",
       "      <th>new_date</th>\n",
       "      <th>cloud_cover</th>\n",
       "      <th>sunshine</th>\n",
       "      <th>max_temp</th>\n",
       "      <th>mean_temp</th>\n",
       "      <th>min_temp</th>\n",
       "      <th>precipitation</th>\n",
       "      <th>Month</th>\n",
       "      <th>Year</th>\n",
       "      <th>Period</th>\n",
       "    </tr>\n",
       "  </thead>\n",
       "  <tbody>\n",
       "    <tr>\n",
       "      <th>408</th>\n",
       "      <td>(2013, 1)</td>\n",
       "      <td>6.387097</td>\n",
       "      <td>1.112903</td>\n",
       "      <td>6.529032</td>\n",
       "      <td>4.296774</td>\n",
       "      <td>2.016129</td>\n",
       "      <td>1.616129</td>\n",
       "      <td>January</td>\n",
       "      <td>2013</td>\n",
       "      <td>January 2013</td>\n",
       "    </tr>\n",
       "    <tr>\n",
       "      <th>409</th>\n",
       "      <td>(2013, 2)</td>\n",
       "      <td>5.857143</td>\n",
       "      <td>2.317857</td>\n",
       "      <td>6.639286</td>\n",
       "      <td>3.953571</td>\n",
       "      <td>1.214286</td>\n",
       "      <td>1.171429</td>\n",
       "      <td>February</td>\n",
       "      <td>2013</td>\n",
       "      <td>February 2013</td>\n",
       "    </tr>\n",
       "    <tr>\n",
       "      <th>410</th>\n",
       "      <td>(2013, 3)</td>\n",
       "      <td>6.322581</td>\n",
       "      <td>2.009677</td>\n",
       "      <td>6.880645</td>\n",
       "      <td>4.074194</td>\n",
       "      <td>1.216129</td>\n",
       "      <td>1.703226</td>\n",
       "      <td>March</td>\n",
       "      <td>2013</td>\n",
       "      <td>March 2013</td>\n",
       "    </tr>\n",
       "    <tr>\n",
       "      <th>411</th>\n",
       "      <td>(2013, 4)</td>\n",
       "      <td>4.266667</td>\n",
       "      <td>5.426667</td>\n",
       "      <td>13.770000</td>\n",
       "      <td>9.090000</td>\n",
       "      <td>4.680000</td>\n",
       "      <td>1.133333</td>\n",
       "      <td>April</td>\n",
       "      <td>2013</td>\n",
       "      <td>April 2013</td>\n",
       "    </tr>\n",
       "    <tr>\n",
       "      <th>412</th>\n",
       "      <td>(2013, 5)</td>\n",
       "      <td>4.709677</td>\n",
       "      <td>5.267742</td>\n",
       "      <td>16.432258</td>\n",
       "      <td>12.074194</td>\n",
       "      <td>7.738710</td>\n",
       "      <td>1.348387</td>\n",
       "      <td>May</td>\n",
       "      <td>2013</td>\n",
       "      <td>May 2013</td>\n",
       "    </tr>\n",
       "  </tbody>\n",
       "</table>\n",
       "</div>"
      ],
      "text/plain": [
       "      new_date  cloud_cover  sunshine   max_temp  mean_temp  min_temp  \\\n",
       "408  (2013, 1)     6.387097  1.112903   6.529032   4.296774  2.016129   \n",
       "409  (2013, 2)     5.857143  2.317857   6.639286   3.953571  1.214286   \n",
       "410  (2013, 3)     6.322581  2.009677   6.880645   4.074194  1.216129   \n",
       "411  (2013, 4)     4.266667  5.426667  13.770000   9.090000  4.680000   \n",
       "412  (2013, 5)     4.709677  5.267742  16.432258  12.074194  7.738710   \n",
       "\n",
       "     precipitation     Month  Year         Period  \n",
       "408       1.616129   January  2013   January 2013  \n",
       "409       1.171429  February  2013  February 2013  \n",
       "410       1.703226     March  2013     March 2013  \n",
       "411       1.133333     April  2013     April 2013  \n",
       "412       1.348387       May  2013       May 2013  "
      ]
     },
     "execution_count": 269,
     "metadata": {},
     "output_type": "execute_result"
    }
   ],
   "source": [
    "weather_grpd[\"Period\"] = weather_grpd[\"Month\"] + ' ' + weather_grpd[\"Year\"].astype(str)\n",
    "weather_grpd.head()"
   ]
  },
  {
   "cell_type": "code",
   "execution_count": 270,
   "metadata": {
    "ExecuteTime": {
     "end_time": "2023-02-01T13:21:25.726079Z",
     "start_time": "2023-02-01T13:21:25.519055Z"
    },
    "scrolled": false
   },
   "outputs": [
    {
     "data": {
      "application/vnd.plotly.v1+json": {
       "config": {
        "plotlyServerURL": "https://plot.ly"
       },
       "data": [
        {
         "hovertemplate": "Year=2013<br>Month=%{x}<br>y=%{y}<extra></extra>",
         "legendgroup": "2013",
         "line": {
          "color": "#636efa",
          "dash": "solid"
         },
         "marker": {
          "symbol": "circle"
         },
         "mode": "lines+markers",
         "name": "2013",
         "orientation": "v",
         "showlegend": true,
         "type": "scatter",
         "x": [
          "January",
          "February",
          "March",
          "April",
          "May",
          "June",
          "July",
          "August",
          "September",
          "October",
          "November",
          "December"
         ],
         "xaxis": "x",
         "y": [
          4.3,
          3.95,
          4.07,
          9.09,
          12.07,
          15.77,
          21.14,
          19.3,
          15.42,
          13.79,
          7.58,
          6.9
         ],
         "yaxis": "y"
        },
        {
         "hovertemplate": "Year=2014<br>Month=%{x}<br>y=%{y}<extra></extra>",
         "legendgroup": "2014",
         "line": {
          "color": "#EF553B",
          "dash": "solid"
         },
         "marker": {
          "symbol": "circle"
         },
         "mode": "lines+markers",
         "name": "2014",
         "orientation": "v",
         "showlegend": true,
         "type": "scatter",
         "x": [
          "January",
          "February",
          "March",
          "April",
          "May",
          "June",
          "July",
          "August",
          "September",
          "October",
          "November",
          "December"
         ],
         "xaxis": "x",
         "y": [
          6.88,
          7.53,
          9.27,
          11.82,
          13.91,
          17.32,
          20.38,
          17.24,
          17.14,
          14.29,
          9.71,
          6.1
         ],
         "yaxis": "y"
        },
        {
         "hovertemplate": "Year=2015<br>Month=%{x}<br>y=%{y}<extra></extra>",
         "legendgroup": "2015",
         "line": {
          "color": "#00cc96",
          "dash": "solid"
         },
         "marker": {
          "symbol": "circle"
         },
         "mode": "lines+markers",
         "name": "2015",
         "orientation": "v",
         "showlegend": true,
         "type": "scatter",
         "x": [
          "January",
          "February",
          "March",
          "April",
          "May",
          "June",
          "July",
          "August",
          "September",
          "October",
          "November",
          "December"
         ],
         "xaxis": "x",
         "y": [
          5.25,
          4.91,
          7.87,
          11.12,
          13.18,
          16.84,
          18.78,
          18.15,
          14.42,
          12.56,
          10.71,
          11.29
         ],
         "yaxis": "y"
        },
        {
         "hovertemplate": "Year=2016<br>Month=%{x}<br>y=%{y}<extra></extra>",
         "legendgroup": "2016",
         "line": {
          "color": "#ab63fa",
          "dash": "solid"
         },
         "marker": {
          "symbol": "circle"
         },
         "mode": "lines+markers",
         "name": "2016",
         "orientation": "v",
         "showlegend": true,
         "type": "scatter",
         "x": [
          "January",
          "February",
          "March",
          "April",
          "May",
          "June",
          "July",
          "August",
          "September",
          "October",
          "November",
          "December"
         ],
         "xaxis": "x",
         "y": [
          6.25,
          6.1,
          6.99,
          9.19,
          14.37,
          16.68,
          19.21,
          19.69,
          18.02,
          12.29,
          7.15,
          6.82
         ],
         "yaxis": "y"
        },
        {
         "hovertemplate": "Year=2017<br>Month=%{x}<br>y=%{y}<extra></extra>",
         "legendgroup": "2017",
         "line": {
          "color": "#FFA15A",
          "dash": "solid"
         },
         "marker": {
          "symbol": "circle"
         },
         "mode": "lines+markers",
         "name": "2017",
         "orientation": "v",
         "showlegend": true,
         "type": "scatter",
         "x": [
          "January",
          "February",
          "March",
          "April",
          "May",
          "June",
          "July",
          "August",
          "September",
          "October",
          "November",
          "December"
         ],
         "xaxis": "x",
         "y": [
          4.12,
          7.24,
          10.37,
          10.87,
          15.09,
          18.95,
          19.39,
          17.76,
          15.09,
          13.7,
          7.81,
          5.78
         ],
         "yaxis": "y"
        },
        {
         "hovertemplate": "Year=2018<br>Month=%{x}<br>y=%{y}<extra></extra>",
         "legendgroup": "2018",
         "line": {
          "color": "#19d3f3",
          "dash": "solid"
         },
         "marker": {
          "symbol": "circle"
         },
         "mode": "lines+markers",
         "name": "2018",
         "orientation": "v",
         "showlegend": true,
         "type": "scatter",
         "x": [
          "January",
          "February",
          "March",
          "April",
          "May",
          "June",
          "July",
          "August",
          "September",
          "October",
          "November",
          "December"
         ],
         "xaxis": "x",
         "y": [
          6.72,
          3.68,
          6.4,
          11.7,
          15.35,
          18.66,
          22.31,
          19.5,
          15.93,
          12.49,
          9.02,
          7.91
         ],
         "yaxis": "y"
        },
        {
         "hovertemplate": "Year=2019<br>Month=%{x}<br>y=%{y}<extra></extra>",
         "legendgroup": "2019",
         "line": {
          "color": "#FF6692",
          "dash": "solid"
         },
         "marker": {
          "symbol": "circle"
         },
         "mode": "lines+markers",
         "name": "2019",
         "orientation": "v",
         "showlegend": true,
         "type": "scatter",
         "x": [
          "January",
          "February",
          "March",
          "April",
          "May",
          "June",
          "July",
          "August",
          "September",
          "October",
          "November",
          "December"
         ],
         "xaxis": "x",
         "y": [
          4.81,
          7.84,
          9.48,
          10.74,
          13.45,
          16.89,
          20.18,
          19.64,
          16.54,
          12.05,
          7.3,
          7.07
         ],
         "yaxis": "y"
        },
        {
         "hovertemplate": "Year=2020<br>Month=%{x}<br>y=%{y}<extra></extra>",
         "legendgroup": "2020",
         "line": {
          "color": "#B6E880",
          "dash": "solid"
         },
         "marker": {
          "symbol": "circle"
         },
         "mode": "lines+markers",
         "name": "2020",
         "orientation": "v",
         "showlegend": true,
         "type": "scatter",
         "x": [
          "January",
          "February",
          "March",
          "April",
          "May",
          "June",
          "July",
          "August",
          "September",
          "October",
          "November",
          "December"
         ],
         "xaxis": "x",
         "y": [
          7.55,
          8.24,
          7.97,
          12.35,
          15.26,
          17.72,
          18.6,
          20.39,
          16.62,
          11.93,
          9.81,
          6.23
         ],
         "yaxis": "y"
        }
       ],
       "layout": {
        "height": 720,
        "legend": {
         "title": {
          "text": "Year"
         },
         "tracegroupgap": 0
        },
        "margin": {
         "t": 60
        },
        "template": {
         "data": {
          "bar": [
           {
            "error_x": {
             "color": "#2a3f5f"
            },
            "error_y": {
             "color": "#2a3f5f"
            },
            "marker": {
             "line": {
              "color": "#E5ECF6",
              "width": 0.5
             },
             "pattern": {
              "fillmode": "overlay",
              "size": 10,
              "solidity": 0.2
             }
            },
            "type": "bar"
           }
          ],
          "barpolar": [
           {
            "marker": {
             "line": {
              "color": "#E5ECF6",
              "width": 0.5
             },
             "pattern": {
              "fillmode": "overlay",
              "size": 10,
              "solidity": 0.2
             }
            },
            "type": "barpolar"
           }
          ],
          "carpet": [
           {
            "aaxis": {
             "endlinecolor": "#2a3f5f",
             "gridcolor": "white",
             "linecolor": "white",
             "minorgridcolor": "white",
             "startlinecolor": "#2a3f5f"
            },
            "baxis": {
             "endlinecolor": "#2a3f5f",
             "gridcolor": "white",
             "linecolor": "white",
             "minorgridcolor": "white",
             "startlinecolor": "#2a3f5f"
            },
            "type": "carpet"
           }
          ],
          "choropleth": [
           {
            "colorbar": {
             "outlinewidth": 0,
             "ticks": ""
            },
            "type": "choropleth"
           }
          ],
          "contour": [
           {
            "colorbar": {
             "outlinewidth": 0,
             "ticks": ""
            },
            "colorscale": [
             [
              0,
              "#0d0887"
             ],
             [
              0.1111111111111111,
              "#46039f"
             ],
             [
              0.2222222222222222,
              "#7201a8"
             ],
             [
              0.3333333333333333,
              "#9c179e"
             ],
             [
              0.4444444444444444,
              "#bd3786"
             ],
             [
              0.5555555555555556,
              "#d8576b"
             ],
             [
              0.6666666666666666,
              "#ed7953"
             ],
             [
              0.7777777777777778,
              "#fb9f3a"
             ],
             [
              0.8888888888888888,
              "#fdca26"
             ],
             [
              1,
              "#f0f921"
             ]
            ],
            "type": "contour"
           }
          ],
          "contourcarpet": [
           {
            "colorbar": {
             "outlinewidth": 0,
             "ticks": ""
            },
            "type": "contourcarpet"
           }
          ],
          "heatmap": [
           {
            "colorbar": {
             "outlinewidth": 0,
             "ticks": ""
            },
            "colorscale": [
             [
              0,
              "#0d0887"
             ],
             [
              0.1111111111111111,
              "#46039f"
             ],
             [
              0.2222222222222222,
              "#7201a8"
             ],
             [
              0.3333333333333333,
              "#9c179e"
             ],
             [
              0.4444444444444444,
              "#bd3786"
             ],
             [
              0.5555555555555556,
              "#d8576b"
             ],
             [
              0.6666666666666666,
              "#ed7953"
             ],
             [
              0.7777777777777778,
              "#fb9f3a"
             ],
             [
              0.8888888888888888,
              "#fdca26"
             ],
             [
              1,
              "#f0f921"
             ]
            ],
            "type": "heatmap"
           }
          ],
          "heatmapgl": [
           {
            "colorbar": {
             "outlinewidth": 0,
             "ticks": ""
            },
            "colorscale": [
             [
              0,
              "#0d0887"
             ],
             [
              0.1111111111111111,
              "#46039f"
             ],
             [
              0.2222222222222222,
              "#7201a8"
             ],
             [
              0.3333333333333333,
              "#9c179e"
             ],
             [
              0.4444444444444444,
              "#bd3786"
             ],
             [
              0.5555555555555556,
              "#d8576b"
             ],
             [
              0.6666666666666666,
              "#ed7953"
             ],
             [
              0.7777777777777778,
              "#fb9f3a"
             ],
             [
              0.8888888888888888,
              "#fdca26"
             ],
             [
              1,
              "#f0f921"
             ]
            ],
            "type": "heatmapgl"
           }
          ],
          "histogram": [
           {
            "marker": {
             "pattern": {
              "fillmode": "overlay",
              "size": 10,
              "solidity": 0.2
             }
            },
            "type": "histogram"
           }
          ],
          "histogram2d": [
           {
            "colorbar": {
             "outlinewidth": 0,
             "ticks": ""
            },
            "colorscale": [
             [
              0,
              "#0d0887"
             ],
             [
              0.1111111111111111,
              "#46039f"
             ],
             [
              0.2222222222222222,
              "#7201a8"
             ],
             [
              0.3333333333333333,
              "#9c179e"
             ],
             [
              0.4444444444444444,
              "#bd3786"
             ],
             [
              0.5555555555555556,
              "#d8576b"
             ],
             [
              0.6666666666666666,
              "#ed7953"
             ],
             [
              0.7777777777777778,
              "#fb9f3a"
             ],
             [
              0.8888888888888888,
              "#fdca26"
             ],
             [
              1,
              "#f0f921"
             ]
            ],
            "type": "histogram2d"
           }
          ],
          "histogram2dcontour": [
           {
            "colorbar": {
             "outlinewidth": 0,
             "ticks": ""
            },
            "colorscale": [
             [
              0,
              "#0d0887"
             ],
             [
              0.1111111111111111,
              "#46039f"
             ],
             [
              0.2222222222222222,
              "#7201a8"
             ],
             [
              0.3333333333333333,
              "#9c179e"
             ],
             [
              0.4444444444444444,
              "#bd3786"
             ],
             [
              0.5555555555555556,
              "#d8576b"
             ],
             [
              0.6666666666666666,
              "#ed7953"
             ],
             [
              0.7777777777777778,
              "#fb9f3a"
             ],
             [
              0.8888888888888888,
              "#fdca26"
             ],
             [
              1,
              "#f0f921"
             ]
            ],
            "type": "histogram2dcontour"
           }
          ],
          "mesh3d": [
           {
            "colorbar": {
             "outlinewidth": 0,
             "ticks": ""
            },
            "type": "mesh3d"
           }
          ],
          "parcoords": [
           {
            "line": {
             "colorbar": {
              "outlinewidth": 0,
              "ticks": ""
             }
            },
            "type": "parcoords"
           }
          ],
          "pie": [
           {
            "automargin": true,
            "type": "pie"
           }
          ],
          "scatter": [
           {
            "fillpattern": {
             "fillmode": "overlay",
             "size": 10,
             "solidity": 0.2
            },
            "type": "scatter"
           }
          ],
          "scatter3d": [
           {
            "line": {
             "colorbar": {
              "outlinewidth": 0,
              "ticks": ""
             }
            },
            "marker": {
             "colorbar": {
              "outlinewidth": 0,
              "ticks": ""
             }
            },
            "type": "scatter3d"
           }
          ],
          "scattercarpet": [
           {
            "marker": {
             "colorbar": {
              "outlinewidth": 0,
              "ticks": ""
             }
            },
            "type": "scattercarpet"
           }
          ],
          "scattergeo": [
           {
            "marker": {
             "colorbar": {
              "outlinewidth": 0,
              "ticks": ""
             }
            },
            "type": "scattergeo"
           }
          ],
          "scattergl": [
           {
            "marker": {
             "colorbar": {
              "outlinewidth": 0,
              "ticks": ""
             }
            },
            "type": "scattergl"
           }
          ],
          "scattermapbox": [
           {
            "marker": {
             "colorbar": {
              "outlinewidth": 0,
              "ticks": ""
             }
            },
            "type": "scattermapbox"
           }
          ],
          "scatterpolar": [
           {
            "marker": {
             "colorbar": {
              "outlinewidth": 0,
              "ticks": ""
             }
            },
            "type": "scatterpolar"
           }
          ],
          "scatterpolargl": [
           {
            "marker": {
             "colorbar": {
              "outlinewidth": 0,
              "ticks": ""
             }
            },
            "type": "scatterpolargl"
           }
          ],
          "scatterternary": [
           {
            "marker": {
             "colorbar": {
              "outlinewidth": 0,
              "ticks": ""
             }
            },
            "type": "scatterternary"
           }
          ],
          "surface": [
           {
            "colorbar": {
             "outlinewidth": 0,
             "ticks": ""
            },
            "colorscale": [
             [
              0,
              "#0d0887"
             ],
             [
              0.1111111111111111,
              "#46039f"
             ],
             [
              0.2222222222222222,
              "#7201a8"
             ],
             [
              0.3333333333333333,
              "#9c179e"
             ],
             [
              0.4444444444444444,
              "#bd3786"
             ],
             [
              0.5555555555555556,
              "#d8576b"
             ],
             [
              0.6666666666666666,
              "#ed7953"
             ],
             [
              0.7777777777777778,
              "#fb9f3a"
             ],
             [
              0.8888888888888888,
              "#fdca26"
             ],
             [
              1,
              "#f0f921"
             ]
            ],
            "type": "surface"
           }
          ],
          "table": [
           {
            "cells": {
             "fill": {
              "color": "#EBF0F8"
             },
             "line": {
              "color": "white"
             }
            },
            "header": {
             "fill": {
              "color": "#C8D4E3"
             },
             "line": {
              "color": "white"
             }
            },
            "type": "table"
           }
          ]
         },
         "layout": {
          "annotationdefaults": {
           "arrowcolor": "#2a3f5f",
           "arrowhead": 0,
           "arrowwidth": 1
          },
          "autotypenumbers": "strict",
          "coloraxis": {
           "colorbar": {
            "outlinewidth": 0,
            "ticks": ""
           }
          },
          "colorscale": {
           "diverging": [
            [
             0,
             "#8e0152"
            ],
            [
             0.1,
             "#c51b7d"
            ],
            [
             0.2,
             "#de77ae"
            ],
            [
             0.3,
             "#f1b6da"
            ],
            [
             0.4,
             "#fde0ef"
            ],
            [
             0.5,
             "#f7f7f7"
            ],
            [
             0.6,
             "#e6f5d0"
            ],
            [
             0.7,
             "#b8e186"
            ],
            [
             0.8,
             "#7fbc41"
            ],
            [
             0.9,
             "#4d9221"
            ],
            [
             1,
             "#276419"
            ]
           ],
           "sequential": [
            [
             0,
             "#0d0887"
            ],
            [
             0.1111111111111111,
             "#46039f"
            ],
            [
             0.2222222222222222,
             "#7201a8"
            ],
            [
             0.3333333333333333,
             "#9c179e"
            ],
            [
             0.4444444444444444,
             "#bd3786"
            ],
            [
             0.5555555555555556,
             "#d8576b"
            ],
            [
             0.6666666666666666,
             "#ed7953"
            ],
            [
             0.7777777777777778,
             "#fb9f3a"
            ],
            [
             0.8888888888888888,
             "#fdca26"
            ],
            [
             1,
             "#f0f921"
            ]
           ],
           "sequentialminus": [
            [
             0,
             "#0d0887"
            ],
            [
             0.1111111111111111,
             "#46039f"
            ],
            [
             0.2222222222222222,
             "#7201a8"
            ],
            [
             0.3333333333333333,
             "#9c179e"
            ],
            [
             0.4444444444444444,
             "#bd3786"
            ],
            [
             0.5555555555555556,
             "#d8576b"
            ],
            [
             0.6666666666666666,
             "#ed7953"
            ],
            [
             0.7777777777777778,
             "#fb9f3a"
            ],
            [
             0.8888888888888888,
             "#fdca26"
            ],
            [
             1,
             "#f0f921"
            ]
           ]
          },
          "colorway": [
           "#636efa",
           "#EF553B",
           "#00cc96",
           "#ab63fa",
           "#FFA15A",
           "#19d3f3",
           "#FF6692",
           "#B6E880",
           "#FF97FF",
           "#FECB52"
          ],
          "font": {
           "color": "#2a3f5f"
          },
          "geo": {
           "bgcolor": "white",
           "lakecolor": "white",
           "landcolor": "#E5ECF6",
           "showlakes": true,
           "showland": true,
           "subunitcolor": "white"
          },
          "hoverlabel": {
           "align": "left"
          },
          "hovermode": "closest",
          "mapbox": {
           "style": "light"
          },
          "paper_bgcolor": "white",
          "plot_bgcolor": "#E5ECF6",
          "polar": {
           "angularaxis": {
            "gridcolor": "white",
            "linecolor": "white",
            "ticks": ""
           },
           "bgcolor": "#E5ECF6",
           "radialaxis": {
            "gridcolor": "white",
            "linecolor": "white",
            "ticks": ""
           }
          },
          "scene": {
           "xaxis": {
            "backgroundcolor": "#E5ECF6",
            "gridcolor": "white",
            "gridwidth": 2,
            "linecolor": "white",
            "showbackground": true,
            "ticks": "",
            "zerolinecolor": "white"
           },
           "yaxis": {
            "backgroundcolor": "#E5ECF6",
            "gridcolor": "white",
            "gridwidth": 2,
            "linecolor": "white",
            "showbackground": true,
            "ticks": "",
            "zerolinecolor": "white"
           },
           "zaxis": {
            "backgroundcolor": "#E5ECF6",
            "gridcolor": "white",
            "gridwidth": 2,
            "linecolor": "white",
            "showbackground": true,
            "ticks": "",
            "zerolinecolor": "white"
           }
          },
          "shapedefaults": {
           "line": {
            "color": "#2a3f5f"
           }
          },
          "ternary": {
           "aaxis": {
            "gridcolor": "white",
            "linecolor": "white",
            "ticks": ""
           },
           "baxis": {
            "gridcolor": "white",
            "linecolor": "white",
            "ticks": ""
           },
           "bgcolor": "#E5ECF6",
           "caxis": {
            "gridcolor": "white",
            "linecolor": "white",
            "ticks": ""
           }
          },
          "title": {
           "x": 0.05
          },
          "xaxis": {
           "automargin": true,
           "gridcolor": "white",
           "linecolor": "white",
           "ticks": "",
           "title": {
            "standoff": 15
           },
           "zerolinecolor": "white",
           "zerolinewidth": 2
          },
          "yaxis": {
           "automargin": true,
           "gridcolor": "white",
           "linecolor": "white",
           "ticks": "",
           "title": {
            "standoff": 15
           },
           "zerolinecolor": "white",
           "zerolinewidth": 2
          }
         }
        },
        "width": 960,
        "xaxis": {
         "anchor": "y",
         "domain": [
          0,
          1
         ],
         "title": {
          "text": "Month"
         }
        },
        "yaxis": {
         "anchor": "x",
         "domain": [
          0,
          1
         ],
         "title": {
          "text": "y"
         }
        }
       }
      },
      "text/html": [
       "<div>                            <div id=\"03a8ae63-cf7e-476f-836d-67d884a283ef\" class=\"plotly-graph-div\" style=\"height:720px; width:960px;\"></div>            <script type=\"text/javascript\">                require([\"plotly\"], function(Plotly) {                    window.PLOTLYENV=window.PLOTLYENV || {};                                    if (document.getElementById(\"03a8ae63-cf7e-476f-836d-67d884a283ef\")) {                    Plotly.newPlot(                        \"03a8ae63-cf7e-476f-836d-67d884a283ef\",                        [{\"hovertemplate\":\"Year=2013<br>Month=%{x}<br>y=%{y}<extra></extra>\",\"legendgroup\":\"2013\",\"line\":{\"color\":\"#636efa\",\"dash\":\"solid\"},\"marker\":{\"symbol\":\"circle\"},\"mode\":\"lines+markers\",\"name\":\"2013\",\"orientation\":\"v\",\"showlegend\":true,\"x\":[\"January\",\"February\",\"March\",\"April\",\"May\",\"June\",\"July\",\"August\",\"September\",\"October\",\"November\",\"December\"],\"xaxis\":\"x\",\"y\":[4.3,3.95,4.07,9.09,12.07,15.77,21.14,19.3,15.42,13.79,7.58,6.9],\"yaxis\":\"y\",\"type\":\"scatter\"},{\"hovertemplate\":\"Year=2014<br>Month=%{x}<br>y=%{y}<extra></extra>\",\"legendgroup\":\"2014\",\"line\":{\"color\":\"#EF553B\",\"dash\":\"solid\"},\"marker\":{\"symbol\":\"circle\"},\"mode\":\"lines+markers\",\"name\":\"2014\",\"orientation\":\"v\",\"showlegend\":true,\"x\":[\"January\",\"February\",\"March\",\"April\",\"May\",\"June\",\"July\",\"August\",\"September\",\"October\",\"November\",\"December\"],\"xaxis\":\"x\",\"y\":[6.88,7.53,9.27,11.82,13.91,17.32,20.38,17.24,17.14,14.29,9.71,6.1],\"yaxis\":\"y\",\"type\":\"scatter\"},{\"hovertemplate\":\"Year=2015<br>Month=%{x}<br>y=%{y}<extra></extra>\",\"legendgroup\":\"2015\",\"line\":{\"color\":\"#00cc96\",\"dash\":\"solid\"},\"marker\":{\"symbol\":\"circle\"},\"mode\":\"lines+markers\",\"name\":\"2015\",\"orientation\":\"v\",\"showlegend\":true,\"x\":[\"January\",\"February\",\"March\",\"April\",\"May\",\"June\",\"July\",\"August\",\"September\",\"October\",\"November\",\"December\"],\"xaxis\":\"x\",\"y\":[5.25,4.91,7.87,11.12,13.18,16.84,18.78,18.15,14.42,12.56,10.71,11.29],\"yaxis\":\"y\",\"type\":\"scatter\"},{\"hovertemplate\":\"Year=2016<br>Month=%{x}<br>y=%{y}<extra></extra>\",\"legendgroup\":\"2016\",\"line\":{\"color\":\"#ab63fa\",\"dash\":\"solid\"},\"marker\":{\"symbol\":\"circle\"},\"mode\":\"lines+markers\",\"name\":\"2016\",\"orientation\":\"v\",\"showlegend\":true,\"x\":[\"January\",\"February\",\"March\",\"April\",\"May\",\"June\",\"July\",\"August\",\"September\",\"October\",\"November\",\"December\"],\"xaxis\":\"x\",\"y\":[6.25,6.1,6.99,9.19,14.37,16.68,19.21,19.69,18.02,12.29,7.15,6.82],\"yaxis\":\"y\",\"type\":\"scatter\"},{\"hovertemplate\":\"Year=2017<br>Month=%{x}<br>y=%{y}<extra></extra>\",\"legendgroup\":\"2017\",\"line\":{\"color\":\"#FFA15A\",\"dash\":\"solid\"},\"marker\":{\"symbol\":\"circle\"},\"mode\":\"lines+markers\",\"name\":\"2017\",\"orientation\":\"v\",\"showlegend\":true,\"x\":[\"January\",\"February\",\"March\",\"April\",\"May\",\"June\",\"July\",\"August\",\"September\",\"October\",\"November\",\"December\"],\"xaxis\":\"x\",\"y\":[4.12,7.24,10.37,10.87,15.09,18.95,19.39,17.76,15.09,13.7,7.81,5.78],\"yaxis\":\"y\",\"type\":\"scatter\"},{\"hovertemplate\":\"Year=2018<br>Month=%{x}<br>y=%{y}<extra></extra>\",\"legendgroup\":\"2018\",\"line\":{\"color\":\"#19d3f3\",\"dash\":\"solid\"},\"marker\":{\"symbol\":\"circle\"},\"mode\":\"lines+markers\",\"name\":\"2018\",\"orientation\":\"v\",\"showlegend\":true,\"x\":[\"January\",\"February\",\"March\",\"April\",\"May\",\"June\",\"July\",\"August\",\"September\",\"October\",\"November\",\"December\"],\"xaxis\":\"x\",\"y\":[6.72,3.68,6.4,11.7,15.35,18.66,22.31,19.5,15.93,12.49,9.02,7.91],\"yaxis\":\"y\",\"type\":\"scatter\"},{\"hovertemplate\":\"Year=2019<br>Month=%{x}<br>y=%{y}<extra></extra>\",\"legendgroup\":\"2019\",\"line\":{\"color\":\"#FF6692\",\"dash\":\"solid\"},\"marker\":{\"symbol\":\"circle\"},\"mode\":\"lines+markers\",\"name\":\"2019\",\"orientation\":\"v\",\"showlegend\":true,\"x\":[\"January\",\"February\",\"March\",\"April\",\"May\",\"June\",\"July\",\"August\",\"September\",\"October\",\"November\",\"December\"],\"xaxis\":\"x\",\"y\":[4.81,7.84,9.48,10.74,13.45,16.89,20.18,19.64,16.54,12.05,7.3,7.07],\"yaxis\":\"y\",\"type\":\"scatter\"},{\"hovertemplate\":\"Year=2020<br>Month=%{x}<br>y=%{y}<extra></extra>\",\"legendgroup\":\"2020\",\"line\":{\"color\":\"#B6E880\",\"dash\":\"solid\"},\"marker\":{\"symbol\":\"circle\"},\"mode\":\"lines+markers\",\"name\":\"2020\",\"orientation\":\"v\",\"showlegend\":true,\"x\":[\"January\",\"February\",\"March\",\"April\",\"May\",\"June\",\"July\",\"August\",\"September\",\"October\",\"November\",\"December\"],\"xaxis\":\"x\",\"y\":[7.55,8.24,7.97,12.35,15.26,17.72,18.6,20.39,16.62,11.93,9.81,6.23],\"yaxis\":\"y\",\"type\":\"scatter\"}],                        {\"template\":{\"data\":{\"histogram2dcontour\":[{\"type\":\"histogram2dcontour\",\"colorbar\":{\"outlinewidth\":0,\"ticks\":\"\"},\"colorscale\":[[0.0,\"#0d0887\"],[0.1111111111111111,\"#46039f\"],[0.2222222222222222,\"#7201a8\"],[0.3333333333333333,\"#9c179e\"],[0.4444444444444444,\"#bd3786\"],[0.5555555555555556,\"#d8576b\"],[0.6666666666666666,\"#ed7953\"],[0.7777777777777778,\"#fb9f3a\"],[0.8888888888888888,\"#fdca26\"],[1.0,\"#f0f921\"]]}],\"choropleth\":[{\"type\":\"choropleth\",\"colorbar\":{\"outlinewidth\":0,\"ticks\":\"\"}}],\"histogram2d\":[{\"type\":\"histogram2d\",\"colorbar\":{\"outlinewidth\":0,\"ticks\":\"\"},\"colorscale\":[[0.0,\"#0d0887\"],[0.1111111111111111,\"#46039f\"],[0.2222222222222222,\"#7201a8\"],[0.3333333333333333,\"#9c179e\"],[0.4444444444444444,\"#bd3786\"],[0.5555555555555556,\"#d8576b\"],[0.6666666666666666,\"#ed7953\"],[0.7777777777777778,\"#fb9f3a\"],[0.8888888888888888,\"#fdca26\"],[1.0,\"#f0f921\"]]}],\"heatmap\":[{\"type\":\"heatmap\",\"colorbar\":{\"outlinewidth\":0,\"ticks\":\"\"},\"colorscale\":[[0.0,\"#0d0887\"],[0.1111111111111111,\"#46039f\"],[0.2222222222222222,\"#7201a8\"],[0.3333333333333333,\"#9c179e\"],[0.4444444444444444,\"#bd3786\"],[0.5555555555555556,\"#d8576b\"],[0.6666666666666666,\"#ed7953\"],[0.7777777777777778,\"#fb9f3a\"],[0.8888888888888888,\"#fdca26\"],[1.0,\"#f0f921\"]]}],\"heatmapgl\":[{\"type\":\"heatmapgl\",\"colorbar\":{\"outlinewidth\":0,\"ticks\":\"\"},\"colorscale\":[[0.0,\"#0d0887\"],[0.1111111111111111,\"#46039f\"],[0.2222222222222222,\"#7201a8\"],[0.3333333333333333,\"#9c179e\"],[0.4444444444444444,\"#bd3786\"],[0.5555555555555556,\"#d8576b\"],[0.6666666666666666,\"#ed7953\"],[0.7777777777777778,\"#fb9f3a\"],[0.8888888888888888,\"#fdca26\"],[1.0,\"#f0f921\"]]}],\"contourcarpet\":[{\"type\":\"contourcarpet\",\"colorbar\":{\"outlinewidth\":0,\"ticks\":\"\"}}],\"contour\":[{\"type\":\"contour\",\"colorbar\":{\"outlinewidth\":0,\"ticks\":\"\"},\"colorscale\":[[0.0,\"#0d0887\"],[0.1111111111111111,\"#46039f\"],[0.2222222222222222,\"#7201a8\"],[0.3333333333333333,\"#9c179e\"],[0.4444444444444444,\"#bd3786\"],[0.5555555555555556,\"#d8576b\"],[0.6666666666666666,\"#ed7953\"],[0.7777777777777778,\"#fb9f3a\"],[0.8888888888888888,\"#fdca26\"],[1.0,\"#f0f921\"]]}],\"surface\":[{\"type\":\"surface\",\"colorbar\":{\"outlinewidth\":0,\"ticks\":\"\"},\"colorscale\":[[0.0,\"#0d0887\"],[0.1111111111111111,\"#46039f\"],[0.2222222222222222,\"#7201a8\"],[0.3333333333333333,\"#9c179e\"],[0.4444444444444444,\"#bd3786\"],[0.5555555555555556,\"#d8576b\"],[0.6666666666666666,\"#ed7953\"],[0.7777777777777778,\"#fb9f3a\"],[0.8888888888888888,\"#fdca26\"],[1.0,\"#f0f921\"]]}],\"mesh3d\":[{\"type\":\"mesh3d\",\"colorbar\":{\"outlinewidth\":0,\"ticks\":\"\"}}],\"scatter\":[{\"fillpattern\":{\"fillmode\":\"overlay\",\"size\":10,\"solidity\":0.2},\"type\":\"scatter\"}],\"parcoords\":[{\"type\":\"parcoords\",\"line\":{\"colorbar\":{\"outlinewidth\":0,\"ticks\":\"\"}}}],\"scatterpolargl\":[{\"type\":\"scatterpolargl\",\"marker\":{\"colorbar\":{\"outlinewidth\":0,\"ticks\":\"\"}}}],\"bar\":[{\"error_x\":{\"color\":\"#2a3f5f\"},\"error_y\":{\"color\":\"#2a3f5f\"},\"marker\":{\"line\":{\"color\":\"#E5ECF6\",\"width\":0.5},\"pattern\":{\"fillmode\":\"overlay\",\"size\":10,\"solidity\":0.2}},\"type\":\"bar\"}],\"scattergeo\":[{\"type\":\"scattergeo\",\"marker\":{\"colorbar\":{\"outlinewidth\":0,\"ticks\":\"\"}}}],\"scatterpolar\":[{\"type\":\"scatterpolar\",\"marker\":{\"colorbar\":{\"outlinewidth\":0,\"ticks\":\"\"}}}],\"histogram\":[{\"marker\":{\"pattern\":{\"fillmode\":\"overlay\",\"size\":10,\"solidity\":0.2}},\"type\":\"histogram\"}],\"scattergl\":[{\"type\":\"scattergl\",\"marker\":{\"colorbar\":{\"outlinewidth\":0,\"ticks\":\"\"}}}],\"scatter3d\":[{\"type\":\"scatter3d\",\"line\":{\"colorbar\":{\"outlinewidth\":0,\"ticks\":\"\"}},\"marker\":{\"colorbar\":{\"outlinewidth\":0,\"ticks\":\"\"}}}],\"scattermapbox\":[{\"type\":\"scattermapbox\",\"marker\":{\"colorbar\":{\"outlinewidth\":0,\"ticks\":\"\"}}}],\"scatterternary\":[{\"type\":\"scatterternary\",\"marker\":{\"colorbar\":{\"outlinewidth\":0,\"ticks\":\"\"}}}],\"scattercarpet\":[{\"type\":\"scattercarpet\",\"marker\":{\"colorbar\":{\"outlinewidth\":0,\"ticks\":\"\"}}}],\"carpet\":[{\"aaxis\":{\"endlinecolor\":\"#2a3f5f\",\"gridcolor\":\"white\",\"linecolor\":\"white\",\"minorgridcolor\":\"white\",\"startlinecolor\":\"#2a3f5f\"},\"baxis\":{\"endlinecolor\":\"#2a3f5f\",\"gridcolor\":\"white\",\"linecolor\":\"white\",\"minorgridcolor\":\"white\",\"startlinecolor\":\"#2a3f5f\"},\"type\":\"carpet\"}],\"table\":[{\"cells\":{\"fill\":{\"color\":\"#EBF0F8\"},\"line\":{\"color\":\"white\"}},\"header\":{\"fill\":{\"color\":\"#C8D4E3\"},\"line\":{\"color\":\"white\"}},\"type\":\"table\"}],\"barpolar\":[{\"marker\":{\"line\":{\"color\":\"#E5ECF6\",\"width\":0.5},\"pattern\":{\"fillmode\":\"overlay\",\"size\":10,\"solidity\":0.2}},\"type\":\"barpolar\"}],\"pie\":[{\"automargin\":true,\"type\":\"pie\"}]},\"layout\":{\"autotypenumbers\":\"strict\",\"colorway\":[\"#636efa\",\"#EF553B\",\"#00cc96\",\"#ab63fa\",\"#FFA15A\",\"#19d3f3\",\"#FF6692\",\"#B6E880\",\"#FF97FF\",\"#FECB52\"],\"font\":{\"color\":\"#2a3f5f\"},\"hovermode\":\"closest\",\"hoverlabel\":{\"align\":\"left\"},\"paper_bgcolor\":\"white\",\"plot_bgcolor\":\"#E5ECF6\",\"polar\":{\"bgcolor\":\"#E5ECF6\",\"angularaxis\":{\"gridcolor\":\"white\",\"linecolor\":\"white\",\"ticks\":\"\"},\"radialaxis\":{\"gridcolor\":\"white\",\"linecolor\":\"white\",\"ticks\":\"\"}},\"ternary\":{\"bgcolor\":\"#E5ECF6\",\"aaxis\":{\"gridcolor\":\"white\",\"linecolor\":\"white\",\"ticks\":\"\"},\"baxis\":{\"gridcolor\":\"white\",\"linecolor\":\"white\",\"ticks\":\"\"},\"caxis\":{\"gridcolor\":\"white\",\"linecolor\":\"white\",\"ticks\":\"\"}},\"coloraxis\":{\"colorbar\":{\"outlinewidth\":0,\"ticks\":\"\"}},\"colorscale\":{\"sequential\":[[0.0,\"#0d0887\"],[0.1111111111111111,\"#46039f\"],[0.2222222222222222,\"#7201a8\"],[0.3333333333333333,\"#9c179e\"],[0.4444444444444444,\"#bd3786\"],[0.5555555555555556,\"#d8576b\"],[0.6666666666666666,\"#ed7953\"],[0.7777777777777778,\"#fb9f3a\"],[0.8888888888888888,\"#fdca26\"],[1.0,\"#f0f921\"]],\"sequentialminus\":[[0.0,\"#0d0887\"],[0.1111111111111111,\"#46039f\"],[0.2222222222222222,\"#7201a8\"],[0.3333333333333333,\"#9c179e\"],[0.4444444444444444,\"#bd3786\"],[0.5555555555555556,\"#d8576b\"],[0.6666666666666666,\"#ed7953\"],[0.7777777777777778,\"#fb9f3a\"],[0.8888888888888888,\"#fdca26\"],[1.0,\"#f0f921\"]],\"diverging\":[[0,\"#8e0152\"],[0.1,\"#c51b7d\"],[0.2,\"#de77ae\"],[0.3,\"#f1b6da\"],[0.4,\"#fde0ef\"],[0.5,\"#f7f7f7\"],[0.6,\"#e6f5d0\"],[0.7,\"#b8e186\"],[0.8,\"#7fbc41\"],[0.9,\"#4d9221\"],[1,\"#276419\"]]},\"xaxis\":{\"gridcolor\":\"white\",\"linecolor\":\"white\",\"ticks\":\"\",\"title\":{\"standoff\":15},\"zerolinecolor\":\"white\",\"automargin\":true,\"zerolinewidth\":2},\"yaxis\":{\"gridcolor\":\"white\",\"linecolor\":\"white\",\"ticks\":\"\",\"title\":{\"standoff\":15},\"zerolinecolor\":\"white\",\"automargin\":true,\"zerolinewidth\":2},\"scene\":{\"xaxis\":{\"backgroundcolor\":\"#E5ECF6\",\"gridcolor\":\"white\",\"linecolor\":\"white\",\"showbackground\":true,\"ticks\":\"\",\"zerolinecolor\":\"white\",\"gridwidth\":2},\"yaxis\":{\"backgroundcolor\":\"#E5ECF6\",\"gridcolor\":\"white\",\"linecolor\":\"white\",\"showbackground\":true,\"ticks\":\"\",\"zerolinecolor\":\"white\",\"gridwidth\":2},\"zaxis\":{\"backgroundcolor\":\"#E5ECF6\",\"gridcolor\":\"white\",\"linecolor\":\"white\",\"showbackground\":true,\"ticks\":\"\",\"zerolinecolor\":\"white\",\"gridwidth\":2}},\"shapedefaults\":{\"line\":{\"color\":\"#2a3f5f\"}},\"annotationdefaults\":{\"arrowcolor\":\"#2a3f5f\",\"arrowhead\":0,\"arrowwidth\":1},\"geo\":{\"bgcolor\":\"white\",\"landcolor\":\"#E5ECF6\",\"subunitcolor\":\"white\",\"showland\":true,\"showlakes\":true,\"lakecolor\":\"white\"},\"title\":{\"x\":0.05},\"mapbox\":{\"style\":\"light\"}}},\"xaxis\":{\"anchor\":\"y\",\"domain\":[0.0,1.0],\"title\":{\"text\":\"Month\"}},\"yaxis\":{\"anchor\":\"x\",\"domain\":[0.0,1.0],\"title\":{\"text\":\"y\"}},\"legend\":{\"title\":{\"text\":\"Year\"},\"tracegroupgap\":0},\"margin\":{\"t\":60},\"height\":720,\"width\":960},                        {\"responsive\": true}                    ).then(function(){\n",
       "                            \n",
       "var gd = document.getElementById('03a8ae63-cf7e-476f-836d-67d884a283ef');\n",
       "var x = new MutationObserver(function (mutations, observer) {{\n",
       "        var display = window.getComputedStyle(gd).display;\n",
       "        if (!display || display === 'none') {{\n",
       "            console.log([gd, 'removed!']);\n",
       "            Plotly.purge(gd);\n",
       "            observer.disconnect();\n",
       "        }}\n",
       "}});\n",
       "\n",
       "// Listen for the removal of the full notebook cells\n",
       "var notebookContainer = gd.closest('#notebook-container');\n",
       "if (notebookContainer) {{\n",
       "    x.observe(notebookContainer, {childList: true});\n",
       "}}\n",
       "\n",
       "// Listen for the clearing of the current output cell\n",
       "var outputEl = gd.closest('.output');\n",
       "if (outputEl) {{\n",
       "    x.observe(outputEl, {childList: true});\n",
       "}}\n",
       "\n",
       "                        })                };                });            </script>        </div>"
      ]
     },
     "metadata": {},
     "output_type": "display_data"
    }
   ],
   "source": [
    "px.line(weather_grpd, \n",
    "        y=weather_grpd['mean_temp'].round(2),\n",
    "        x=weather_grpd['Month'],\n",
    "        color=weather_grpd['Year'],\n",
    "        markers=True, \n",
    "        width=960, \n",
    "        height=720)"
   ]
  },
  {
   "cell_type": "markdown",
   "metadata": {},
   "source": [
    "### Observations\n",
    "* Predictably, we see that the average monthly temperature in London is cyclical, peaking in July/August ☀️ and plateauing in January ☃️. "
   ]
  },
  {
   "cell_type": "code",
   "execution_count": 271,
   "metadata": {
    "ExecuteTime": {
     "end_time": "2023-02-01T13:21:25.751930Z",
     "start_time": "2023-02-01T13:21:25.731092Z"
    }
   },
   "outputs": [],
   "source": [
    "df_merged=df.merge(weather_grpd.drop(columns=['Year', \n",
    "                                              'Month', \n",
    "                                              'new_date']), \n",
    "                   on='Period', \n",
    "                   how='outer')\n",
    "# Merging the TfL dataset and London weather dataset to see what factors affect temperatures on trains."
   ]
  },
  {
   "cell_type": "code",
   "execution_count": 272,
   "metadata": {
    "ExecuteTime": {
     "end_time": "2023-02-01T13:21:25.813484Z",
     "start_time": "2023-02-01T13:21:25.758805Z"
    }
   },
   "outputs": [
    {
     "data": {
      "text/html": [
       "<div>\n",
       "<style scoped>\n",
       "    .dataframe tbody tr th:only-of-type {\n",
       "        vertical-align: middle;\n",
       "    }\n",
       "\n",
       "    .dataframe tbody tr th {\n",
       "        vertical-align: top;\n",
       "    }\n",
       "\n",
       "    .dataframe thead th {\n",
       "        text-align: right;\n",
       "    }\n",
       "</style>\n",
       "<table border=\"1\" class=\"dataframe\">\n",
       "  <thead>\n",
       "    <tr style=\"text-align: right;\">\n",
       "      <th></th>\n",
       "      <th>Year</th>\n",
       "      <th>Month</th>\n",
       "      <th>Bakerloo</th>\n",
       "      <th>Central</th>\n",
       "      <th>Jubilee</th>\n",
       "      <th>Northern</th>\n",
       "      <th>Piccadilly</th>\n",
       "      <th>Victoria</th>\n",
       "      <th>Waterloo_and_City</th>\n",
       "      <th>Subsurface_lines</th>\n",
       "      <th>Period</th>\n",
       "      <th>cloud_cover</th>\n",
       "      <th>sunshine</th>\n",
       "      <th>max_temp</th>\n",
       "      <th>mean_temp</th>\n",
       "      <th>min_temp</th>\n",
       "      <th>precipitation</th>\n",
       "    </tr>\n",
       "  </thead>\n",
       "  <tbody>\n",
       "    <tr>\n",
       "      <th>84</th>\n",
       "      <td>2020</td>\n",
       "      <td>January</td>\n",
       "      <td>25.38</td>\n",
       "      <td>23.81</td>\n",
       "      <td>19.73</td>\n",
       "      <td>23.36</td>\n",
       "      <td>21.53</td>\n",
       "      <td>25.92</td>\n",
       "      <td>19.06</td>\n",
       "      <td>14.29</td>\n",
       "      <td>January 2020</td>\n",
       "      <td>5.483871</td>\n",
       "      <td>1.877419</td>\n",
       "      <td>9.929032</td>\n",
       "      <td>7.554839</td>\n",
       "      <td>5.235484</td>\n",
       "      <td>1.477419</td>\n",
       "    </tr>\n",
       "    <tr>\n",
       "      <th>85</th>\n",
       "      <td>2020</td>\n",
       "      <td>February</td>\n",
       "      <td>24.97</td>\n",
       "      <td>23.88</td>\n",
       "      <td>20.21</td>\n",
       "      <td>23.19</td>\n",
       "      <td>21.25</td>\n",
       "      <td>26.05</td>\n",
       "      <td>18.93</td>\n",
       "      <td>14.01</td>\n",
       "      <td>February 2020</td>\n",
       "      <td>5.724138</td>\n",
       "      <td>2.275862</td>\n",
       "      <td>11.128571</td>\n",
       "      <td>8.242857</td>\n",
       "      <td>5.320690</td>\n",
       "      <td>3.478571</td>\n",
       "    </tr>\n",
       "    <tr>\n",
       "      <th>86</th>\n",
       "      <td>2020</td>\n",
       "      <td>March</td>\n",
       "      <td>24.81</td>\n",
       "      <td>23.40</td>\n",
       "      <td>19.33</td>\n",
       "      <td>22.57</td>\n",
       "      <td>21.05</td>\n",
       "      <td>24.41</td>\n",
       "      <td>18.53</td>\n",
       "      <td>14.08</td>\n",
       "      <td>March 2020</td>\n",
       "      <td>4.419355</td>\n",
       "      <td>5.461290</td>\n",
       "      <td>11.893333</td>\n",
       "      <td>7.973333</td>\n",
       "      <td>4.174194</td>\n",
       "      <td>1.400000</td>\n",
       "    </tr>\n",
       "    <tr>\n",
       "      <th>87</th>\n",
       "      <td>2020</td>\n",
       "      <td>April</td>\n",
       "      <td>25.23</td>\n",
       "      <td>22.91</td>\n",
       "      <td>19.58</td>\n",
       "      <td>22.62</td>\n",
       "      <td>20.99</td>\n",
       "      <td>22.44</td>\n",
       "      <td>18.68</td>\n",
       "      <td>16.38</td>\n",
       "      <td>April 2020</td>\n",
       "      <td>3.866667</td>\n",
       "      <td>9.166667</td>\n",
       "      <td>18.186667</td>\n",
       "      <td>12.353333</td>\n",
       "      <td>6.573333</td>\n",
       "      <td>1.246667</td>\n",
       "    </tr>\n",
       "    <tr>\n",
       "      <th>88</th>\n",
       "      <td>2020</td>\n",
       "      <td>May</td>\n",
       "      <td>27.12</td>\n",
       "      <td>24.17</td>\n",
       "      <td>21.28</td>\n",
       "      <td>23.75</td>\n",
       "      <td>22.35</td>\n",
       "      <td>23.02</td>\n",
       "      <td>19.31</td>\n",
       "      <td>19.42</td>\n",
       "      <td>May 2020</td>\n",
       "      <td>3.870968</td>\n",
       "      <td>10.667742</td>\n",
       "      <td>21.246667</td>\n",
       "      <td>15.256667</td>\n",
       "      <td>9.323333</td>\n",
       "      <td>0.082759</td>\n",
       "    </tr>\n",
       "    <tr>\n",
       "      <th>89</th>\n",
       "      <td>2020</td>\n",
       "      <td>June</td>\n",
       "      <td>28.83</td>\n",
       "      <td>26.70</td>\n",
       "      <td>23.58</td>\n",
       "      <td>25.65</td>\n",
       "      <td>24.70</td>\n",
       "      <td>26.39</td>\n",
       "      <td>20.55</td>\n",
       "      <td>22.02</td>\n",
       "      <td>June 2020</td>\n",
       "      <td>4.933333</td>\n",
       "      <td>7.086667</td>\n",
       "      <td>22.570000</td>\n",
       "      <td>17.717241</td>\n",
       "      <td>12.706897</td>\n",
       "      <td>1.827586</td>\n",
       "    </tr>\n",
       "    <tr>\n",
       "      <th>90</th>\n",
       "      <td>2020</td>\n",
       "      <td>July</td>\n",
       "      <td>29.96</td>\n",
       "      <td>28.62</td>\n",
       "      <td>24.86</td>\n",
       "      <td>26.79</td>\n",
       "      <td>25.89</td>\n",
       "      <td>27.82</td>\n",
       "      <td>21.14</td>\n",
       "      <td>23.31</td>\n",
       "      <td>July 2020</td>\n",
       "      <td>5.322581</td>\n",
       "      <td>5.941935</td>\n",
       "      <td>23.806667</td>\n",
       "      <td>18.600000</td>\n",
       "      <td>13.535484</td>\n",
       "      <td>1.173333</td>\n",
       "    </tr>\n",
       "    <tr>\n",
       "      <th>91</th>\n",
       "      <td>2020</td>\n",
       "      <td>August</td>\n",
       "      <td>31.18</td>\n",
       "      <td>30.50</td>\n",
       "      <td>26.18</td>\n",
       "      <td>28.21</td>\n",
       "      <td>27.35</td>\n",
       "      <td>29.64</td>\n",
       "      <td>22.05</td>\n",
       "      <td>24.94</td>\n",
       "      <td>August 2020</td>\n",
       "      <td>5.000000</td>\n",
       "      <td>6.135484</td>\n",
       "      <td>25.200000</td>\n",
       "      <td>20.393333</td>\n",
       "      <td>15.738710</td>\n",
       "      <td>1.812903</td>\n",
       "    </tr>\n",
       "    <tr>\n",
       "      <th>92</th>\n",
       "      <td>2020</td>\n",
       "      <td>September</td>\n",
       "      <td>30.41</td>\n",
       "      <td>29.14</td>\n",
       "      <td>24.16</td>\n",
       "      <td>27.48</td>\n",
       "      <td>26.29</td>\n",
       "      <td>29.11</td>\n",
       "      <td>20.60</td>\n",
       "      <td>22.33</td>\n",
       "      <td>September 2020</td>\n",
       "      <td>4.200000</td>\n",
       "      <td>6.540000</td>\n",
       "      <td>21.693333</td>\n",
       "      <td>16.616667</td>\n",
       "      <td>11.580000</td>\n",
       "      <td>0.640000</td>\n",
       "    </tr>\n",
       "    <tr>\n",
       "      <th>93</th>\n",
       "      <td>2020</td>\n",
       "      <td>October</td>\n",
       "      <td>27.71</td>\n",
       "      <td>26.38</td>\n",
       "      <td>21.20</td>\n",
       "      <td>25.55</td>\n",
       "      <td>23.76</td>\n",
       "      <td>27.88</td>\n",
       "      <td>18.10</td>\n",
       "      <td>17.64</td>\n",
       "      <td>October 2020</td>\n",
       "      <td>5.774194</td>\n",
       "      <td>1.887097</td>\n",
       "      <td>14.970000</td>\n",
       "      <td>11.933333</td>\n",
       "      <td>9.038710</td>\n",
       "      <td>4.632258</td>\n",
       "    </tr>\n",
       "    <tr>\n",
       "      <th>94</th>\n",
       "      <td>2020</td>\n",
       "      <td>November</td>\n",
       "      <td>26.52</td>\n",
       "      <td>25.31</td>\n",
       "      <td>20.71</td>\n",
       "      <td>24.34</td>\n",
       "      <td>22.47</td>\n",
       "      <td>26.09</td>\n",
       "      <td>17.53</td>\n",
       "      <td>16.10</td>\n",
       "      <td>November 2020</td>\n",
       "      <td>5.933333</td>\n",
       "      <td>1.716667</td>\n",
       "      <td>12.636667</td>\n",
       "      <td>9.806667</td>\n",
       "      <td>7.026667</td>\n",
       "      <td>1.660000</td>\n",
       "    </tr>\n",
       "    <tr>\n",
       "      <th>95</th>\n",
       "      <td>2020</td>\n",
       "      <td>December</td>\n",
       "      <td>24.11</td>\n",
       "      <td>23.42</td>\n",
       "      <td>18.31</td>\n",
       "      <td>22.56</td>\n",
       "      <td>20.43</td>\n",
       "      <td>24.11</td>\n",
       "      <td>15.37</td>\n",
       "      <td>13.36</td>\n",
       "      <td>December 2020</td>\n",
       "      <td>5.466667</td>\n",
       "      <td>1.425806</td>\n",
       "      <td>8.325806</td>\n",
       "      <td>6.232258</td>\n",
       "      <td>4.187097</td>\n",
       "      <td>2.335484</td>\n",
       "    </tr>\n",
       "  </tbody>\n",
       "</table>\n",
       "</div>"
      ],
      "text/plain": [
       "    Year      Month  Bakerloo  Central  Jubilee  Northern  Piccadilly  \\\n",
       "84  2020    January     25.38    23.81    19.73     23.36       21.53   \n",
       "85  2020   February     24.97    23.88    20.21     23.19       21.25   \n",
       "86  2020      March     24.81    23.40    19.33     22.57       21.05   \n",
       "87  2020      April     25.23    22.91    19.58     22.62       20.99   \n",
       "88  2020        May     27.12    24.17    21.28     23.75       22.35   \n",
       "89  2020       June     28.83    26.70    23.58     25.65       24.70   \n",
       "90  2020       July     29.96    28.62    24.86     26.79       25.89   \n",
       "91  2020     August     31.18    30.50    26.18     28.21       27.35   \n",
       "92  2020  September     30.41    29.14    24.16     27.48       26.29   \n",
       "93  2020    October     27.71    26.38    21.20     25.55       23.76   \n",
       "94  2020   November     26.52    25.31    20.71     24.34       22.47   \n",
       "95  2020   December     24.11    23.42    18.31     22.56       20.43   \n",
       "\n",
       "    Victoria  Waterloo_and_City  Subsurface_lines          Period  \\\n",
       "84     25.92              19.06             14.29    January 2020   \n",
       "85     26.05              18.93             14.01   February 2020   \n",
       "86     24.41              18.53             14.08      March 2020   \n",
       "87     22.44              18.68             16.38      April 2020   \n",
       "88     23.02              19.31             19.42        May 2020   \n",
       "89     26.39              20.55             22.02       June 2020   \n",
       "90     27.82              21.14             23.31       July 2020   \n",
       "91     29.64              22.05             24.94     August 2020   \n",
       "92     29.11              20.60             22.33  September 2020   \n",
       "93     27.88              18.10             17.64    October 2020   \n",
       "94     26.09              17.53             16.10   November 2020   \n",
       "95     24.11              15.37             13.36   December 2020   \n",
       "\n",
       "    cloud_cover   sunshine   max_temp  mean_temp   min_temp  precipitation  \n",
       "84     5.483871   1.877419   9.929032   7.554839   5.235484       1.477419  \n",
       "85     5.724138   2.275862  11.128571   8.242857   5.320690       3.478571  \n",
       "86     4.419355   5.461290  11.893333   7.973333   4.174194       1.400000  \n",
       "87     3.866667   9.166667  18.186667  12.353333   6.573333       1.246667  \n",
       "88     3.870968  10.667742  21.246667  15.256667   9.323333       0.082759  \n",
       "89     4.933333   7.086667  22.570000  17.717241  12.706897       1.827586  \n",
       "90     5.322581   5.941935  23.806667  18.600000  13.535484       1.173333  \n",
       "91     5.000000   6.135484  25.200000  20.393333  15.738710       1.812903  \n",
       "92     4.200000   6.540000  21.693333  16.616667  11.580000       0.640000  \n",
       "93     5.774194   1.887097  14.970000  11.933333   9.038710       4.632258  \n",
       "94     5.933333   1.716667  12.636667   9.806667   7.026667       1.660000  \n",
       "95     5.466667   1.425806   8.325806   6.232258   4.187097       2.335484  "
      ]
     },
     "execution_count": 272,
     "metadata": {},
     "output_type": "execute_result"
    }
   ],
   "source": [
    "df_merged.tail(12)"
   ]
  },
  {
   "cell_type": "code",
   "execution_count": 273,
   "metadata": {
    "ExecuteTime": {
     "end_time": "2023-02-01T13:21:25.865025Z",
     "start_time": "2023-02-01T13:21:25.821814Z"
    }
   },
   "outputs": [
    {
     "data": {
      "text/html": [
       "<div>\n",
       "<style scoped>\n",
       "    .dataframe tbody tr th:only-of-type {\n",
       "        vertical-align: middle;\n",
       "    }\n",
       "\n",
       "    .dataframe tbody tr th {\n",
       "        vertical-align: top;\n",
       "    }\n",
       "\n",
       "    .dataframe thead th {\n",
       "        text-align: right;\n",
       "    }\n",
       "</style>\n",
       "<table border=\"1\" class=\"dataframe\">\n",
       "  <thead>\n",
       "    <tr style=\"text-align: right;\">\n",
       "      <th></th>\n",
       "      <th>Year</th>\n",
       "      <th>Bakerloo</th>\n",
       "      <th>Central</th>\n",
       "      <th>Jubilee</th>\n",
       "      <th>Northern</th>\n",
       "      <th>Piccadilly</th>\n",
       "      <th>Victoria</th>\n",
       "      <th>Waterloo_and_City</th>\n",
       "      <th>Subsurface_lines</th>\n",
       "      <th>cloud_cover</th>\n",
       "      <th>sunshine</th>\n",
       "      <th>max_temp</th>\n",
       "      <th>mean_temp</th>\n",
       "      <th>min_temp</th>\n",
       "      <th>precipitation</th>\n",
       "    </tr>\n",
       "  </thead>\n",
       "  <tbody>\n",
       "    <tr>\n",
       "      <th>0</th>\n",
       "      <td>2013</td>\n",
       "      <td>25.533333</td>\n",
       "      <td>25.000000</td>\n",
       "      <td>21.466667</td>\n",
       "      <td>22.666667</td>\n",
       "      <td>22.783333</td>\n",
       "      <td>21.883333</td>\n",
       "      <td>20.683333</td>\n",
       "      <td>17.875000</td>\n",
       "      <td>4.608884</td>\n",
       "      <td>3.969553</td>\n",
       "      <td>14.902414</td>\n",
       "      <td>11.114554</td>\n",
       "      <td>7.290993</td>\n",
       "      <td>1.528103</td>\n",
       "    </tr>\n",
       "    <tr>\n",
       "      <th>1</th>\n",
       "      <td>2014</td>\n",
       "      <td>26.566667</td>\n",
       "      <td>26.233333</td>\n",
       "      <td>21.966667</td>\n",
       "      <td>23.758333</td>\n",
       "      <td>23.900000</td>\n",
       "      <td>23.200000</td>\n",
       "      <td>22.266667</td>\n",
       "      <td>19.483333</td>\n",
       "      <td>3.968324</td>\n",
       "      <td>4.561788</td>\n",
       "      <td>16.592231</td>\n",
       "      <td>12.633037</td>\n",
       "      <td>8.630136</td>\n",
       "      <td>2.369771</td>\n",
       "    </tr>\n",
       "    <tr>\n",
       "      <th>2</th>\n",
       "      <td>2015</td>\n",
       "      <td>26.640833</td>\n",
       "      <td>25.870000</td>\n",
       "      <td>22.696667</td>\n",
       "      <td>24.780000</td>\n",
       "      <td>22.682500</td>\n",
       "      <td>23.020833</td>\n",
       "      <td>22.015000</td>\n",
       "      <td>18.800000</td>\n",
       "      <td>4.777874</td>\n",
       "      <td>4.125044</td>\n",
       "      <td>15.982770</td>\n",
       "      <td>12.091187</td>\n",
       "      <td>8.144937</td>\n",
       "      <td>1.533214</td>\n",
       "    </tr>\n",
       "    <tr>\n",
       "      <th>3</th>\n",
       "      <td>2016</td>\n",
       "      <td>26.955000</td>\n",
       "      <td>26.135000</td>\n",
       "      <td>22.901667</td>\n",
       "      <td>25.161667</td>\n",
       "      <td>23.167500</td>\n",
       "      <td>24.102500</td>\n",
       "      <td>22.205000</td>\n",
       "      <td>18.536667</td>\n",
       "      <td>5.190730</td>\n",
       "      <td>4.019873</td>\n",
       "      <td>15.869143</td>\n",
       "      <td>11.896873</td>\n",
       "      <td>7.923067</td>\n",
       "      <td>1.619876</td>\n",
       "    </tr>\n",
       "    <tr>\n",
       "      <th>4</th>\n",
       "      <td>2017</td>\n",
       "      <td>27.324167</td>\n",
       "      <td>26.346667</td>\n",
       "      <td>22.858333</td>\n",
       "      <td>24.905000</td>\n",
       "      <td>23.305833</td>\n",
       "      <td>25.525833</td>\n",
       "      <td>22.083333</td>\n",
       "      <td>19.045833</td>\n",
       "      <td>5.306772</td>\n",
       "      <td>3.968722</td>\n",
       "      <td>16.095200</td>\n",
       "      <td>12.181025</td>\n",
       "      <td>8.257871</td>\n",
       "      <td>1.562095</td>\n",
       "    </tr>\n",
       "    <tr>\n",
       "      <th>5</th>\n",
       "      <td>2018</td>\n",
       "      <td>27.807500</td>\n",
       "      <td>26.571667</td>\n",
       "      <td>23.292500</td>\n",
       "      <td>25.249167</td>\n",
       "      <td>23.578333</td>\n",
       "      <td>26.483333</td>\n",
       "      <td>23.139167</td>\n",
       "      <td>18.894167</td>\n",
       "      <td>4.902176</td>\n",
       "      <td>4.664473</td>\n",
       "      <td>16.652666</td>\n",
       "      <td>12.471926</td>\n",
       "      <td>8.302360</td>\n",
       "      <td>1.582618</td>\n",
       "    </tr>\n",
       "    <tr>\n",
       "      <th>6</th>\n",
       "      <td>2019</td>\n",
       "      <td>27.778333</td>\n",
       "      <td>26.480833</td>\n",
       "      <td>22.634167</td>\n",
       "      <td>25.575833</td>\n",
       "      <td>23.968333</td>\n",
       "      <td>27.056667</td>\n",
       "      <td>21.556667</td>\n",
       "      <td>18.728333</td>\n",
       "      <td>5.046921</td>\n",
       "      <td>4.239933</td>\n",
       "      <td>16.428135</td>\n",
       "      <td>12.166125</td>\n",
       "      <td>7.899635</td>\n",
       "      <td>1.783900</td>\n",
       "    </tr>\n",
       "    <tr>\n",
       "      <th>7</th>\n",
       "      <td>2020</td>\n",
       "      <td>27.185833</td>\n",
       "      <td>25.686667</td>\n",
       "      <td>21.594167</td>\n",
       "      <td>24.672500</td>\n",
       "      <td>23.171667</td>\n",
       "      <td>26.073333</td>\n",
       "      <td>19.154167</td>\n",
       "      <td>18.156667</td>\n",
       "      <td>4.999592</td>\n",
       "      <td>5.015220</td>\n",
       "      <td>16.798895</td>\n",
       "      <td>12.723377</td>\n",
       "      <td>8.703383</td>\n",
       "      <td>1.813915</td>\n",
       "    </tr>\n",
       "  </tbody>\n",
       "</table>\n",
       "</div>"
      ],
      "text/plain": [
       "   Year   Bakerloo    Central    Jubilee   Northern  Piccadilly   Victoria  \\\n",
       "0  2013  25.533333  25.000000  21.466667  22.666667   22.783333  21.883333   \n",
       "1  2014  26.566667  26.233333  21.966667  23.758333   23.900000  23.200000   \n",
       "2  2015  26.640833  25.870000  22.696667  24.780000   22.682500  23.020833   \n",
       "3  2016  26.955000  26.135000  22.901667  25.161667   23.167500  24.102500   \n",
       "4  2017  27.324167  26.346667  22.858333  24.905000   23.305833  25.525833   \n",
       "5  2018  27.807500  26.571667  23.292500  25.249167   23.578333  26.483333   \n",
       "6  2019  27.778333  26.480833  22.634167  25.575833   23.968333  27.056667   \n",
       "7  2020  27.185833  25.686667  21.594167  24.672500   23.171667  26.073333   \n",
       "\n",
       "   Waterloo_and_City  Subsurface_lines  cloud_cover  sunshine   max_temp  \\\n",
       "0          20.683333         17.875000     4.608884  3.969553  14.902414   \n",
       "1          22.266667         19.483333     3.968324  4.561788  16.592231   \n",
       "2          22.015000         18.800000     4.777874  4.125044  15.982770   \n",
       "3          22.205000         18.536667     5.190730  4.019873  15.869143   \n",
       "4          22.083333         19.045833     5.306772  3.968722  16.095200   \n",
       "5          23.139167         18.894167     4.902176  4.664473  16.652666   \n",
       "6          21.556667         18.728333     5.046921  4.239933  16.428135   \n",
       "7          19.154167         18.156667     4.999592  5.015220  16.798895   \n",
       "\n",
       "   mean_temp  min_temp  precipitation  \n",
       "0  11.114554  7.290993       1.528103  \n",
       "1  12.633037  8.630136       2.369771  \n",
       "2  12.091187  8.144937       1.533214  \n",
       "3  11.896873  7.923067       1.619876  \n",
       "4  12.181025  8.257871       1.562095  \n",
       "5  12.471926  8.302360       1.582618  \n",
       "6  12.166125  7.899635       1.783900  \n",
       "7  12.723377  8.703383       1.813915  "
      ]
     },
     "execution_count": 273,
     "metadata": {},
     "output_type": "execute_result"
    }
   ],
   "source": [
    "# Grouping the Dataframe by Year, and finding the averages\n",
    "df_byyears=df_merged.groupby('Year').mean(numeric_only=True).reset_index()\n",
    "df_byyears"
   ]
  },
  {
   "cell_type": "code",
   "execution_count": 274,
   "metadata": {
    "ExecuteTime": {
     "end_time": "2023-02-01T13:21:26.151261Z",
     "start_time": "2023-02-01T13:21:25.877883Z"
    }
   },
   "outputs": [
    {
     "data": {
      "application/vnd.plotly.v1+json": {
       "config": {
        "plotlyServerURL": "https://plot.ly"
       },
       "data": [
        {
         "hovertemplate": "Underground lines=Bakerloo<br>Year=%{x}<br>Temperature (˚C)=%{y}<extra></extra>",
         "legendgroup": "Bakerloo",
         "marker": {
          "color": "rgb(179,98,5)",
          "symbol": "circle"
         },
         "mode": "markers",
         "name": "Bakerloo",
         "orientation": "v",
         "showlegend": true,
         "type": "scatter",
         "x": [
          2013,
          2014,
          2015,
          2016,
          2017,
          2018,
          2019,
          2020
         ],
         "xaxis": "x",
         "y": [
          25.53333333333333,
          26.566666666666666,
          26.640833333333333,
          26.955,
          27.324166666666667,
          27.8075,
          27.778333333333332,
          27.185833333333335
         ],
         "yaxis": "y"
        },
        {
         "hovertemplate": "<b>LOWESS trendline</b><br><br>Underground lines=Bakerloo<br>Year=%{x}<br>Temperature (˚C)=%{y} <b>(trend)</b><extra></extra>",
         "legendgroup": "Bakerloo",
         "marker": {
          "color": "rgb(179,98,5)",
          "symbol": "circle"
         },
         "mode": "lines",
         "name": "Bakerloo",
         "showlegend": false,
         "type": "scatter",
         "x": [
          2013,
          2014,
          2015,
          2016,
          2017,
          2018,
          2019,
          2020
         ],
         "xaxis": "x",
         "y": [
          25.693186881896036,
          26.201939598646888,
          26.704464075268703,
          26.970710207836532,
          27.356530162805875,
          27.66252374756627,
          27.53112948801717,
          27.352548406062976
         ],
         "yaxis": "y"
        },
        {
         "hovertemplate": "Underground lines=Central<br>Year=%{x}<br>Temperature (˚C)=%{y}<extra></extra>",
         "legendgroup": "Central",
         "marker": {
          "color": "rgb(227,13,23)",
          "symbol": "circle"
         },
         "mode": "markers",
         "name": "Central",
         "orientation": "v",
         "showlegend": true,
         "type": "scatter",
         "x": [
          2013,
          2014,
          2015,
          2016,
          2017,
          2018,
          2019,
          2020
         ],
         "xaxis": "x",
         "y": [
          25,
          26.233333333333334,
          25.87,
          26.135,
          26.346666666666668,
          26.57166666666667,
          26.480833333333333,
          25.686666666666667
         ],
         "yaxis": "y"
        },
        {
         "hovertemplate": "<b>LOWESS trendline</b><br><br>Underground lines=Central<br>Year=%{x}<br>Temperature (˚C)=%{y} <b>(trend)</b><extra></extra>",
         "legendgroup": "Central",
         "marker": {
          "color": "rgb(227,13,23)",
          "symbol": "circle"
         },
         "mode": "lines",
         "name": "Central",
         "showlegend": false,
         "type": "scatter",
         "x": [
          2013,
          2014,
          2015,
          2016,
          2017,
          2018,
          2019,
          2020
         ],
         "xaxis": "x",
         "y": [
          25.095386759285333,
          25.499290573172953,
          25.972237414212266,
          26.11988392818069,
          26.35046840126434,
          26.4848339200715,
          26.190388322835993,
          25.860300862634944
         ],
         "yaxis": "y"
        },
        {
         "hovertemplate": "Underground lines=Jubilee<br>Year=%{x}<br>Temperature (˚C)=%{y}<extra></extra>",
         "legendgroup": "Jubilee",
         "marker": {
          "color": "rgb(160,165,169)",
          "symbol": "circle"
         },
         "mode": "markers",
         "name": "Jubilee",
         "orientation": "v",
         "showlegend": true,
         "type": "scatter",
         "x": [
          2013,
          2014,
          2015,
          2016,
          2017,
          2018,
          2019,
          2020
         ],
         "xaxis": "x",
         "y": [
          21.46666666666667,
          21.96666666666667,
          22.69666666666667,
          22.901666666666667,
          22.858333333333334,
          23.2925,
          22.63416666666667,
          21.594166666666666
         ],
         "yaxis": "y"
        },
        {
         "hovertemplate": "<b>LOWESS trendline</b><br><br>Underground lines=Jubilee<br>Year=%{x}<br>Temperature (˚C)=%{y} <b>(trend)</b><extra></extra>",
         "legendgroup": "Jubilee",
         "marker": {
          "color": "rgb(160,165,169)",
          "symbol": "circle"
         },
         "mode": "lines",
         "name": "Jubilee",
         "showlegend": false,
         "type": "scatter",
         "x": [
          2013,
          2014,
          2015,
          2016,
          2017,
          2018,
          2019,
          2020
         ],
         "xaxis": "x",
         "y": [
          21.464371190592054,
          22.01425337415656,
          22.54269143792677,
          22.83188453873606,
          22.985797791069345,
          22.94607629274309,
          22.397210721653217,
          21.77859794994572
         ],
         "yaxis": "y"
        },
        {
         "hovertemplate": "Underground lines=Northern<br>Year=%{x}<br>Temperature (˚C)=%{y}<extra></extra>",
         "legendgroup": "Northern",
         "marker": {
          "color": "rgb(0,0,0)",
          "symbol": "circle"
         },
         "mode": "markers",
         "name": "Northern",
         "orientation": "v",
         "showlegend": true,
         "type": "scatter",
         "x": [
          2013,
          2014,
          2015,
          2016,
          2017,
          2018,
          2019,
          2020
         ],
         "xaxis": "x",
         "y": [
          22.666666666666668,
          23.758333333333336,
          24.78,
          25.161666666666665,
          24.905,
          25.249166666666667,
          25.575833333333335,
          24.6725
         ],
         "yaxis": "y"
        },
        {
         "hovertemplate": "<b>LOWESS trendline</b><br><br>Underground lines=Northern<br>Year=%{x}<br>Temperature (˚C)=%{y} <b>(trend)</b><extra></extra>",
         "legendgroup": "Northern",
         "marker": {
          "color": "rgb(0,0,0)",
          "symbol": "circle"
         },
         "mode": "lines",
         "name": "Northern",
         "showlegend": false,
         "type": "scatter",
         "x": [
          2013,
          2014,
          2015,
          2016,
          2017,
          2018,
          2019,
          2020
         ],
         "xaxis": "x",
         "y": [
          22.738713994425193,
          23.68991461105127,
          24.59466442693119,
          24.978737253778768,
          25.078735669575288,
          25.244807448214594,
          25.068489393100734,
          24.88569410174368
         ],
         "yaxis": "y"
        },
        {
         "hovertemplate": "Underground lines=Piccadilly<br>Year=%{x}<br>Temperature (˚C)=%{y}<extra></extra>",
         "legendgroup": "Piccadilly",
         "marker": {
          "color": "rgb(0,54,136)",
          "symbol": "circle"
         },
         "mode": "markers",
         "name": "Piccadilly",
         "orientation": "v",
         "showlegend": true,
         "type": "scatter",
         "x": [
          2013,
          2014,
          2015,
          2016,
          2017,
          2018,
          2019,
          2020
         ],
         "xaxis": "x",
         "y": [
          22.78333333333333,
          23.900000000000002,
          22.6825,
          23.1675,
          23.305833333333336,
          23.578333333333333,
          23.968333333333334,
          23.171666666666667
         ],
         "yaxis": "y"
        },
        {
         "hovertemplate": "<b>LOWESS trendline</b><br><br>Underground lines=Piccadilly<br>Year=%{x}<br>Temperature (˚C)=%{y} <b>(trend)</b><extra></extra>",
         "legendgroup": "Piccadilly",
         "marker": {
          "color": "rgb(0,54,136)",
          "symbol": "circle"
         },
         "mode": "lines",
         "name": "Piccadilly",
         "showlegend": false,
         "type": "scatter",
         "x": [
          2013,
          2014,
          2015,
          2016,
          2017,
          2018,
          2019,
          2020
         ],
         "xaxis": "x",
         "y": [
          22.95948324872739,
          23.00001297429948,
          23.100374667752163,
          23.072878759839814,
          23.34418665270026,
          23.610390089262587,
          23.52020820011944,
          23.401293579894883
         ],
         "yaxis": "y"
        },
        {
         "hovertemplate": "Underground lines=Victoria<br>Year=%{x}<br>Temperature (˚C)=%{y}<extra></extra>",
         "legendgroup": "Victoria",
         "marker": {
          "color": "rgb(0,152,212)",
          "symbol": "circle"
         },
         "mode": "markers",
         "name": "Victoria",
         "orientation": "v",
         "showlegend": true,
         "type": "scatter",
         "x": [
          2013,
          2014,
          2015,
          2016,
          2017,
          2018,
          2019,
          2020
         ],
         "xaxis": "x",
         "y": [
          21.883333333333336,
          23.2,
          23.020833333333332,
          24.102500000000003,
          25.525833333333335,
          26.483333333333334,
          27.05666666666667,
          26.073333333333334
         ],
         "yaxis": "y"
        },
        {
         "hovertemplate": "<b>LOWESS trendline</b><br><br>Underground lines=Victoria<br>Year=%{x}<br>Temperature (˚C)=%{y} <b>(trend)</b><extra></extra>",
         "legendgroup": "Victoria",
         "marker": {
          "color": "rgb(0,152,212)",
          "symbol": "circle"
         },
         "mode": "lines",
         "name": "Victoria",
         "showlegend": false,
         "type": "scatter",
         "x": [
          2013,
          2014,
          2015,
          2016,
          2017,
          2018,
          2019,
          2020
         ],
         "xaxis": "x",
         "y": [
          22.069362442763094,
          22.717998063096392,
          23.38224248029279,
          24.19802905858294,
          25.392089332656973,
          26.382371119125146,
          26.413152757490572,
          26.40469083560806
         ],
         "yaxis": "y"
        },
        {
         "hovertemplate": "Underground lines=Waterloo_and_City<br>Year=%{x}<br>Temperature (˚C)=%{y}<extra></extra>",
         "legendgroup": "Waterloo_and_City",
         "marker": {
          "color": "rgb(149,205,186)",
          "symbol": "circle"
         },
         "mode": "markers",
         "name": "Waterloo_and_City",
         "orientation": "v",
         "showlegend": true,
         "type": "scatter",
         "x": [
          2013,
          2014,
          2015,
          2016,
          2017,
          2018,
          2019,
          2020
         ],
         "xaxis": "x",
         "y": [
          20.683333333333334,
          22.266666666666666,
          22.015,
          22.205,
          22.083333333333332,
          23.139166666666668,
          21.55666666666667,
          19.154166666666665
         ],
         "yaxis": "y"
        },
        {
         "hovertemplate": "<b>LOWESS trendline</b><br><br>Underground lines=Waterloo_and_City<br>Year=%{x}<br>Temperature (˚C)=%{y} <b>(trend)</b><extra></extra>",
         "legendgroup": "Waterloo_and_City",
         "marker": {
          "color": "rgb(149,205,186)",
          "symbol": "circle"
         },
         "mode": "lines",
         "name": "Waterloo_and_City",
         "showlegend": false,
         "type": "scatter",
         "x": [
          2013,
          2014,
          2015,
          2016,
          2017,
          2018,
          2019,
          2020
         ],
         "xaxis": "x",
         "y": [
          21.017235153428782,
          21.59488324408874,
          22.136541168462887,
          22.11653956915167,
          22.404843397663324,
          22.31971340043113,
          21.040549665766438,
          19.57803734760838
         ],
         "yaxis": "y"
        },
        {
         "hovertemplate": "Underground lines=Subsurface_lines<br>Year=%{x}<br>Temperature (˚C)=%{y}<extra></extra>",
         "legendgroup": "Subsurface_lines",
         "marker": {
          "color": "rgb(255,211,0)",
          "symbol": "circle"
         },
         "mode": "markers",
         "name": "Subsurface_lines",
         "orientation": "v",
         "showlegend": true,
         "type": "scatter",
         "x": [
          2013,
          2014,
          2015,
          2016,
          2017,
          2018,
          2019,
          2020
         ],
         "xaxis": "x",
         "y": [
          17.875,
          19.483333333333334,
          18.8,
          18.536666666666665,
          19.045833333333334,
          18.894166666666667,
          18.728333333333335,
          18.156666666666666
         ],
         "yaxis": "y"
        },
        {
         "hovertemplate": "<b>LOWESS trendline</b><br><br>Underground lines=Subsurface_lines<br>Year=%{x}<br>Temperature (˚C)=%{y} <b>(trend)</b><extra></extra>",
         "legendgroup": "Subsurface_lines",
         "marker": {
          "color": "rgb(255,211,0)",
          "symbol": "circle"
         },
         "mode": "lines",
         "name": "Subsurface_lines",
         "showlegend": false,
         "type": "scatter",
         "x": [
          2013,
          2014,
          2015,
          2016,
          2017,
          2018,
          2019,
          2020
         ],
         "xaxis": "x",
         "y": [
          17.91144702076176,
          18.27379579395707,
          18.799999999997528,
          18.770681285732085,
          18.85373946267586,
          18.890320479713424,
          18.577451604419725,
          18.24168224594003
         ],
         "yaxis": "y"
        }
       ],
       "layout": {
        "legend": {
         "title": {
          "text": "Underground lines"
         },
         "tracegroupgap": 0
        },
        "template": {
         "data": {
          "bar": [
           {
            "error_x": {
             "color": "#2a3f5f"
            },
            "error_y": {
             "color": "#2a3f5f"
            },
            "marker": {
             "line": {
              "color": "#E5ECF6",
              "width": 0.5
             },
             "pattern": {
              "fillmode": "overlay",
              "size": 10,
              "solidity": 0.2
             }
            },
            "type": "bar"
           }
          ],
          "barpolar": [
           {
            "marker": {
             "line": {
              "color": "#E5ECF6",
              "width": 0.5
             },
             "pattern": {
              "fillmode": "overlay",
              "size": 10,
              "solidity": 0.2
             }
            },
            "type": "barpolar"
           }
          ],
          "carpet": [
           {
            "aaxis": {
             "endlinecolor": "#2a3f5f",
             "gridcolor": "white",
             "linecolor": "white",
             "minorgridcolor": "white",
             "startlinecolor": "#2a3f5f"
            },
            "baxis": {
             "endlinecolor": "#2a3f5f",
             "gridcolor": "white",
             "linecolor": "white",
             "minorgridcolor": "white",
             "startlinecolor": "#2a3f5f"
            },
            "type": "carpet"
           }
          ],
          "choropleth": [
           {
            "colorbar": {
             "outlinewidth": 0,
             "ticks": ""
            },
            "type": "choropleth"
           }
          ],
          "contour": [
           {
            "colorbar": {
             "outlinewidth": 0,
             "ticks": ""
            },
            "colorscale": [
             [
              0,
              "#0d0887"
             ],
             [
              0.1111111111111111,
              "#46039f"
             ],
             [
              0.2222222222222222,
              "#7201a8"
             ],
             [
              0.3333333333333333,
              "#9c179e"
             ],
             [
              0.4444444444444444,
              "#bd3786"
             ],
             [
              0.5555555555555556,
              "#d8576b"
             ],
             [
              0.6666666666666666,
              "#ed7953"
             ],
             [
              0.7777777777777778,
              "#fb9f3a"
             ],
             [
              0.8888888888888888,
              "#fdca26"
             ],
             [
              1,
              "#f0f921"
             ]
            ],
            "type": "contour"
           }
          ],
          "contourcarpet": [
           {
            "colorbar": {
             "outlinewidth": 0,
             "ticks": ""
            },
            "type": "contourcarpet"
           }
          ],
          "heatmap": [
           {
            "colorbar": {
             "outlinewidth": 0,
             "ticks": ""
            },
            "colorscale": [
             [
              0,
              "#0d0887"
             ],
             [
              0.1111111111111111,
              "#46039f"
             ],
             [
              0.2222222222222222,
              "#7201a8"
             ],
             [
              0.3333333333333333,
              "#9c179e"
             ],
             [
              0.4444444444444444,
              "#bd3786"
             ],
             [
              0.5555555555555556,
              "#d8576b"
             ],
             [
              0.6666666666666666,
              "#ed7953"
             ],
             [
              0.7777777777777778,
              "#fb9f3a"
             ],
             [
              0.8888888888888888,
              "#fdca26"
             ],
             [
              1,
              "#f0f921"
             ]
            ],
            "type": "heatmap"
           }
          ],
          "heatmapgl": [
           {
            "colorbar": {
             "outlinewidth": 0,
             "ticks": ""
            },
            "colorscale": [
             [
              0,
              "#0d0887"
             ],
             [
              0.1111111111111111,
              "#46039f"
             ],
             [
              0.2222222222222222,
              "#7201a8"
             ],
             [
              0.3333333333333333,
              "#9c179e"
             ],
             [
              0.4444444444444444,
              "#bd3786"
             ],
             [
              0.5555555555555556,
              "#d8576b"
             ],
             [
              0.6666666666666666,
              "#ed7953"
             ],
             [
              0.7777777777777778,
              "#fb9f3a"
             ],
             [
              0.8888888888888888,
              "#fdca26"
             ],
             [
              1,
              "#f0f921"
             ]
            ],
            "type": "heatmapgl"
           }
          ],
          "histogram": [
           {
            "marker": {
             "pattern": {
              "fillmode": "overlay",
              "size": 10,
              "solidity": 0.2
             }
            },
            "type": "histogram"
           }
          ],
          "histogram2d": [
           {
            "colorbar": {
             "outlinewidth": 0,
             "ticks": ""
            },
            "colorscale": [
             [
              0,
              "#0d0887"
             ],
             [
              0.1111111111111111,
              "#46039f"
             ],
             [
              0.2222222222222222,
              "#7201a8"
             ],
             [
              0.3333333333333333,
              "#9c179e"
             ],
             [
              0.4444444444444444,
              "#bd3786"
             ],
             [
              0.5555555555555556,
              "#d8576b"
             ],
             [
              0.6666666666666666,
              "#ed7953"
             ],
             [
              0.7777777777777778,
              "#fb9f3a"
             ],
             [
              0.8888888888888888,
              "#fdca26"
             ],
             [
              1,
              "#f0f921"
             ]
            ],
            "type": "histogram2d"
           }
          ],
          "histogram2dcontour": [
           {
            "colorbar": {
             "outlinewidth": 0,
             "ticks": ""
            },
            "colorscale": [
             [
              0,
              "#0d0887"
             ],
             [
              0.1111111111111111,
              "#46039f"
             ],
             [
              0.2222222222222222,
              "#7201a8"
             ],
             [
              0.3333333333333333,
              "#9c179e"
             ],
             [
              0.4444444444444444,
              "#bd3786"
             ],
             [
              0.5555555555555556,
              "#d8576b"
             ],
             [
              0.6666666666666666,
              "#ed7953"
             ],
             [
              0.7777777777777778,
              "#fb9f3a"
             ],
             [
              0.8888888888888888,
              "#fdca26"
             ],
             [
              1,
              "#f0f921"
             ]
            ],
            "type": "histogram2dcontour"
           }
          ],
          "mesh3d": [
           {
            "colorbar": {
             "outlinewidth": 0,
             "ticks": ""
            },
            "type": "mesh3d"
           }
          ],
          "parcoords": [
           {
            "line": {
             "colorbar": {
              "outlinewidth": 0,
              "ticks": ""
             }
            },
            "type": "parcoords"
           }
          ],
          "pie": [
           {
            "automargin": true,
            "type": "pie"
           }
          ],
          "scatter": [
           {
            "fillpattern": {
             "fillmode": "overlay",
             "size": 10,
             "solidity": 0.2
            },
            "type": "scatter"
           }
          ],
          "scatter3d": [
           {
            "line": {
             "colorbar": {
              "outlinewidth": 0,
              "ticks": ""
             }
            },
            "marker": {
             "colorbar": {
              "outlinewidth": 0,
              "ticks": ""
             }
            },
            "type": "scatter3d"
           }
          ],
          "scattercarpet": [
           {
            "marker": {
             "colorbar": {
              "outlinewidth": 0,
              "ticks": ""
             }
            },
            "type": "scattercarpet"
           }
          ],
          "scattergeo": [
           {
            "marker": {
             "colorbar": {
              "outlinewidth": 0,
              "ticks": ""
             }
            },
            "type": "scattergeo"
           }
          ],
          "scattergl": [
           {
            "marker": {
             "colorbar": {
              "outlinewidth": 0,
              "ticks": ""
             }
            },
            "type": "scattergl"
           }
          ],
          "scattermapbox": [
           {
            "marker": {
             "colorbar": {
              "outlinewidth": 0,
              "ticks": ""
             }
            },
            "type": "scattermapbox"
           }
          ],
          "scatterpolar": [
           {
            "marker": {
             "colorbar": {
              "outlinewidth": 0,
              "ticks": ""
             }
            },
            "type": "scatterpolar"
           }
          ],
          "scatterpolargl": [
           {
            "marker": {
             "colorbar": {
              "outlinewidth": 0,
              "ticks": ""
             }
            },
            "type": "scatterpolargl"
           }
          ],
          "scatterternary": [
           {
            "marker": {
             "colorbar": {
              "outlinewidth": 0,
              "ticks": ""
             }
            },
            "type": "scatterternary"
           }
          ],
          "surface": [
           {
            "colorbar": {
             "outlinewidth": 0,
             "ticks": ""
            },
            "colorscale": [
             [
              0,
              "#0d0887"
             ],
             [
              0.1111111111111111,
              "#46039f"
             ],
             [
              0.2222222222222222,
              "#7201a8"
             ],
             [
              0.3333333333333333,
              "#9c179e"
             ],
             [
              0.4444444444444444,
              "#bd3786"
             ],
             [
              0.5555555555555556,
              "#d8576b"
             ],
             [
              0.6666666666666666,
              "#ed7953"
             ],
             [
              0.7777777777777778,
              "#fb9f3a"
             ],
             [
              0.8888888888888888,
              "#fdca26"
             ],
             [
              1,
              "#f0f921"
             ]
            ],
            "type": "surface"
           }
          ],
          "table": [
           {
            "cells": {
             "fill": {
              "color": "#EBF0F8"
             },
             "line": {
              "color": "white"
             }
            },
            "header": {
             "fill": {
              "color": "#C8D4E3"
             },
             "line": {
              "color": "white"
             }
            },
            "type": "table"
           }
          ]
         },
         "layout": {
          "annotationdefaults": {
           "arrowcolor": "#2a3f5f",
           "arrowhead": 0,
           "arrowwidth": 1
          },
          "autotypenumbers": "strict",
          "coloraxis": {
           "colorbar": {
            "outlinewidth": 0,
            "ticks": ""
           }
          },
          "colorscale": {
           "diverging": [
            [
             0,
             "#8e0152"
            ],
            [
             0.1,
             "#c51b7d"
            ],
            [
             0.2,
             "#de77ae"
            ],
            [
             0.3,
             "#f1b6da"
            ],
            [
             0.4,
             "#fde0ef"
            ],
            [
             0.5,
             "#f7f7f7"
            ],
            [
             0.6,
             "#e6f5d0"
            ],
            [
             0.7,
             "#b8e186"
            ],
            [
             0.8,
             "#7fbc41"
            ],
            [
             0.9,
             "#4d9221"
            ],
            [
             1,
             "#276419"
            ]
           ],
           "sequential": [
            [
             0,
             "#0d0887"
            ],
            [
             0.1111111111111111,
             "#46039f"
            ],
            [
             0.2222222222222222,
             "#7201a8"
            ],
            [
             0.3333333333333333,
             "#9c179e"
            ],
            [
             0.4444444444444444,
             "#bd3786"
            ],
            [
             0.5555555555555556,
             "#d8576b"
            ],
            [
             0.6666666666666666,
             "#ed7953"
            ],
            [
             0.7777777777777778,
             "#fb9f3a"
            ],
            [
             0.8888888888888888,
             "#fdca26"
            ],
            [
             1,
             "#f0f921"
            ]
           ],
           "sequentialminus": [
            [
             0,
             "#0d0887"
            ],
            [
             0.1111111111111111,
             "#46039f"
            ],
            [
             0.2222222222222222,
             "#7201a8"
            ],
            [
             0.3333333333333333,
             "#9c179e"
            ],
            [
             0.4444444444444444,
             "#bd3786"
            ],
            [
             0.5555555555555556,
             "#d8576b"
            ],
            [
             0.6666666666666666,
             "#ed7953"
            ],
            [
             0.7777777777777778,
             "#fb9f3a"
            ],
            [
             0.8888888888888888,
             "#fdca26"
            ],
            [
             1,
             "#f0f921"
            ]
           ]
          },
          "colorway": [
           "#636efa",
           "#EF553B",
           "#00cc96",
           "#ab63fa",
           "#FFA15A",
           "#19d3f3",
           "#FF6692",
           "#B6E880",
           "#FF97FF",
           "#FECB52"
          ],
          "font": {
           "color": "#2a3f5f"
          },
          "geo": {
           "bgcolor": "white",
           "lakecolor": "white",
           "landcolor": "#E5ECF6",
           "showlakes": true,
           "showland": true,
           "subunitcolor": "white"
          },
          "hoverlabel": {
           "align": "left"
          },
          "hovermode": "closest",
          "mapbox": {
           "style": "light"
          },
          "paper_bgcolor": "white",
          "plot_bgcolor": "#E5ECF6",
          "polar": {
           "angularaxis": {
            "gridcolor": "white",
            "linecolor": "white",
            "ticks": ""
           },
           "bgcolor": "#E5ECF6",
           "radialaxis": {
            "gridcolor": "white",
            "linecolor": "white",
            "ticks": ""
           }
          },
          "scene": {
           "xaxis": {
            "backgroundcolor": "#E5ECF6",
            "gridcolor": "white",
            "gridwidth": 2,
            "linecolor": "white",
            "showbackground": true,
            "ticks": "",
            "zerolinecolor": "white"
           },
           "yaxis": {
            "backgroundcolor": "#E5ECF6",
            "gridcolor": "white",
            "gridwidth": 2,
            "linecolor": "white",
            "showbackground": true,
            "ticks": "",
            "zerolinecolor": "white"
           },
           "zaxis": {
            "backgroundcolor": "#E5ECF6",
            "gridcolor": "white",
            "gridwidth": 2,
            "linecolor": "white",
            "showbackground": true,
            "ticks": "",
            "zerolinecolor": "white"
           }
          },
          "shapedefaults": {
           "line": {
            "color": "#2a3f5f"
           }
          },
          "ternary": {
           "aaxis": {
            "gridcolor": "white",
            "linecolor": "white",
            "ticks": ""
           },
           "baxis": {
            "gridcolor": "white",
            "linecolor": "white",
            "ticks": ""
           },
           "bgcolor": "#E5ECF6",
           "caxis": {
            "gridcolor": "white",
            "linecolor": "white",
            "ticks": ""
           }
          },
          "title": {
           "x": 0.05
          },
          "xaxis": {
           "automargin": true,
           "gridcolor": "white",
           "linecolor": "white",
           "ticks": "",
           "title": {
            "standoff": 15
           },
           "zerolinecolor": "white",
           "zerolinewidth": 2
          },
          "yaxis": {
           "automargin": true,
           "gridcolor": "white",
           "linecolor": "white",
           "ticks": "",
           "title": {
            "standoff": 15
           },
           "zerolinecolor": "white",
           "zerolinewidth": 2
          }
         }
        },
        "title": {
         "text": "Mean Temperature on TFL Underground lines"
        },
        "xaxis": {
         "anchor": "y",
         "domain": [
          0,
          1
         ],
         "title": {
          "text": "Year"
         }
        },
        "yaxis": {
         "anchor": "x",
         "domain": [
          0,
          1
         ],
         "title": {
          "text": "Temperature (˚C)"
         }
        }
       }
      },
      "text/html": [
       "<div>                            <div id=\"7a6bbfbe-a5f2-48bf-bd00-9f51e5c0c88f\" class=\"plotly-graph-div\" style=\"height:525px; width:100%;\"></div>            <script type=\"text/javascript\">                require([\"plotly\"], function(Plotly) {                    window.PLOTLYENV=window.PLOTLYENV || {};                                    if (document.getElementById(\"7a6bbfbe-a5f2-48bf-bd00-9f51e5c0c88f\")) {                    Plotly.newPlot(                        \"7a6bbfbe-a5f2-48bf-bd00-9f51e5c0c88f\",                        [{\"hovertemplate\":\"Underground lines=Bakerloo<br>Year=%{x}<br>Temperature (\\u02daC)=%{y}<extra></extra>\",\"legendgroup\":\"Bakerloo\",\"marker\":{\"color\":\"rgb(179,98,5)\",\"symbol\":\"circle\"},\"mode\":\"markers\",\"name\":\"Bakerloo\",\"orientation\":\"v\",\"showlegend\":true,\"x\":[2013,2014,2015,2016,2017,2018,2019,2020],\"xaxis\":\"x\",\"y\":[25.53333333333333,26.566666666666666,26.640833333333333,26.955,27.324166666666667,27.8075,27.778333333333332,27.185833333333335],\"yaxis\":\"y\",\"type\":\"scatter\"},{\"hovertemplate\":\"<b>LOWESS trendline</b><br><br>Underground lines=Bakerloo<br>Year=%{x}<br>Temperature (\\u02daC)=%{y} <b>(trend)</b><extra></extra>\",\"legendgroup\":\"Bakerloo\",\"marker\":{\"color\":\"rgb(179,98,5)\",\"symbol\":\"circle\"},\"mode\":\"lines\",\"name\":\"Bakerloo\",\"showlegend\":false,\"x\":[2013,2014,2015,2016,2017,2018,2019,2020],\"xaxis\":\"x\",\"y\":[25.693186881896036,26.201939598646888,26.704464075268703,26.970710207836532,27.356530162805875,27.66252374756627,27.53112948801717,27.352548406062976],\"yaxis\":\"y\",\"type\":\"scatter\"},{\"hovertemplate\":\"Underground lines=Central<br>Year=%{x}<br>Temperature (\\u02daC)=%{y}<extra></extra>\",\"legendgroup\":\"Central\",\"marker\":{\"color\":\"rgb(227,13,23)\",\"symbol\":\"circle\"},\"mode\":\"markers\",\"name\":\"Central\",\"orientation\":\"v\",\"showlegend\":true,\"x\":[2013,2014,2015,2016,2017,2018,2019,2020],\"xaxis\":\"x\",\"y\":[25.0,26.233333333333334,25.87,26.135,26.346666666666668,26.57166666666667,26.480833333333333,25.686666666666667],\"yaxis\":\"y\",\"type\":\"scatter\"},{\"hovertemplate\":\"<b>LOWESS trendline</b><br><br>Underground lines=Central<br>Year=%{x}<br>Temperature (\\u02daC)=%{y} <b>(trend)</b><extra></extra>\",\"legendgroup\":\"Central\",\"marker\":{\"color\":\"rgb(227,13,23)\",\"symbol\":\"circle\"},\"mode\":\"lines\",\"name\":\"Central\",\"showlegend\":false,\"x\":[2013,2014,2015,2016,2017,2018,2019,2020],\"xaxis\":\"x\",\"y\":[25.095386759285333,25.499290573172953,25.972237414212266,26.11988392818069,26.35046840126434,26.4848339200715,26.190388322835993,25.860300862634944],\"yaxis\":\"y\",\"type\":\"scatter\"},{\"hovertemplate\":\"Underground lines=Jubilee<br>Year=%{x}<br>Temperature (\\u02daC)=%{y}<extra></extra>\",\"legendgroup\":\"Jubilee\",\"marker\":{\"color\":\"rgb(160,165,169)\",\"symbol\":\"circle\"},\"mode\":\"markers\",\"name\":\"Jubilee\",\"orientation\":\"v\",\"showlegend\":true,\"x\":[2013,2014,2015,2016,2017,2018,2019,2020],\"xaxis\":\"x\",\"y\":[21.46666666666667,21.96666666666667,22.69666666666667,22.901666666666667,22.858333333333334,23.2925,22.63416666666667,21.594166666666666],\"yaxis\":\"y\",\"type\":\"scatter\"},{\"hovertemplate\":\"<b>LOWESS trendline</b><br><br>Underground lines=Jubilee<br>Year=%{x}<br>Temperature (\\u02daC)=%{y} <b>(trend)</b><extra></extra>\",\"legendgroup\":\"Jubilee\",\"marker\":{\"color\":\"rgb(160,165,169)\",\"symbol\":\"circle\"},\"mode\":\"lines\",\"name\":\"Jubilee\",\"showlegend\":false,\"x\":[2013,2014,2015,2016,2017,2018,2019,2020],\"xaxis\":\"x\",\"y\":[21.464371190592054,22.01425337415656,22.54269143792677,22.83188453873606,22.985797791069345,22.94607629274309,22.397210721653217,21.77859794994572],\"yaxis\":\"y\",\"type\":\"scatter\"},{\"hovertemplate\":\"Underground lines=Northern<br>Year=%{x}<br>Temperature (\\u02daC)=%{y}<extra></extra>\",\"legendgroup\":\"Northern\",\"marker\":{\"color\":\"rgb(0,0,0)\",\"symbol\":\"circle\"},\"mode\":\"markers\",\"name\":\"Northern\",\"orientation\":\"v\",\"showlegend\":true,\"x\":[2013,2014,2015,2016,2017,2018,2019,2020],\"xaxis\":\"x\",\"y\":[22.666666666666668,23.758333333333336,24.78,25.161666666666665,24.905,25.249166666666667,25.575833333333335,24.6725],\"yaxis\":\"y\",\"type\":\"scatter\"},{\"hovertemplate\":\"<b>LOWESS trendline</b><br><br>Underground lines=Northern<br>Year=%{x}<br>Temperature (\\u02daC)=%{y} <b>(trend)</b><extra></extra>\",\"legendgroup\":\"Northern\",\"marker\":{\"color\":\"rgb(0,0,0)\",\"symbol\":\"circle\"},\"mode\":\"lines\",\"name\":\"Northern\",\"showlegend\":false,\"x\":[2013,2014,2015,2016,2017,2018,2019,2020],\"xaxis\":\"x\",\"y\":[22.738713994425193,23.68991461105127,24.59466442693119,24.978737253778768,25.078735669575288,25.244807448214594,25.068489393100734,24.88569410174368],\"yaxis\":\"y\",\"type\":\"scatter\"},{\"hovertemplate\":\"Underground lines=Piccadilly<br>Year=%{x}<br>Temperature (\\u02daC)=%{y}<extra></extra>\",\"legendgroup\":\"Piccadilly\",\"marker\":{\"color\":\"rgb(0,54,136)\",\"symbol\":\"circle\"},\"mode\":\"markers\",\"name\":\"Piccadilly\",\"orientation\":\"v\",\"showlegend\":true,\"x\":[2013,2014,2015,2016,2017,2018,2019,2020],\"xaxis\":\"x\",\"y\":[22.78333333333333,23.900000000000002,22.6825,23.1675,23.305833333333336,23.578333333333333,23.968333333333334,23.171666666666667],\"yaxis\":\"y\",\"type\":\"scatter\"},{\"hovertemplate\":\"<b>LOWESS trendline</b><br><br>Underground lines=Piccadilly<br>Year=%{x}<br>Temperature (\\u02daC)=%{y} <b>(trend)</b><extra></extra>\",\"legendgroup\":\"Piccadilly\",\"marker\":{\"color\":\"rgb(0,54,136)\",\"symbol\":\"circle\"},\"mode\":\"lines\",\"name\":\"Piccadilly\",\"showlegend\":false,\"x\":[2013,2014,2015,2016,2017,2018,2019,2020],\"xaxis\":\"x\",\"y\":[22.95948324872739,23.00001297429948,23.100374667752163,23.072878759839814,23.34418665270026,23.610390089262587,23.52020820011944,23.401293579894883],\"yaxis\":\"y\",\"type\":\"scatter\"},{\"hovertemplate\":\"Underground lines=Victoria<br>Year=%{x}<br>Temperature (\\u02daC)=%{y}<extra></extra>\",\"legendgroup\":\"Victoria\",\"marker\":{\"color\":\"rgb(0,152,212)\",\"symbol\":\"circle\"},\"mode\":\"markers\",\"name\":\"Victoria\",\"orientation\":\"v\",\"showlegend\":true,\"x\":[2013,2014,2015,2016,2017,2018,2019,2020],\"xaxis\":\"x\",\"y\":[21.883333333333336,23.2,23.020833333333332,24.102500000000003,25.525833333333335,26.483333333333334,27.05666666666667,26.073333333333334],\"yaxis\":\"y\",\"type\":\"scatter\"},{\"hovertemplate\":\"<b>LOWESS trendline</b><br><br>Underground lines=Victoria<br>Year=%{x}<br>Temperature (\\u02daC)=%{y} <b>(trend)</b><extra></extra>\",\"legendgroup\":\"Victoria\",\"marker\":{\"color\":\"rgb(0,152,212)\",\"symbol\":\"circle\"},\"mode\":\"lines\",\"name\":\"Victoria\",\"showlegend\":false,\"x\":[2013,2014,2015,2016,2017,2018,2019,2020],\"xaxis\":\"x\",\"y\":[22.069362442763094,22.717998063096392,23.38224248029279,24.19802905858294,25.392089332656973,26.382371119125146,26.413152757490572,26.40469083560806],\"yaxis\":\"y\",\"type\":\"scatter\"},{\"hovertemplate\":\"Underground lines=Waterloo_and_City<br>Year=%{x}<br>Temperature (\\u02daC)=%{y}<extra></extra>\",\"legendgroup\":\"Waterloo_and_City\",\"marker\":{\"color\":\"rgb(149,205,186)\",\"symbol\":\"circle\"},\"mode\":\"markers\",\"name\":\"Waterloo_and_City\",\"orientation\":\"v\",\"showlegend\":true,\"x\":[2013,2014,2015,2016,2017,2018,2019,2020],\"xaxis\":\"x\",\"y\":[20.683333333333334,22.266666666666666,22.015,22.205,22.083333333333332,23.139166666666668,21.55666666666667,19.154166666666665],\"yaxis\":\"y\",\"type\":\"scatter\"},{\"hovertemplate\":\"<b>LOWESS trendline</b><br><br>Underground lines=Waterloo_and_City<br>Year=%{x}<br>Temperature (\\u02daC)=%{y} <b>(trend)</b><extra></extra>\",\"legendgroup\":\"Waterloo_and_City\",\"marker\":{\"color\":\"rgb(149,205,186)\",\"symbol\":\"circle\"},\"mode\":\"lines\",\"name\":\"Waterloo_and_City\",\"showlegend\":false,\"x\":[2013,2014,2015,2016,2017,2018,2019,2020],\"xaxis\":\"x\",\"y\":[21.017235153428782,21.59488324408874,22.136541168462887,22.11653956915167,22.404843397663324,22.31971340043113,21.040549665766438,19.57803734760838],\"yaxis\":\"y\",\"type\":\"scatter\"},{\"hovertemplate\":\"Underground lines=Subsurface_lines<br>Year=%{x}<br>Temperature (\\u02daC)=%{y}<extra></extra>\",\"legendgroup\":\"Subsurface_lines\",\"marker\":{\"color\":\"rgb(255,211,0)\",\"symbol\":\"circle\"},\"mode\":\"markers\",\"name\":\"Subsurface_lines\",\"orientation\":\"v\",\"showlegend\":true,\"x\":[2013,2014,2015,2016,2017,2018,2019,2020],\"xaxis\":\"x\",\"y\":[17.875,19.483333333333334,18.8,18.536666666666665,19.045833333333334,18.894166666666667,18.728333333333335,18.156666666666666],\"yaxis\":\"y\",\"type\":\"scatter\"},{\"hovertemplate\":\"<b>LOWESS trendline</b><br><br>Underground lines=Subsurface_lines<br>Year=%{x}<br>Temperature (\\u02daC)=%{y} <b>(trend)</b><extra></extra>\",\"legendgroup\":\"Subsurface_lines\",\"marker\":{\"color\":\"rgb(255,211,0)\",\"symbol\":\"circle\"},\"mode\":\"lines\",\"name\":\"Subsurface_lines\",\"showlegend\":false,\"x\":[2013,2014,2015,2016,2017,2018,2019,2020],\"xaxis\":\"x\",\"y\":[17.91144702076176,18.27379579395707,18.799999999997528,18.770681285732085,18.85373946267586,18.890320479713424,18.577451604419725,18.24168224594003],\"yaxis\":\"y\",\"type\":\"scatter\"}],                        {\"template\":{\"data\":{\"histogram2dcontour\":[{\"type\":\"histogram2dcontour\",\"colorbar\":{\"outlinewidth\":0,\"ticks\":\"\"},\"colorscale\":[[0.0,\"#0d0887\"],[0.1111111111111111,\"#46039f\"],[0.2222222222222222,\"#7201a8\"],[0.3333333333333333,\"#9c179e\"],[0.4444444444444444,\"#bd3786\"],[0.5555555555555556,\"#d8576b\"],[0.6666666666666666,\"#ed7953\"],[0.7777777777777778,\"#fb9f3a\"],[0.8888888888888888,\"#fdca26\"],[1.0,\"#f0f921\"]]}],\"choropleth\":[{\"type\":\"choropleth\",\"colorbar\":{\"outlinewidth\":0,\"ticks\":\"\"}}],\"histogram2d\":[{\"type\":\"histogram2d\",\"colorbar\":{\"outlinewidth\":0,\"ticks\":\"\"},\"colorscale\":[[0.0,\"#0d0887\"],[0.1111111111111111,\"#46039f\"],[0.2222222222222222,\"#7201a8\"],[0.3333333333333333,\"#9c179e\"],[0.4444444444444444,\"#bd3786\"],[0.5555555555555556,\"#d8576b\"],[0.6666666666666666,\"#ed7953\"],[0.7777777777777778,\"#fb9f3a\"],[0.8888888888888888,\"#fdca26\"],[1.0,\"#f0f921\"]]}],\"heatmap\":[{\"type\":\"heatmap\",\"colorbar\":{\"outlinewidth\":0,\"ticks\":\"\"},\"colorscale\":[[0.0,\"#0d0887\"],[0.1111111111111111,\"#46039f\"],[0.2222222222222222,\"#7201a8\"],[0.3333333333333333,\"#9c179e\"],[0.4444444444444444,\"#bd3786\"],[0.5555555555555556,\"#d8576b\"],[0.6666666666666666,\"#ed7953\"],[0.7777777777777778,\"#fb9f3a\"],[0.8888888888888888,\"#fdca26\"],[1.0,\"#f0f921\"]]}],\"heatmapgl\":[{\"type\":\"heatmapgl\",\"colorbar\":{\"outlinewidth\":0,\"ticks\":\"\"},\"colorscale\":[[0.0,\"#0d0887\"],[0.1111111111111111,\"#46039f\"],[0.2222222222222222,\"#7201a8\"],[0.3333333333333333,\"#9c179e\"],[0.4444444444444444,\"#bd3786\"],[0.5555555555555556,\"#d8576b\"],[0.6666666666666666,\"#ed7953\"],[0.7777777777777778,\"#fb9f3a\"],[0.8888888888888888,\"#fdca26\"],[1.0,\"#f0f921\"]]}],\"contourcarpet\":[{\"type\":\"contourcarpet\",\"colorbar\":{\"outlinewidth\":0,\"ticks\":\"\"}}],\"contour\":[{\"type\":\"contour\",\"colorbar\":{\"outlinewidth\":0,\"ticks\":\"\"},\"colorscale\":[[0.0,\"#0d0887\"],[0.1111111111111111,\"#46039f\"],[0.2222222222222222,\"#7201a8\"],[0.3333333333333333,\"#9c179e\"],[0.4444444444444444,\"#bd3786\"],[0.5555555555555556,\"#d8576b\"],[0.6666666666666666,\"#ed7953\"],[0.7777777777777778,\"#fb9f3a\"],[0.8888888888888888,\"#fdca26\"],[1.0,\"#f0f921\"]]}],\"surface\":[{\"type\":\"surface\",\"colorbar\":{\"outlinewidth\":0,\"ticks\":\"\"},\"colorscale\":[[0.0,\"#0d0887\"],[0.1111111111111111,\"#46039f\"],[0.2222222222222222,\"#7201a8\"],[0.3333333333333333,\"#9c179e\"],[0.4444444444444444,\"#bd3786\"],[0.5555555555555556,\"#d8576b\"],[0.6666666666666666,\"#ed7953\"],[0.7777777777777778,\"#fb9f3a\"],[0.8888888888888888,\"#fdca26\"],[1.0,\"#f0f921\"]]}],\"mesh3d\":[{\"type\":\"mesh3d\",\"colorbar\":{\"outlinewidth\":0,\"ticks\":\"\"}}],\"scatter\":[{\"fillpattern\":{\"fillmode\":\"overlay\",\"size\":10,\"solidity\":0.2},\"type\":\"scatter\"}],\"parcoords\":[{\"type\":\"parcoords\",\"line\":{\"colorbar\":{\"outlinewidth\":0,\"ticks\":\"\"}}}],\"scatterpolargl\":[{\"type\":\"scatterpolargl\",\"marker\":{\"colorbar\":{\"outlinewidth\":0,\"ticks\":\"\"}}}],\"bar\":[{\"error_x\":{\"color\":\"#2a3f5f\"},\"error_y\":{\"color\":\"#2a3f5f\"},\"marker\":{\"line\":{\"color\":\"#E5ECF6\",\"width\":0.5},\"pattern\":{\"fillmode\":\"overlay\",\"size\":10,\"solidity\":0.2}},\"type\":\"bar\"}],\"scattergeo\":[{\"type\":\"scattergeo\",\"marker\":{\"colorbar\":{\"outlinewidth\":0,\"ticks\":\"\"}}}],\"scatterpolar\":[{\"type\":\"scatterpolar\",\"marker\":{\"colorbar\":{\"outlinewidth\":0,\"ticks\":\"\"}}}],\"histogram\":[{\"marker\":{\"pattern\":{\"fillmode\":\"overlay\",\"size\":10,\"solidity\":0.2}},\"type\":\"histogram\"}],\"scattergl\":[{\"type\":\"scattergl\",\"marker\":{\"colorbar\":{\"outlinewidth\":0,\"ticks\":\"\"}}}],\"scatter3d\":[{\"type\":\"scatter3d\",\"line\":{\"colorbar\":{\"outlinewidth\":0,\"ticks\":\"\"}},\"marker\":{\"colorbar\":{\"outlinewidth\":0,\"ticks\":\"\"}}}],\"scattermapbox\":[{\"type\":\"scattermapbox\",\"marker\":{\"colorbar\":{\"outlinewidth\":0,\"ticks\":\"\"}}}],\"scatterternary\":[{\"type\":\"scatterternary\",\"marker\":{\"colorbar\":{\"outlinewidth\":0,\"ticks\":\"\"}}}],\"scattercarpet\":[{\"type\":\"scattercarpet\",\"marker\":{\"colorbar\":{\"outlinewidth\":0,\"ticks\":\"\"}}}],\"carpet\":[{\"aaxis\":{\"endlinecolor\":\"#2a3f5f\",\"gridcolor\":\"white\",\"linecolor\":\"white\",\"minorgridcolor\":\"white\",\"startlinecolor\":\"#2a3f5f\"},\"baxis\":{\"endlinecolor\":\"#2a3f5f\",\"gridcolor\":\"white\",\"linecolor\":\"white\",\"minorgridcolor\":\"white\",\"startlinecolor\":\"#2a3f5f\"},\"type\":\"carpet\"}],\"table\":[{\"cells\":{\"fill\":{\"color\":\"#EBF0F8\"},\"line\":{\"color\":\"white\"}},\"header\":{\"fill\":{\"color\":\"#C8D4E3\"},\"line\":{\"color\":\"white\"}},\"type\":\"table\"}],\"barpolar\":[{\"marker\":{\"line\":{\"color\":\"#E5ECF6\",\"width\":0.5},\"pattern\":{\"fillmode\":\"overlay\",\"size\":10,\"solidity\":0.2}},\"type\":\"barpolar\"}],\"pie\":[{\"automargin\":true,\"type\":\"pie\"}]},\"layout\":{\"autotypenumbers\":\"strict\",\"colorway\":[\"#636efa\",\"#EF553B\",\"#00cc96\",\"#ab63fa\",\"#FFA15A\",\"#19d3f3\",\"#FF6692\",\"#B6E880\",\"#FF97FF\",\"#FECB52\"],\"font\":{\"color\":\"#2a3f5f\"},\"hovermode\":\"closest\",\"hoverlabel\":{\"align\":\"left\"},\"paper_bgcolor\":\"white\",\"plot_bgcolor\":\"#E5ECF6\",\"polar\":{\"bgcolor\":\"#E5ECF6\",\"angularaxis\":{\"gridcolor\":\"white\",\"linecolor\":\"white\",\"ticks\":\"\"},\"radialaxis\":{\"gridcolor\":\"white\",\"linecolor\":\"white\",\"ticks\":\"\"}},\"ternary\":{\"bgcolor\":\"#E5ECF6\",\"aaxis\":{\"gridcolor\":\"white\",\"linecolor\":\"white\",\"ticks\":\"\"},\"baxis\":{\"gridcolor\":\"white\",\"linecolor\":\"white\",\"ticks\":\"\"},\"caxis\":{\"gridcolor\":\"white\",\"linecolor\":\"white\",\"ticks\":\"\"}},\"coloraxis\":{\"colorbar\":{\"outlinewidth\":0,\"ticks\":\"\"}},\"colorscale\":{\"sequential\":[[0.0,\"#0d0887\"],[0.1111111111111111,\"#46039f\"],[0.2222222222222222,\"#7201a8\"],[0.3333333333333333,\"#9c179e\"],[0.4444444444444444,\"#bd3786\"],[0.5555555555555556,\"#d8576b\"],[0.6666666666666666,\"#ed7953\"],[0.7777777777777778,\"#fb9f3a\"],[0.8888888888888888,\"#fdca26\"],[1.0,\"#f0f921\"]],\"sequentialminus\":[[0.0,\"#0d0887\"],[0.1111111111111111,\"#46039f\"],[0.2222222222222222,\"#7201a8\"],[0.3333333333333333,\"#9c179e\"],[0.4444444444444444,\"#bd3786\"],[0.5555555555555556,\"#d8576b\"],[0.6666666666666666,\"#ed7953\"],[0.7777777777777778,\"#fb9f3a\"],[0.8888888888888888,\"#fdca26\"],[1.0,\"#f0f921\"]],\"diverging\":[[0,\"#8e0152\"],[0.1,\"#c51b7d\"],[0.2,\"#de77ae\"],[0.3,\"#f1b6da\"],[0.4,\"#fde0ef\"],[0.5,\"#f7f7f7\"],[0.6,\"#e6f5d0\"],[0.7,\"#b8e186\"],[0.8,\"#7fbc41\"],[0.9,\"#4d9221\"],[1,\"#276419\"]]},\"xaxis\":{\"gridcolor\":\"white\",\"linecolor\":\"white\",\"ticks\":\"\",\"title\":{\"standoff\":15},\"zerolinecolor\":\"white\",\"automargin\":true,\"zerolinewidth\":2},\"yaxis\":{\"gridcolor\":\"white\",\"linecolor\":\"white\",\"ticks\":\"\",\"title\":{\"standoff\":15},\"zerolinecolor\":\"white\",\"automargin\":true,\"zerolinewidth\":2},\"scene\":{\"xaxis\":{\"backgroundcolor\":\"#E5ECF6\",\"gridcolor\":\"white\",\"linecolor\":\"white\",\"showbackground\":true,\"ticks\":\"\",\"zerolinecolor\":\"white\",\"gridwidth\":2},\"yaxis\":{\"backgroundcolor\":\"#E5ECF6\",\"gridcolor\":\"white\",\"linecolor\":\"white\",\"showbackground\":true,\"ticks\":\"\",\"zerolinecolor\":\"white\",\"gridwidth\":2},\"zaxis\":{\"backgroundcolor\":\"#E5ECF6\",\"gridcolor\":\"white\",\"linecolor\":\"white\",\"showbackground\":true,\"ticks\":\"\",\"zerolinecolor\":\"white\",\"gridwidth\":2}},\"shapedefaults\":{\"line\":{\"color\":\"#2a3f5f\"}},\"annotationdefaults\":{\"arrowcolor\":\"#2a3f5f\",\"arrowhead\":0,\"arrowwidth\":1},\"geo\":{\"bgcolor\":\"white\",\"landcolor\":\"#E5ECF6\",\"subunitcolor\":\"white\",\"showland\":true,\"showlakes\":true,\"lakecolor\":\"white\"},\"title\":{\"x\":0.05},\"mapbox\":{\"style\":\"light\"}}},\"xaxis\":{\"anchor\":\"y\",\"domain\":[0.0,1.0],\"title\":{\"text\":\"Year\"}},\"yaxis\":{\"anchor\":\"x\",\"domain\":[0.0,1.0],\"title\":{\"text\":\"Temperature (\\u02daC)\"}},\"legend\":{\"title\":{\"text\":\"Underground lines\"},\"tracegroupgap\":0},\"title\":{\"text\":\"Mean Temperature on TFL Underground lines\"}},                        {\"responsive\": true}                    ).then(function(){\n",
       "                            \n",
       "var gd = document.getElementById('7a6bbfbe-a5f2-48bf-bd00-9f51e5c0c88f');\n",
       "var x = new MutationObserver(function (mutations, observer) {{\n",
       "        var display = window.getComputedStyle(gd).display;\n",
       "        if (!display || display === 'none') {{\n",
       "            console.log([gd, 'removed!']);\n",
       "            Plotly.purge(gd);\n",
       "            observer.disconnect();\n",
       "        }}\n",
       "}});\n",
       "\n",
       "// Listen for the removal of the full notebook cells\n",
       "var notebookContainer = gd.closest('#notebook-container');\n",
       "if (notebookContainer) {{\n",
       "    x.observe(notebookContainer, {childList: true});\n",
       "}}\n",
       "\n",
       "// Listen for the clearing of the current output cell\n",
       "var outputEl = gd.closest('.output');\n",
       "if (outputEl) {{\n",
       "    x.observe(outputEl, {childList: true});\n",
       "}}\n",
       "\n",
       "                        })                };                });            </script>        </div>"
      ]
     },
     "metadata": {},
     "output_type": "display_data"
    }
   ],
   "source": [
    "px.scatter(df_byyears,\n",
    "           x=\"Year\",\n",
    "           y=[\"Bakerloo\",\n",
    "              \"Central\",\n",
    "              \"Jubilee\",\n",
    "              \"Northern\",\n",
    "              \"Piccadilly\",\n",
    "              \"Victoria\",\n",
    "              \"Waterloo_and_City\",\n",
    "              \"Subsurface_lines\"],\n",
    "           color_discrete_map=\n",
    "           {\"Bakerloo\": 'rgb(179,98,5)',\n",
    "            \"Central\": 'rgb(227,13,23)',\n",
    "            \"Jubilee\": 'rgb(160,165,169)',\n",
    "            \"Northern\": 'rgb(0,0,0)',\n",
    "            \"Piccadilly\": 'rgb(0,54,136)', \n",
    "            \"Victoria\": 'rgb(0,152,212)', \n",
    "            \"Waterloo_and_City\": 'rgb(149,205,186)', \n",
    "            \"Subsurface_lines\":'rgb(255,211,0)'},\n",
    "           labels={\"period\": \"Month & year\",\n",
    "                   \"value\": \"Temperature (˚C)\",\n",
    "                   \"variable\": \"Underground lines\"\n",
    "                  },\n",
    "           trendline='lowess',\n",
    "           title='Mean Temperature on TFL Underground lines'\n",
    "          )"
   ]
  },
  {
   "cell_type": "markdown",
   "metadata": {},
   "source": [
    "### Observations\n",
    "* A reason for the significant drop in avg. temperature in 2020 is likely due to the reduced travel caused by COVID-19 restrictions resulting in less heat on trains.\n",
    "* It is likely that changes to climate are impacting the temperatures experienced on trains.\n",
    "* The Subsurface lines (Circle, District, Metropolitan, Hammersmith & City lines) are stocked by the 'S Stock' S7 & S8 trains which are air-conditioned throughout. The subsurface tunnels also allow the exhausted hot air to disperse.\n",
    "* It seems that the avg. temperature of the Victoria line is going up by __0.72 degrees__ yearly! This is significantly higher than other deep-level tube lines. There seems to be no sufficient explanation for this. The Victoria line is also the [only line to be wholly-underground, unlike others](https://www.mylondon.news/news/zone-1-news/london-underground-employee-explains-victoria-24708836) so one might postulate that trapped heat would have a hard time escaping and sink into the tunnel walls. \n",
    "\n"
   ]
  },
  {
   "cell_type": "markdown",
   "metadata": {},
   "source": [
    "### Limitations \n",
    "It's important to acknowledge the limitations of the data used in this analysis in order to have a better understanding of the results and conclusions drawn from it. Some of the limitations of the data used in this analysis of average temperature on TFL underground lines include:\n",
    "\n",
    "* Data Availability: The availability of data is currently only from January 2013 to December 2020. Additionally, only London Underground lines are made available in this dataset, leaving out data from the London Overground & Elizabeth line (Formerly TFL Rail) for this period._‡_\n",
    "\n",
    "\n",
    "* Data Size: The dataset as currently available is only monthly averages and does not go into more detail to know the temperatures on individual days of the month on trains. A more populated dataset would provide more information and allow for more detailed analysis.\n",
    "\n",
    "\n",
    "* External Factors: External factors such as weather conditions, passenger density, and other variables may impact the temperature on TFL trains and are not captured in the data. For example, drastically reduced passenger ridership in 2020, resulting from the COVID-19 pandemic, likely contributes to lower temperatures.\n",
    "\n",
    "\n",
    "By acknowledging these limitations, the results of the analysis can be properly contextualized and the validity of the conclusions can be better assessed.\n",
    "\n",
    "\n",
    "_‡_ _As of publishing, I have filed a Freedom of Information request to TfL inquiring about this data and future updates to include 2021-2022 data. This notebook will be updated as that information is provided_."
   ]
  },
  {
   "cell_type": "markdown",
   "metadata": {},
   "source": [
    "## Can the weather tell us anything about the tube temperatures? 🌧️"
   ]
  },
  {
   "cell_type": "code",
   "execution_count": 275,
   "metadata": {
    "ExecuteTime": {
     "end_time": "2023-02-01T13:21:26.881528Z",
     "start_time": "2023-02-01T13:21:26.156379Z"
    },
    "scrolled": false
   },
   "outputs": [
    {
     "data": {
      "image/png": "[encoded data removed]",
      "text/plain": [
       "<Figure size 640x480 with 2 Axes>"
      ]
     },
     "metadata": {},
     "output_type": "display_data"
    }
   ],
   "source": [
    "# To help with this, we can build a heatmap of correlations\n",
    "correlation_matrix = df_merged.drop(columns=['Year', \n",
    "                                             'Month',   \n",
    "                                             'max_temp', \n",
    "                                             'min_temp']).corr(numeric_only=True)\n",
    "column_names = correlation_matrix.columns\n",
    "sns.heatmap(correlation_matrix, \n",
    "            xticklabels=column_names, \n",
    "            yticklabels=column_names,\n",
    "            cmap= \"bwr\");"
   ]
  },
  {
   "cell_type": "markdown",
   "metadata": {},
   "source": [
    "##### Observations\n",
    "* The weather factors have particularly poor correlation to the underground temperatures, especially precipitation and cloud cover. \n",
    "* Sunshine has weak but noticeable correlation but is more indicative of ambient temperature so may not ultimately be useful. \n",
    "\n",
    "_Next we will find out how much ambient temperature impacts specific lines._"
   ]
  },
  {
   "cell_type": "markdown",
   "metadata": {},
   "source": [
    "##### As seen in the chart above, the Subsurface line lines (Central, District, Metropolitan, Hammersmith & City lines) are significantly cooler "
   ]
  },
  {
   "cell_type": "code",
   "execution_count": 276,
   "metadata": {
    "ExecuteTime": {
     "end_time": "2023-02-01T13:21:30.470087Z",
     "start_time": "2023-02-01T13:21:26.887396Z"
    },
    "scrolled": false
   },
   "outputs": [
    {
     "data": {
      "image/png": "[encoded data removed]",
      "text/plain": [
       "<Figure size 1200x2000 with 9 Axes>"
      ]
     },
     "metadata": {},
     "output_type": "display_data"
    }
   ],
   "source": [
    "# plot multiple columns such as population and year from dataframe\n",
    "colors = [(0.701, 0.384, 0.019), \n",
    "          (0.890, 0.051, 0.090),\n",
    "          (0.627, 0.647, 0.662),\n",
    "          (0.0, 0.0, 0.0),\n",
    "          (0.0, 0.211, 0.533),\n",
    "          (0.0, 0.596, 0.831),\n",
    "          (0.584, 0.803, 0.729),\n",
    "          (1.0, 0.827, 0.0)\n",
    "         ] # Setting the colormap for all underground lines\n",
    "\n",
    "df_merged.plot(x=\"Period\", y=[\"Bakerloo\",\n",
    "                              \"Central\",\n",
    "                              \"Jubilee\",\n",
    "                              \"Northern\", \n",
    "                              \"Piccadilly\",\n",
    "                              \"Victoria\", \n",
    "                              \"Waterloo_and_City\",\n",
    "                              \"Subsurface_lines\", \n",
    "                              \"mean_temp\"],\n",
    "               grid=True,\n",
    "               subplots=True,\n",
    "               kind=\"line\",\n",
    "               ylim=(0, 40),\n",
    "               figsize=(12, 20),\n",
    "               rot=45,\n",
    "               stacked=True,\n",
    "               xticks=[x * 6 for x in range(17)], # Setting the x ticks to be periodic \n",
    "               color=colors\n",
    "              );"
   ]
  },
  {
   "cell_type": "code",
   "execution_count": 277,
   "metadata": {
    "ExecuteTime": {
     "end_time": "2023-02-01T13:21:33.663871Z",
     "start_time": "2023-02-01T13:21:30.476581Z"
    }
   },
   "outputs": [
    {
     "data": {
      "image/png": "[encoded data removed]",
      "text/plain": [
       "<Figure size 1500x1000 with 8 Axes>"
      ]
     },
     "metadata": {},
     "output_type": "display_data"
    }
   ],
   "source": [
    "y=[\"Bakerloo\",\n",
    "   \"Central\",\n",
    "   \"Jubilee\",\n",
    "   \"Northern\", \n",
    "   \"Piccadilly\",\n",
    "   \"Victoria\", \n",
    "   \"Waterloo_and_City\",\n",
    "   \"Subsurface_lines\"] \n",
    "colors = [(0.701, 0.384, 0.019), \n",
    "          (0.890, 0.051, 0.090),\n",
    "          (0.627, 0.647, 0.662),\n",
    "          (0.0, 0.0, 0.0),\n",
    "          (0.0, 0.211, 0.533),\n",
    "          (0.0, 0.596, 0.831),\n",
    "          (0.584, 0.803, 0.729),\n",
    "          (1.0, 0.827, 0.0)] # All the underground TfL lines and their associated colour scheme\n",
    "    \n",
    "fig, ax = plt.subplots(nrows=2, \n",
    "                       ncols=4,\n",
    "                       sharex=True,\n",
    "                       sharey=True,\n",
    "                       figsize=(15,10)) # Makes cool subplots\n",
    "for i in range(8):\n",
    "    row = i // 4 # Assigns the row of the plots by floor division\n",
    "    col = i % 4 # Assigns the column of the plots by modulo\n",
    "    sns.regplot(df_merged[0:83], #I decided to drop 2020 entirely, due to inconsistent trends in the data\n",
    "                x=\"mean_temp\",\n",
    "                y=y[i], \n",
    "                color=colors[i],\n",
    "                ax=ax[row][col])\n",
    "    ax[row][col].set_title(y[i] + \" Line\\n\" + \"R-squared = \" + str(round(df_merged[0:83].corr(numeric_only=True).loc[\"mean_temp\",y[i]]**2, 3)))\n",
    "    # Writes the r-squared value for each plot, rounded to 3 decimal places"
   ]
  },
  {
   "cell_type": "markdown",
   "metadata": {},
   "source": [
    "### Observations\n",
    "As we can see from the plots, the ambient temperature in London is generally predictive of the temperature on different TfL Underground lines. However, how predictive it is varies for each line.\n",
    "* The Subsurface Lines have an R-squared number of 0.976. These lines are air-conditioned with [very specific thermostat settings](https://tfl.gov.uk/corporate/transparency/freedom-of-information/foi-request-detail?referenceId=FOI-0659-1920) which would explain the strong correlation.\n",
    "* Most lines are generally within 0.75 to 0.95 with variation from the ambient (how much hotter the tube is than ambient) between 2 and 14˚C. \n",
    "* The most erratic line is the Victoria line only registering an R-squared number of 0.6. It has been very challenging to find any data or reasonable explanations for the trends exhibited by the Victoria line data. It has the newest stock of any line besides the Subsurface lines and is equipped with regenerative braking. As of 2019, the line also became the 2nd hottest line on the Underground network. As mentioned earlier, it is possible that the fact it is the only wholly-undergound line could be a factor but without further data or context, it is hard to ascertain what causes this."
   ]
  },
  {
   "cell_type": "code",
   "execution_count": 281,
   "metadata": {
    "ExecuteTime": {
     "end_time": "2023-02-01T13:22:22.930234Z",
     "start_time": "2023-02-01T13:22:22.821852Z"
    },
    "scrolled": false
   },
   "outputs": [
    {
     "name": "stdout",
     "output_type": "stream",
     "text": [
      "Bakerloo Line\n",
      "Intercept    21.116709\n",
      "mean_temp     0.481691\n",
      "dtype: float64\n",
      " \n",
      "Central Line\n",
      "Intercept    19.392019\n",
      "mean_temp     0.546762\n",
      "dtype: float64\n",
      " \n",
      "Jubilee Line\n",
      "Intercept    16.310651\n",
      "mean_temp     0.502946\n",
      "dtype: float64\n",
      " \n",
      "Northern Line\n",
      "Intercept    19.464919\n",
      "mean_temp     0.421984\n",
      "dtype: float64\n",
      " \n",
      "Piccadilly Line\n",
      "Intercept    17.097340\n",
      "mean_temp     0.511716\n",
      "dtype: float64\n",
      " \n",
      "Victoria Line\n",
      "Intercept    19.262670\n",
      "mean_temp     0.444545\n",
      "dtype: float64\n",
      " \n",
      "Waterloo_and_City Line\n",
      "Intercept    16.274327\n",
      "mean_temp     0.441093\n",
      "dtype: float64\n",
      " \n",
      "Subsurface_lines Line\n",
      "Intercept    8.096067\n",
      "mean_temp    0.871229\n",
      "dtype: float64\n",
      " \n"
     ]
    }
   ],
   "source": [
    "# Using statsmodels we can find the parameters of the correlations we created.\n",
    "import statsmodels.formula.api as smf\n",
    "y=[\"Bakerloo\",\n",
    "   \"Central\",\n",
    "   \"Jubilee\",\n",
    "   \"Northern\", \n",
    "   \"Piccadilly\",\n",
    "   \"Victoria\", \n",
    "   \"Waterloo_and_City\",\n",
    "   \"Subsurface_lines\"] \n",
    "\n",
    "for i in range(8):\n",
    "    print(y[i] + \" Line\")\n",
    "    y[i] = smf.ols(formula = f\"{y[i]} ~ mean_temp\", data=df_merged).fit()\n",
    "    print(y[i].params)\n",
    "    print(' ')\n",
    "    "
   ]
  },
  {
   "cell_type": "markdown",
   "metadata": {},
   "source": [
    "Above, we have the parameters of the correlation lines we created. Here is what the parameters represent:\n",
    "- The intercept represents what the temperature of each carriage would be should the ambient temperature be 0˚C. For example, the Bakerloo line has an intercept of 21.12˚C. This suggests the carriage temperature would be 21.12˚C when the ambient temperature is 0˚C.\n",
    "- The gradient (called mean_temp here) is representative of how much change in ambient temperature affects carriage temperature. For example, The Jubilee line has a gradient of 0.503. This suggests that 1˚ increase in ambient temperature leads to 0.503˚ increase in carrriage temperature."
   ]
  },
  {
   "cell_type": "markdown",
   "metadata": {},
   "source": [
    "### Conclusion\n",
    "An article published by [Rail Engineering](https://assets.markallengroup.com//article-images/23757/cooling.pdf) gave detail of computer modelling run on the Victoria line and found the major heat sources and sinks as follows:\n",
    "\n",
    "| Heat source\t                 |%   | Heat Sinks         |%   |\n",
    "| -------------------------------|----|--------------------|----|\n",
    "| Braking losses\t             |38% | Tunnel Walls       |79% |\n",
    "| Mechanical losses              |22% | Tunnels            |11% |\n",
    "| Drive losses\t                 |16% | Ventilation Shafts |10% |\n",
    "| Train auxiliaries\t             |13% |                    |-   |\n",
    "| Tunnel systems\t             |4%  |                    |-   |\n",
    "| Station systems and passengers |4%  |                    |-   |\n",
    "| Train passengers\t             |3%  |                    |-   |\n",
    "\n",
    "That puts _89%_ of all heated generated in tube systems on the train itelf. The article also goes on to suggest that the root of the problem is that the biggest heat sink is failing as the temperature behind the walls rises into the clay, storing the heat. The issue of cooling the tube is so complex that the former mayor of London, Ken Livingstone, offered a prize of __£100,000__ to anyone who could put forward a viable solution. After several years of the reward being on offer, TfL announced that *[none of the 3,500 submissions were suitable.](https://www.standard.co.uk/hp/front/aps100-000-prize-for-cooling-tube-goes-unclaimed-7204222.html)* \n",
    "   \n",
    "18 years on from then, temperatures have only risen and it is deeply worrying that the high temperatures have led to further medical emergencies on the underground. As of today, the current stock of TfL trains is as follows:\n",
    "\n",
    "| TfL Underground line | Operating Stock  | Regenerative Braking           | Air-Conditioning  | Planned Restock?    |\n",
    "| :------------------  | :--------------: |--------------------------------|  :--------------: |---------------------|\n",
    "| __Bakerloo__         | 1972 Stock       | No - Stock pre-dates technology| No                | Yes - No timeline*  |\n",
    "| __Central__          | 1992 Stock       | Yes - 790VDC                   | No                | Yes - No timeline*  |\n",
    "| __Jubilee__          | 1996 Stock       | Yes - 790VDC**                 | No                | None                |\n",
    "| __Northern__         | 1995 Stock       | Yes - 790VDC                   | No                | None                |\n",
    "| __Piccadilly__       | 1973 Stock       | No - Stock pre-dates technology| No                | Yes - Expected 2025 |\n",
    "| __Victoria__         | 2009 Stock       | Yes - 890VDC                   | No                | None                |\n",
    "| __Waterloo & City__  | 1992 Stock       | Yes - 790VDC                   | No                | Yes - No timeline*  |\n",
    "| __SubSurface Lines__***| S7/S8 (2012-2014)| Yes - 650/790/890 VDC****   | Yes               | None                |\n",
    "Sources:\n",
    "[FOI-2080-2021](https://tfl.gov.uk/corporate/transparency/freedom-of-information/foi-request-detail?referenceId=FOI-2080-2021)\n",
    "[Piccadilly Upgrade](https://tfl.gov.uk/travel-information/improvements-and-projects/piccadilly-line-upgrade)\n",
    "[New Tube for London](https://tfl.gov.uk/info-for/media/press-releases/2014/october/design-for-the-new-tube-for-london-revealed)\n",
    "\n",
    "|Notes: |\n",
    "|:------:|\n",
    "|*All to be restocked under the New Tube for London project, no up-to-date timeline. |\n",
    "|**Soon to be upgraded to 890VDC\n",
    "|***SubSurface Lines include the Circle, District, Metropolitan and Hammersmith & City lines.|\n",
    "|****Depends on location of the train and other assets operating in those areas.|\n",
    "\n",
    "\n",
    "TfL is in the early stages of upgrading the Piccadilly, Bakerloo, Central and Waterloo & City lines under the New Tube for London project. All these lines are expected to be stocked with the [Siemens Mobility 'InspiroLondon'](https://www.mobility.siemens.com/global/en/portfolio/references/metro-london.html) trains. \n",
    "\n",
    "The Piccadilly line will be the first to see upgrades and is expected to have [new trains installed by 2025](https://tfl.gov.uk/info-for/media/press-releases/2021/march/tfl-and-siemens-mobility-unveil-detailed-design-of-new-piccadilly-line-trains) to serve the public, although this is already well behind schedule.\n",
    "\n",
    "The Bakerloo line, which [operates the oldest train stock in the nation](https://www.mylondon.news/news/zone-1-news/london-underground-trains-officially-oldest-20672857) is expected to have new trains ordered in the financial year 2023/24. This, ignoring the potential for delays or setbacks, would mean that new trains would not be installed until the mid-2030s. This also goes for the notoriously busy Central line. These two lines have routinely ranked as the hottest lines on the tube network and will potentially be without stock upgrades for at least the next decade. \n",
    "\n",
    "Without of proper monitoring and mitigation measures, it is very likely this could lead to further exacerbation of these issues, putting passengers and train performance at risk. Realistically, there is only so much that can be done with the TfL Network still reeling from the effects of the COVID-19 pandemic as it seeks to post an operating surplus for the financial year 2022/23.\n",
    "\n",
    "To learn more about the TfL undergound rolling train stock, [see this document](https://www.whatdotheyknow.com/request/239641/response/590412/attach/3/RS%20Info%20Sheets%204%20Edition.pdf)"
   ]
  },
  {
   "cell_type": "markdown",
   "metadata": {},
   "source": [
    "Thank you for your interest in this project! Check out what I'm working on next on [GitHub](https://github.com/Osakwe1)"
   ]
  }
 ],
 "metadata": {
  "colab": {
   "provenance": []
  },
  "kernelspec": {
   "display_name": "Python 3 (ipykernel)",
   "language": "python",
   "name": "python3"
  },
  "language_info": {
   "codemirror_mode": {
    "name": "ipython",
    "version": 3
   },
   "file_extension": ".py",
   "mimetype": "text/x-python",
   "name": "python",
   "nbconvert_exporter": "python",
   "pygments_lexer": "ipython3",
   "version": "3.10.6"
  },
  "toc": {
   "base_numbering": 1,
   "nav_menu": {},
   "number_sections": false,
   "sideBar": true,
   "skip_h1_title": false,
   "title_cell": "Table of Contents",
   "title_sidebar": "Contents",
   "toc_cell": false,
   "toc_position": {
    "height": "calc(100% - 180px)",
    "left": "10px",
    "top": "150px",
    "width": "223px"
   },
   "toc_section_display": true,
   "toc_window_display": false
  },
  "varInspector": {
   "cols": {
    "lenName": 16,
    "lenType": 16,
    "lenVar": 40
   },
   "kernels_config": {
    "python": {
     "delete_cmd_postfix": "",
     "delete_cmd_prefix": "del ",
     "library": "var_list.py",
     "varRefreshCmd": "print(var_dic_list())"
    },
    "r": {
     "delete_cmd_postfix": ") ",
     "delete_cmd_prefix": "rm(",
     "library": "var_list.r",
     "varRefreshCmd": "cat(var_dic_list()) "
    }
   },
   "types_to_exclude": [
    "module",
    "function",
    "builtin_function_or_method",
    "instance",
    "_Feature"
   ],
   "window_display": false
  },
  "vscode": {
   "interpreter": {
    "hash": "fb9c0ba32336cd5393e6ce22aaebd9017ac63a74566b80032dceda5b3e6885e8"
   }
  }
 },
 "nbformat": 4,
 "nbformat_minor": 1
}
